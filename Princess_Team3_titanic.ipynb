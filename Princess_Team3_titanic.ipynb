{
  "cells": [
    {
      "cell_type": "markdown",
      "metadata": {
        "id": "view-in-github",
        "colab_type": "text"
      },
      "source": [
        "<a href=\"https://colab.research.google.com/github/Princess-Mcdonald/Ai-School-Team3-Titanic-Project/blob/main/Princess_Team3_titanic.ipynb\" target=\"_parent\"><img src=\"https://colab.research.google.com/assets/colab-badge.svg\" alt=\"Open In Colab\"/></a>"
      ]
    },
    {
      "cell_type": "markdown",
      "metadata": {
        "id": "y2DcDai9p-D5"
      },
      "source": [
        "## **Modules Import**\n"
      ]
    },
    {
      "cell_type": "code",
      "execution_count": 2,
      "metadata": {
        "id": "dNP4EPXAp-EB"
      },
      "outputs": [],
      "source": [
        "from collections import Counter #This method returns the list of elements in the counter.\n",
        "import string\n",
        "\n",
        "import numpy as np\n",
        "import pandas as pd\n",
        "import matplotlib as mpl\n",
        "import matplotlib.pyplot as plt\n",
        "import seaborn as sns"
      ]
    },
    {
      "cell_type": "markdown",
      "metadata": {
        "id": "F9jsqZ4ep-EJ"
      },
      "source": [
        "## **Datasets Import**\n",
        "###  Brief description on the 'Training' and 'Testing' dataset.\n",
        "######  ---A training dataset is an initial dataset that teaches the ML models to identify desired patterns or perform a particular task, On this we can train different machine learning algorithms in hopes of finding the best fit for the problem to be solved.\n",
        "\n",
        "######--- The testing data is the dataset on which the model that has been trained, on the training dataset is accurate enough to solve the problem at hand."
      ]
    },
    {
      "cell_type": "code",
      "execution_count": 3,
      "metadata": {
        "id": "1-OsGoNip-EL"
      },
      "outputs": [],
      "source": [
        "train = pd.read_csv('/content/AI-school-main/Titanic Project/titanic/train.csv')\n",
        "test = pd.read_csv('/content/AI-school-main/Titanic Project/titanic/test.csv')"
      ]
    },
    {
      "cell_type": "code",
      "execution_count": 4,
      "metadata": {
        "id": "rpaHL1erp-EN"
      },
      "outputs": [],
      "source": [
        "titanic = pd.concat([train, test]) #Concat function was used here to combine dataframes along rows or columns. Think of it as stacking up multiple dataframes. "
      ]
    },
    {
      "cell_type": "markdown",
      "metadata": {
        "id": "KtSiv0KYp-EO"
      },
      "source": [
        "## **Checking out the train and test dataset.**\n",
        "####Checking the first and last 5 rows of the dataset to understand the type of dataset we are workingt on."
      ]
    },
    {
      "cell_type": "code",
      "execution_count": 5,
      "metadata": {
        "colab": {
          "base_uri": "https://localhost:8080/",
          "height": 285
        },
        "id": "tBuxSk9hp-EP",
        "outputId": "d1192814-9686-48b2-f418-b5104d033639"
      },
      "outputs": [
        {
          "output_type": "execute_result",
          "data": {
            "text/plain": [
              "     PassengerId  Survived  Pclass                                      Name  \\\n",
              "886          887         0       2                     Montvila, Rev. Juozas   \n",
              "887          888         1       1              Graham, Miss. Margaret Edith   \n",
              "888          889         0       3  Johnston, Miss. Catherine Helen \"Carrie\"   \n",
              "889          890         1       1                     Behr, Mr. Karl Howell   \n",
              "890          891         0       3                       Dooley, Mr. Patrick   \n",
              "\n",
              "        Sex   Age  SibSp  Parch      Ticket   Fare Cabin Embarked  \n",
              "886    male  27.0      0      0      211536  13.00   NaN        S  \n",
              "887  female  19.0      0      0      112053  30.00   B42        S  \n",
              "888  female   NaN      1      2  W./C. 6607  23.45   NaN        S  \n",
              "889    male  26.0      0      0      111369  30.00  C148        C  \n",
              "890    male  32.0      0      0      370376   7.75   NaN        Q  "
            ],
            "text/html": [
              "\n",
              "  <div id=\"df-4a07ae3e-0ed4-437f-92c8-2d09e9244a71\">\n",
              "    <div class=\"colab-df-container\">\n",
              "      <div>\n",
              "<style scoped>\n",
              "    .dataframe tbody tr th:only-of-type {\n",
              "        vertical-align: middle;\n",
              "    }\n",
              "\n",
              "    .dataframe tbody tr th {\n",
              "        vertical-align: top;\n",
              "    }\n",
              "\n",
              "    .dataframe thead th {\n",
              "        text-align: right;\n",
              "    }\n",
              "</style>\n",
              "<table border=\"1\" class=\"dataframe\">\n",
              "  <thead>\n",
              "    <tr style=\"text-align: right;\">\n",
              "      <th></th>\n",
              "      <th>PassengerId</th>\n",
              "      <th>Survived</th>\n",
              "      <th>Pclass</th>\n",
              "      <th>Name</th>\n",
              "      <th>Sex</th>\n",
              "      <th>Age</th>\n",
              "      <th>SibSp</th>\n",
              "      <th>Parch</th>\n",
              "      <th>Ticket</th>\n",
              "      <th>Fare</th>\n",
              "      <th>Cabin</th>\n",
              "      <th>Embarked</th>\n",
              "    </tr>\n",
              "  </thead>\n",
              "  <tbody>\n",
              "    <tr>\n",
              "      <th>886</th>\n",
              "      <td>887</td>\n",
              "      <td>0</td>\n",
              "      <td>2</td>\n",
              "      <td>Montvila, Rev. Juozas</td>\n",
              "      <td>male</td>\n",
              "      <td>27.0</td>\n",
              "      <td>0</td>\n",
              "      <td>0</td>\n",
              "      <td>211536</td>\n",
              "      <td>13.00</td>\n",
              "      <td>NaN</td>\n",
              "      <td>S</td>\n",
              "    </tr>\n",
              "    <tr>\n",
              "      <th>887</th>\n",
              "      <td>888</td>\n",
              "      <td>1</td>\n",
              "      <td>1</td>\n",
              "      <td>Graham, Miss. Margaret Edith</td>\n",
              "      <td>female</td>\n",
              "      <td>19.0</td>\n",
              "      <td>0</td>\n",
              "      <td>0</td>\n",
              "      <td>112053</td>\n",
              "      <td>30.00</td>\n",
              "      <td>B42</td>\n",
              "      <td>S</td>\n",
              "    </tr>\n",
              "    <tr>\n",
              "      <th>888</th>\n",
              "      <td>889</td>\n",
              "      <td>0</td>\n",
              "      <td>3</td>\n",
              "      <td>Johnston, Miss. Catherine Helen \"Carrie\"</td>\n",
              "      <td>female</td>\n",
              "      <td>NaN</td>\n",
              "      <td>1</td>\n",
              "      <td>2</td>\n",
              "      <td>W./C. 6607</td>\n",
              "      <td>23.45</td>\n",
              "      <td>NaN</td>\n",
              "      <td>S</td>\n",
              "    </tr>\n",
              "    <tr>\n",
              "      <th>889</th>\n",
              "      <td>890</td>\n",
              "      <td>1</td>\n",
              "      <td>1</td>\n",
              "      <td>Behr, Mr. Karl Howell</td>\n",
              "      <td>male</td>\n",
              "      <td>26.0</td>\n",
              "      <td>0</td>\n",
              "      <td>0</td>\n",
              "      <td>111369</td>\n",
              "      <td>30.00</td>\n",
              "      <td>C148</td>\n",
              "      <td>C</td>\n",
              "    </tr>\n",
              "    <tr>\n",
              "      <th>890</th>\n",
              "      <td>891</td>\n",
              "      <td>0</td>\n",
              "      <td>3</td>\n",
              "      <td>Dooley, Mr. Patrick</td>\n",
              "      <td>male</td>\n",
              "      <td>32.0</td>\n",
              "      <td>0</td>\n",
              "      <td>0</td>\n",
              "      <td>370376</td>\n",
              "      <td>7.75</td>\n",
              "      <td>NaN</td>\n",
              "      <td>Q</td>\n",
              "    </tr>\n",
              "  </tbody>\n",
              "</table>\n",
              "</div>\n",
              "      <button class=\"colab-df-convert\" onclick=\"convertToInteractive('df-4a07ae3e-0ed4-437f-92c8-2d09e9244a71')\"\n",
              "              title=\"Convert this dataframe to an interactive table.\"\n",
              "              style=\"display:none;\">\n",
              "        \n",
              "  <svg xmlns=\"http://www.w3.org/2000/svg\" height=\"24px\"viewBox=\"0 0 24 24\"\n",
              "       width=\"24px\">\n",
              "    <path d=\"M0 0h24v24H0V0z\" fill=\"none\"/>\n",
              "    <path d=\"M18.56 5.44l.94 2.06.94-2.06 2.06-.94-2.06-.94-.94-2.06-.94 2.06-2.06.94zm-11 1L8.5 8.5l.94-2.06 2.06-.94-2.06-.94L8.5 2.5l-.94 2.06-2.06.94zm10 10l.94 2.06.94-2.06 2.06-.94-2.06-.94-.94-2.06-.94 2.06-2.06.94z\"/><path d=\"M17.41 7.96l-1.37-1.37c-.4-.4-.92-.59-1.43-.59-.52 0-1.04.2-1.43.59L10.3 9.45l-7.72 7.72c-.78.78-.78 2.05 0 2.83L4 21.41c.39.39.9.59 1.41.59.51 0 1.02-.2 1.41-.59l7.78-7.78 2.81-2.81c.8-.78.8-2.07 0-2.86zM5.41 20L4 18.59l7.72-7.72 1.47 1.35L5.41 20z\"/>\n",
              "  </svg>\n",
              "      </button>\n",
              "      \n",
              "  <style>\n",
              "    .colab-df-container {\n",
              "      display:flex;\n",
              "      flex-wrap:wrap;\n",
              "      gap: 12px;\n",
              "    }\n",
              "\n",
              "    .colab-df-convert {\n",
              "      background-color: #E8F0FE;\n",
              "      border: none;\n",
              "      border-radius: 50%;\n",
              "      cursor: pointer;\n",
              "      display: none;\n",
              "      fill: #1967D2;\n",
              "      height: 32px;\n",
              "      padding: 0 0 0 0;\n",
              "      width: 32px;\n",
              "    }\n",
              "\n",
              "    .colab-df-convert:hover {\n",
              "      background-color: #E2EBFA;\n",
              "      box-shadow: 0px 1px 2px rgba(60, 64, 67, 0.3), 0px 1px 3px 1px rgba(60, 64, 67, 0.15);\n",
              "      fill: #174EA6;\n",
              "    }\n",
              "\n",
              "    [theme=dark] .colab-df-convert {\n",
              "      background-color: #3B4455;\n",
              "      fill: #D2E3FC;\n",
              "    }\n",
              "\n",
              "    [theme=dark] .colab-df-convert:hover {\n",
              "      background-color: #434B5C;\n",
              "      box-shadow: 0px 1px 3px 1px rgba(0, 0, 0, 0.15);\n",
              "      filter: drop-shadow(0px 1px 2px rgba(0, 0, 0, 0.3));\n",
              "      fill: #FFFFFF;\n",
              "    }\n",
              "  </style>\n",
              "\n",
              "      <script>\n",
              "        const buttonEl =\n",
              "          document.querySelector('#df-4a07ae3e-0ed4-437f-92c8-2d09e9244a71 button.colab-df-convert');\n",
              "        buttonEl.style.display =\n",
              "          google.colab.kernel.accessAllowed ? 'block' : 'none';\n",
              "\n",
              "        async function convertToInteractive(key) {\n",
              "          const element = document.querySelector('#df-4a07ae3e-0ed4-437f-92c8-2d09e9244a71');\n",
              "          const dataTable =\n",
              "            await google.colab.kernel.invokeFunction('convertToInteractive',\n",
              "                                                     [key], {});\n",
              "          if (!dataTable) return;\n",
              "\n",
              "          const docLinkHtml = 'Like what you see? Visit the ' +\n",
              "            '<a target=\"_blank\" href=https://colab.research.google.com/notebooks/data_table.ipynb>data table notebook</a>'\n",
              "            + ' to learn more about interactive tables.';\n",
              "          element.innerHTML = '';\n",
              "          dataTable['output_type'] = 'display_data';\n",
              "          await google.colab.output.renderOutput(dataTable, element);\n",
              "          const docLink = document.createElement('div');\n",
              "          docLink.innerHTML = docLinkHtml;\n",
              "          element.appendChild(docLink);\n",
              "        }\n",
              "      </script>\n",
              "    </div>\n",
              "  </div>\n",
              "  "
            ]
          },
          "metadata": {},
          "execution_count": 5
        }
      ],
      "source": [
        "train.tail()"
      ]
    },
    {
      "cell_type": "code",
      "execution_count": 6,
      "metadata": {
        "colab": {
          "base_uri": "https://localhost:8080/",
          "height": 354
        },
        "id": "lzTXoARqp-EQ",
        "outputId": "859e3858-9e77-47fd-fc2d-5cedd6b20fe7"
      },
      "outputs": [
        {
          "output_type": "execute_result",
          "data": {
            "text/plain": [
              "   PassengerId  Survived  Pclass  \\\n",
              "0            1         0       3   \n",
              "1            2         1       1   \n",
              "2            3         1       3   \n",
              "3            4         1       1   \n",
              "4            5         0       3   \n",
              "\n",
              "                                                Name     Sex   Age  SibSp  \\\n",
              "0                            Braund, Mr. Owen Harris    male  22.0      1   \n",
              "1  Cumings, Mrs. John Bradley (Florence Briggs Th...  female  38.0      1   \n",
              "2                             Heikkinen, Miss. Laina  female  26.0      0   \n",
              "3       Futrelle, Mrs. Jacques Heath (Lily May Peel)  female  35.0      1   \n",
              "4                           Allen, Mr. William Henry    male  35.0      0   \n",
              "\n",
              "   Parch            Ticket     Fare Cabin Embarked  \n",
              "0      0         A/5 21171   7.2500   NaN        S  \n",
              "1      0          PC 17599  71.2833   C85        C  \n",
              "2      0  STON/O2. 3101282   7.9250   NaN        S  \n",
              "3      0            113803  53.1000  C123        S  \n",
              "4      0            373450   8.0500   NaN        S  "
            ],
            "text/html": [
              "\n",
              "  <div id=\"df-523e60bd-1c85-4e5e-8fa3-78ea9661d1c4\">\n",
              "    <div class=\"colab-df-container\">\n",
              "      <div>\n",
              "<style scoped>\n",
              "    .dataframe tbody tr th:only-of-type {\n",
              "        vertical-align: middle;\n",
              "    }\n",
              "\n",
              "    .dataframe tbody tr th {\n",
              "        vertical-align: top;\n",
              "    }\n",
              "\n",
              "    .dataframe thead th {\n",
              "        text-align: right;\n",
              "    }\n",
              "</style>\n",
              "<table border=\"1\" class=\"dataframe\">\n",
              "  <thead>\n",
              "    <tr style=\"text-align: right;\">\n",
              "      <th></th>\n",
              "      <th>PassengerId</th>\n",
              "      <th>Survived</th>\n",
              "      <th>Pclass</th>\n",
              "      <th>Name</th>\n",
              "      <th>Sex</th>\n",
              "      <th>Age</th>\n",
              "      <th>SibSp</th>\n",
              "      <th>Parch</th>\n",
              "      <th>Ticket</th>\n",
              "      <th>Fare</th>\n",
              "      <th>Cabin</th>\n",
              "      <th>Embarked</th>\n",
              "    </tr>\n",
              "  </thead>\n",
              "  <tbody>\n",
              "    <tr>\n",
              "      <th>0</th>\n",
              "      <td>1</td>\n",
              "      <td>0</td>\n",
              "      <td>3</td>\n",
              "      <td>Braund, Mr. Owen Harris</td>\n",
              "      <td>male</td>\n",
              "      <td>22.0</td>\n",
              "      <td>1</td>\n",
              "      <td>0</td>\n",
              "      <td>A/5 21171</td>\n",
              "      <td>7.2500</td>\n",
              "      <td>NaN</td>\n",
              "      <td>S</td>\n",
              "    </tr>\n",
              "    <tr>\n",
              "      <th>1</th>\n",
              "      <td>2</td>\n",
              "      <td>1</td>\n",
              "      <td>1</td>\n",
              "      <td>Cumings, Mrs. John Bradley (Florence Briggs Th...</td>\n",
              "      <td>female</td>\n",
              "      <td>38.0</td>\n",
              "      <td>1</td>\n",
              "      <td>0</td>\n",
              "      <td>PC 17599</td>\n",
              "      <td>71.2833</td>\n",
              "      <td>C85</td>\n",
              "      <td>C</td>\n",
              "    </tr>\n",
              "    <tr>\n",
              "      <th>2</th>\n",
              "      <td>3</td>\n",
              "      <td>1</td>\n",
              "      <td>3</td>\n",
              "      <td>Heikkinen, Miss. Laina</td>\n",
              "      <td>female</td>\n",
              "      <td>26.0</td>\n",
              "      <td>0</td>\n",
              "      <td>0</td>\n",
              "      <td>STON/O2. 3101282</td>\n",
              "      <td>7.9250</td>\n",
              "      <td>NaN</td>\n",
              "      <td>S</td>\n",
              "    </tr>\n",
              "    <tr>\n",
              "      <th>3</th>\n",
              "      <td>4</td>\n",
              "      <td>1</td>\n",
              "      <td>1</td>\n",
              "      <td>Futrelle, Mrs. Jacques Heath (Lily May Peel)</td>\n",
              "      <td>female</td>\n",
              "      <td>35.0</td>\n",
              "      <td>1</td>\n",
              "      <td>0</td>\n",
              "      <td>113803</td>\n",
              "      <td>53.1000</td>\n",
              "      <td>C123</td>\n",
              "      <td>S</td>\n",
              "    </tr>\n",
              "    <tr>\n",
              "      <th>4</th>\n",
              "      <td>5</td>\n",
              "      <td>0</td>\n",
              "      <td>3</td>\n",
              "      <td>Allen, Mr. William Henry</td>\n",
              "      <td>male</td>\n",
              "      <td>35.0</td>\n",
              "      <td>0</td>\n",
              "      <td>0</td>\n",
              "      <td>373450</td>\n",
              "      <td>8.0500</td>\n",
              "      <td>NaN</td>\n",
              "      <td>S</td>\n",
              "    </tr>\n",
              "  </tbody>\n",
              "</table>\n",
              "</div>\n",
              "      <button class=\"colab-df-convert\" onclick=\"convertToInteractive('df-523e60bd-1c85-4e5e-8fa3-78ea9661d1c4')\"\n",
              "              title=\"Convert this dataframe to an interactive table.\"\n",
              "              style=\"display:none;\">\n",
              "        \n",
              "  <svg xmlns=\"http://www.w3.org/2000/svg\" height=\"24px\"viewBox=\"0 0 24 24\"\n",
              "       width=\"24px\">\n",
              "    <path d=\"M0 0h24v24H0V0z\" fill=\"none\"/>\n",
              "    <path d=\"M18.56 5.44l.94 2.06.94-2.06 2.06-.94-2.06-.94-.94-2.06-.94 2.06-2.06.94zm-11 1L8.5 8.5l.94-2.06 2.06-.94-2.06-.94L8.5 2.5l-.94 2.06-2.06.94zm10 10l.94 2.06.94-2.06 2.06-.94-2.06-.94-.94-2.06-.94 2.06-2.06.94z\"/><path d=\"M17.41 7.96l-1.37-1.37c-.4-.4-.92-.59-1.43-.59-.52 0-1.04.2-1.43.59L10.3 9.45l-7.72 7.72c-.78.78-.78 2.05 0 2.83L4 21.41c.39.39.9.59 1.41.59.51 0 1.02-.2 1.41-.59l7.78-7.78 2.81-2.81c.8-.78.8-2.07 0-2.86zM5.41 20L4 18.59l7.72-7.72 1.47 1.35L5.41 20z\"/>\n",
              "  </svg>\n",
              "      </button>\n",
              "      \n",
              "  <style>\n",
              "    .colab-df-container {\n",
              "      display:flex;\n",
              "      flex-wrap:wrap;\n",
              "      gap: 12px;\n",
              "    }\n",
              "\n",
              "    .colab-df-convert {\n",
              "      background-color: #E8F0FE;\n",
              "      border: none;\n",
              "      border-radius: 50%;\n",
              "      cursor: pointer;\n",
              "      display: none;\n",
              "      fill: #1967D2;\n",
              "      height: 32px;\n",
              "      padding: 0 0 0 0;\n",
              "      width: 32px;\n",
              "    }\n",
              "\n",
              "    .colab-df-convert:hover {\n",
              "      background-color: #E2EBFA;\n",
              "      box-shadow: 0px 1px 2px rgba(60, 64, 67, 0.3), 0px 1px 3px 1px rgba(60, 64, 67, 0.15);\n",
              "      fill: #174EA6;\n",
              "    }\n",
              "\n",
              "    [theme=dark] .colab-df-convert {\n",
              "      background-color: #3B4455;\n",
              "      fill: #D2E3FC;\n",
              "    }\n",
              "\n",
              "    [theme=dark] .colab-df-convert:hover {\n",
              "      background-color: #434B5C;\n",
              "      box-shadow: 0px 1px 3px 1px rgba(0, 0, 0, 0.15);\n",
              "      filter: drop-shadow(0px 1px 2px rgba(0, 0, 0, 0.3));\n",
              "      fill: #FFFFFF;\n",
              "    }\n",
              "  </style>\n",
              "\n",
              "      <script>\n",
              "        const buttonEl =\n",
              "          document.querySelector('#df-523e60bd-1c85-4e5e-8fa3-78ea9661d1c4 button.colab-df-convert');\n",
              "        buttonEl.style.display =\n",
              "          google.colab.kernel.accessAllowed ? 'block' : 'none';\n",
              "\n",
              "        async function convertToInteractive(key) {\n",
              "          const element = document.querySelector('#df-523e60bd-1c85-4e5e-8fa3-78ea9661d1c4');\n",
              "          const dataTable =\n",
              "            await google.colab.kernel.invokeFunction('convertToInteractive',\n",
              "                                                     [key], {});\n",
              "          if (!dataTable) return;\n",
              "\n",
              "          const docLinkHtml = 'Like what you see? Visit the ' +\n",
              "            '<a target=\"_blank\" href=https://colab.research.google.com/notebooks/data_table.ipynb>data table notebook</a>'\n",
              "            + ' to learn more about interactive tables.';\n",
              "          element.innerHTML = '';\n",
              "          dataTable['output_type'] = 'display_data';\n",
              "          await google.colab.output.renderOutput(dataTable, element);\n",
              "          const docLink = document.createElement('div');\n",
              "          docLink.innerHTML = docLinkHtml;\n",
              "          element.appendChild(docLink);\n",
              "        }\n",
              "      </script>\n",
              "    </div>\n",
              "  </div>\n",
              "  "
            ]
          },
          "metadata": {},
          "execution_count": 6
        }
      ],
      "source": [
        "train.head()"
      ]
    },
    {
      "cell_type": "code",
      "execution_count": 7,
      "metadata": {
        "colab": {
          "base_uri": "https://localhost:8080/",
          "height": 268
        },
        "id": "p1q-5fMqp-ER",
        "outputId": "9df46779-ba90-4a43-beb6-ec7d8fa402ec"
      },
      "outputs": [
        {
          "output_type": "execute_result",
          "data": {
            "text/plain": [
              "   PassengerId  Pclass                                          Name     Sex  \\\n",
              "0          892       3                              Kelly, Mr. James    male   \n",
              "1          893       3              Wilkes, Mrs. James (Ellen Needs)  female   \n",
              "2          894       2                     Myles, Mr. Thomas Francis    male   \n",
              "3          895       3                              Wirz, Mr. Albert    male   \n",
              "4          896       3  Hirvonen, Mrs. Alexander (Helga E Lindqvist)  female   \n",
              "\n",
              "    Age  SibSp  Parch   Ticket     Fare Cabin Embarked  \n",
              "0  34.5      0      0   330911   7.8292   NaN        Q  \n",
              "1  47.0      1      0   363272   7.0000   NaN        S  \n",
              "2  62.0      0      0   240276   9.6875   NaN        Q  \n",
              "3  27.0      0      0   315154   8.6625   NaN        S  \n",
              "4  22.0      1      1  3101298  12.2875   NaN        S  "
            ],
            "text/html": [
              "\n",
              "  <div id=\"df-16d9ebd9-1047-473e-a57f-02f5a08895ff\">\n",
              "    <div class=\"colab-df-container\">\n",
              "      <div>\n",
              "<style scoped>\n",
              "    .dataframe tbody tr th:only-of-type {\n",
              "        vertical-align: middle;\n",
              "    }\n",
              "\n",
              "    .dataframe tbody tr th {\n",
              "        vertical-align: top;\n",
              "    }\n",
              "\n",
              "    .dataframe thead th {\n",
              "        text-align: right;\n",
              "    }\n",
              "</style>\n",
              "<table border=\"1\" class=\"dataframe\">\n",
              "  <thead>\n",
              "    <tr style=\"text-align: right;\">\n",
              "      <th></th>\n",
              "      <th>PassengerId</th>\n",
              "      <th>Pclass</th>\n",
              "      <th>Name</th>\n",
              "      <th>Sex</th>\n",
              "      <th>Age</th>\n",
              "      <th>SibSp</th>\n",
              "      <th>Parch</th>\n",
              "      <th>Ticket</th>\n",
              "      <th>Fare</th>\n",
              "      <th>Cabin</th>\n",
              "      <th>Embarked</th>\n",
              "    </tr>\n",
              "  </thead>\n",
              "  <tbody>\n",
              "    <tr>\n",
              "      <th>0</th>\n",
              "      <td>892</td>\n",
              "      <td>3</td>\n",
              "      <td>Kelly, Mr. James</td>\n",
              "      <td>male</td>\n",
              "      <td>34.5</td>\n",
              "      <td>0</td>\n",
              "      <td>0</td>\n",
              "      <td>330911</td>\n",
              "      <td>7.8292</td>\n",
              "      <td>NaN</td>\n",
              "      <td>Q</td>\n",
              "    </tr>\n",
              "    <tr>\n",
              "      <th>1</th>\n",
              "      <td>893</td>\n",
              "      <td>3</td>\n",
              "      <td>Wilkes, Mrs. James (Ellen Needs)</td>\n",
              "      <td>female</td>\n",
              "      <td>47.0</td>\n",
              "      <td>1</td>\n",
              "      <td>0</td>\n",
              "      <td>363272</td>\n",
              "      <td>7.0000</td>\n",
              "      <td>NaN</td>\n",
              "      <td>S</td>\n",
              "    </tr>\n",
              "    <tr>\n",
              "      <th>2</th>\n",
              "      <td>894</td>\n",
              "      <td>2</td>\n",
              "      <td>Myles, Mr. Thomas Francis</td>\n",
              "      <td>male</td>\n",
              "      <td>62.0</td>\n",
              "      <td>0</td>\n",
              "      <td>0</td>\n",
              "      <td>240276</td>\n",
              "      <td>9.6875</td>\n",
              "      <td>NaN</td>\n",
              "      <td>Q</td>\n",
              "    </tr>\n",
              "    <tr>\n",
              "      <th>3</th>\n",
              "      <td>895</td>\n",
              "      <td>3</td>\n",
              "      <td>Wirz, Mr. Albert</td>\n",
              "      <td>male</td>\n",
              "      <td>27.0</td>\n",
              "      <td>0</td>\n",
              "      <td>0</td>\n",
              "      <td>315154</td>\n",
              "      <td>8.6625</td>\n",
              "      <td>NaN</td>\n",
              "      <td>S</td>\n",
              "    </tr>\n",
              "    <tr>\n",
              "      <th>4</th>\n",
              "      <td>896</td>\n",
              "      <td>3</td>\n",
              "      <td>Hirvonen, Mrs. Alexander (Helga E Lindqvist)</td>\n",
              "      <td>female</td>\n",
              "      <td>22.0</td>\n",
              "      <td>1</td>\n",
              "      <td>1</td>\n",
              "      <td>3101298</td>\n",
              "      <td>12.2875</td>\n",
              "      <td>NaN</td>\n",
              "      <td>S</td>\n",
              "    </tr>\n",
              "  </tbody>\n",
              "</table>\n",
              "</div>\n",
              "      <button class=\"colab-df-convert\" onclick=\"convertToInteractive('df-16d9ebd9-1047-473e-a57f-02f5a08895ff')\"\n",
              "              title=\"Convert this dataframe to an interactive table.\"\n",
              "              style=\"display:none;\">\n",
              "        \n",
              "  <svg xmlns=\"http://www.w3.org/2000/svg\" height=\"24px\"viewBox=\"0 0 24 24\"\n",
              "       width=\"24px\">\n",
              "    <path d=\"M0 0h24v24H0V0z\" fill=\"none\"/>\n",
              "    <path d=\"M18.56 5.44l.94 2.06.94-2.06 2.06-.94-2.06-.94-.94-2.06-.94 2.06-2.06.94zm-11 1L8.5 8.5l.94-2.06 2.06-.94-2.06-.94L8.5 2.5l-.94 2.06-2.06.94zm10 10l.94 2.06.94-2.06 2.06-.94-2.06-.94-.94-2.06-.94 2.06-2.06.94z\"/><path d=\"M17.41 7.96l-1.37-1.37c-.4-.4-.92-.59-1.43-.59-.52 0-1.04.2-1.43.59L10.3 9.45l-7.72 7.72c-.78.78-.78 2.05 0 2.83L4 21.41c.39.39.9.59 1.41.59.51 0 1.02-.2 1.41-.59l7.78-7.78 2.81-2.81c.8-.78.8-2.07 0-2.86zM5.41 20L4 18.59l7.72-7.72 1.47 1.35L5.41 20z\"/>\n",
              "  </svg>\n",
              "      </button>\n",
              "      \n",
              "  <style>\n",
              "    .colab-df-container {\n",
              "      display:flex;\n",
              "      flex-wrap:wrap;\n",
              "      gap: 12px;\n",
              "    }\n",
              "\n",
              "    .colab-df-convert {\n",
              "      background-color: #E8F0FE;\n",
              "      border: none;\n",
              "      border-radius: 50%;\n",
              "      cursor: pointer;\n",
              "      display: none;\n",
              "      fill: #1967D2;\n",
              "      height: 32px;\n",
              "      padding: 0 0 0 0;\n",
              "      width: 32px;\n",
              "    }\n",
              "\n",
              "    .colab-df-convert:hover {\n",
              "      background-color: #E2EBFA;\n",
              "      box-shadow: 0px 1px 2px rgba(60, 64, 67, 0.3), 0px 1px 3px 1px rgba(60, 64, 67, 0.15);\n",
              "      fill: #174EA6;\n",
              "    }\n",
              "\n",
              "    [theme=dark] .colab-df-convert {\n",
              "      background-color: #3B4455;\n",
              "      fill: #D2E3FC;\n",
              "    }\n",
              "\n",
              "    [theme=dark] .colab-df-convert:hover {\n",
              "      background-color: #434B5C;\n",
              "      box-shadow: 0px 1px 3px 1px rgba(0, 0, 0, 0.15);\n",
              "      filter: drop-shadow(0px 1px 2px rgba(0, 0, 0, 0.3));\n",
              "      fill: #FFFFFF;\n",
              "    }\n",
              "  </style>\n",
              "\n",
              "      <script>\n",
              "        const buttonEl =\n",
              "          document.querySelector('#df-16d9ebd9-1047-473e-a57f-02f5a08895ff button.colab-df-convert');\n",
              "        buttonEl.style.display =\n",
              "          google.colab.kernel.accessAllowed ? 'block' : 'none';\n",
              "\n",
              "        async function convertToInteractive(key) {\n",
              "          const element = document.querySelector('#df-16d9ebd9-1047-473e-a57f-02f5a08895ff');\n",
              "          const dataTable =\n",
              "            await google.colab.kernel.invokeFunction('convertToInteractive',\n",
              "                                                     [key], {});\n",
              "          if (!dataTable) return;\n",
              "\n",
              "          const docLinkHtml = 'Like what you see? Visit the ' +\n",
              "            '<a target=\"_blank\" href=https://colab.research.google.com/notebooks/data_table.ipynb>data table notebook</a>'\n",
              "            + ' to learn more about interactive tables.';\n",
              "          element.innerHTML = '';\n",
              "          dataTable['output_type'] = 'display_data';\n",
              "          await google.colab.output.renderOutput(dataTable, element);\n",
              "          const docLink = document.createElement('div');\n",
              "          docLink.innerHTML = docLinkHtml;\n",
              "          element.appendChild(docLink);\n",
              "        }\n",
              "      </script>\n",
              "    </div>\n",
              "  </div>\n",
              "  "
            ]
          },
          "metadata": {},
          "execution_count": 7
        }
      ],
      "source": [
        "test.head()"
      ]
    },
    {
      "cell_type": "markdown",
      "metadata": {
        "id": "B_-cjCvhp-ES"
      },
      "source": [
        "Checking the dataset helps to confirm that all the columns are the right datatypes."
      ]
    },
    {
      "cell_type": "code",
      "execution_count": 8,
      "metadata": {
        "colab": {
          "base_uri": "https://localhost:8080/"
        },
        "id": "8-zbPPXXp-ET",
        "outputId": "d88cfd47-5220-4725-cdc2-68c57660cfdb"
      },
      "outputs": [
        {
          "output_type": "stream",
          "name": "stdout",
          "text": [
            "<class 'pandas.core.frame.DataFrame'>\n",
            "RangeIndex: 891 entries, 0 to 890\n",
            "Data columns (total 12 columns):\n",
            " #   Column       Non-Null Count  Dtype  \n",
            "---  ------       --------------  -----  \n",
            " 0   PassengerId  891 non-null    int64  \n",
            " 1   Survived     891 non-null    int64  \n",
            " 2   Pclass       891 non-null    int64  \n",
            " 3   Name         891 non-null    object \n",
            " 4   Sex          891 non-null    object \n",
            " 5   Age          714 non-null    float64\n",
            " 6   SibSp        891 non-null    int64  \n",
            " 7   Parch        891 non-null    int64  \n",
            " 8   Ticket       891 non-null    object \n",
            " 9   Fare         891 non-null    float64\n",
            " 10  Cabin        204 non-null    object \n",
            " 11  Embarked     889 non-null    object \n",
            "dtypes: float64(2), int64(5), object(5)\n",
            "memory usage: 83.7+ KB\n"
          ]
        }
      ],
      "source": [
        "train.info()#The info() method prints information about the DataFrame. The information contains the number of columns, column labels, column data types, memory usage, range index, and the number of cells in each column (non-null values)."
      ]
    },
    {
      "cell_type": "markdown",
      "metadata": {
        "id": "h11OJ_m-p-EU"
      },
      "source": [
        "## **Checking for missing values**\n",
        "####--- Using the **.isnull().sum()** method, we iterate through the columns, counting for each column how many null values there are and produce a new dataframe which displays the sum of isnull values alongside the column header names."
      ]
    },
    {
      "cell_type": "code",
      "execution_count": 9,
      "metadata": {
        "colab": {
          "base_uri": "https://localhost:8080/"
        },
        "id": "fPhaJPQfp-EU",
        "outputId": "bc00b5b1-57a0-4202-be18-18ac4ab64ff5"
      },
      "outputs": [
        {
          "output_type": "execute_result",
          "data": {
            "text/plain": [
              "PassengerId       0\n",
              "Survived        418\n",
              "Pclass            0\n",
              "Name              0\n",
              "Sex               0\n",
              "Age             263\n",
              "SibSp             0\n",
              "Parch             0\n",
              "Ticket            0\n",
              "Fare              1\n",
              "Cabin          1014\n",
              "Embarked          2\n",
              "dtype: int64"
            ]
          },
          "metadata": {},
          "execution_count": 9
        }
      ],
      "source": [
        "titanic.isnull().sum()"
      ]
    },
    {
      "cell_type": "markdown",
      "metadata": {
        "id": "3pwZ7LAMp-EV"
      },
      "source": [
        "It was discovered above that, the survived, age, cabin and embarked columns contain missing values.\n",
        "These have to be handled before feeding the data into a machine learning model."
      ]
    },
    {
      "cell_type": "markdown",
      "metadata": {
        "id": "KCqp5eLTp-EW"
      },
      "source": [
        "##**Statistical Summary**\n",
        "-- Statistical summary compile and provide information about your sample data. It tells you something about the values in your data set. This includes where the mean lies and whether your data is skewed."
      ]
    },
    {
      "cell_type": "code",
      "execution_count": 10,
      "metadata": {
        "colab": {
          "base_uri": "https://localhost:8080/",
          "height": 300
        },
        "id": "YPaAWtzlp-EW",
        "outputId": "408caa5e-a40a-4624-e5b8-01dcb45bc3df"
      },
      "outputs": [
        {
          "output_type": "execute_result",
          "data": {
            "text/plain": [
              "       PassengerId    Survived      Pclass         Age       SibSp  \\\n",
              "count   891.000000  891.000000  891.000000  714.000000  891.000000   \n",
              "mean    446.000000    0.383838    2.308642   29.699118    0.523008   \n",
              "std     257.353842    0.486592    0.836071   14.526497    1.102743   \n",
              "min       1.000000    0.000000    1.000000    0.420000    0.000000   \n",
              "25%     223.500000    0.000000    2.000000   20.125000    0.000000   \n",
              "50%     446.000000    0.000000    3.000000   28.000000    0.000000   \n",
              "75%     668.500000    1.000000    3.000000   38.000000    1.000000   \n",
              "max     891.000000    1.000000    3.000000   80.000000    8.000000   \n",
              "\n",
              "            Parch        Fare  \n",
              "count  891.000000  891.000000  \n",
              "mean     0.381594   32.204208  \n",
              "std      0.806057   49.693429  \n",
              "min      0.000000    0.000000  \n",
              "25%      0.000000    7.910400  \n",
              "50%      0.000000   14.454200  \n",
              "75%      0.000000   31.000000  \n",
              "max      6.000000  512.329200  "
            ],
            "text/html": [
              "\n",
              "  <div id=\"df-f3a6519c-d6df-4138-a137-ba6b09b87a68\">\n",
              "    <div class=\"colab-df-container\">\n",
              "      <div>\n",
              "<style scoped>\n",
              "    .dataframe tbody tr th:only-of-type {\n",
              "        vertical-align: middle;\n",
              "    }\n",
              "\n",
              "    .dataframe tbody tr th {\n",
              "        vertical-align: top;\n",
              "    }\n",
              "\n",
              "    .dataframe thead th {\n",
              "        text-align: right;\n",
              "    }\n",
              "</style>\n",
              "<table border=\"1\" class=\"dataframe\">\n",
              "  <thead>\n",
              "    <tr style=\"text-align: right;\">\n",
              "      <th></th>\n",
              "      <th>PassengerId</th>\n",
              "      <th>Survived</th>\n",
              "      <th>Pclass</th>\n",
              "      <th>Age</th>\n",
              "      <th>SibSp</th>\n",
              "      <th>Parch</th>\n",
              "      <th>Fare</th>\n",
              "    </tr>\n",
              "  </thead>\n",
              "  <tbody>\n",
              "    <tr>\n",
              "      <th>count</th>\n",
              "      <td>891.000000</td>\n",
              "      <td>891.000000</td>\n",
              "      <td>891.000000</td>\n",
              "      <td>714.000000</td>\n",
              "      <td>891.000000</td>\n",
              "      <td>891.000000</td>\n",
              "      <td>891.000000</td>\n",
              "    </tr>\n",
              "    <tr>\n",
              "      <th>mean</th>\n",
              "      <td>446.000000</td>\n",
              "      <td>0.383838</td>\n",
              "      <td>2.308642</td>\n",
              "      <td>29.699118</td>\n",
              "      <td>0.523008</td>\n",
              "      <td>0.381594</td>\n",
              "      <td>32.204208</td>\n",
              "    </tr>\n",
              "    <tr>\n",
              "      <th>std</th>\n",
              "      <td>257.353842</td>\n",
              "      <td>0.486592</td>\n",
              "      <td>0.836071</td>\n",
              "      <td>14.526497</td>\n",
              "      <td>1.102743</td>\n",
              "      <td>0.806057</td>\n",
              "      <td>49.693429</td>\n",
              "    </tr>\n",
              "    <tr>\n",
              "      <th>min</th>\n",
              "      <td>1.000000</td>\n",
              "      <td>0.000000</td>\n",
              "      <td>1.000000</td>\n",
              "      <td>0.420000</td>\n",
              "      <td>0.000000</td>\n",
              "      <td>0.000000</td>\n",
              "      <td>0.000000</td>\n",
              "    </tr>\n",
              "    <tr>\n",
              "      <th>25%</th>\n",
              "      <td>223.500000</td>\n",
              "      <td>0.000000</td>\n",
              "      <td>2.000000</td>\n",
              "      <td>20.125000</td>\n",
              "      <td>0.000000</td>\n",
              "      <td>0.000000</td>\n",
              "      <td>7.910400</td>\n",
              "    </tr>\n",
              "    <tr>\n",
              "      <th>50%</th>\n",
              "      <td>446.000000</td>\n",
              "      <td>0.000000</td>\n",
              "      <td>3.000000</td>\n",
              "      <td>28.000000</td>\n",
              "      <td>0.000000</td>\n",
              "      <td>0.000000</td>\n",
              "      <td>14.454200</td>\n",
              "    </tr>\n",
              "    <tr>\n",
              "      <th>75%</th>\n",
              "      <td>668.500000</td>\n",
              "      <td>1.000000</td>\n",
              "      <td>3.000000</td>\n",
              "      <td>38.000000</td>\n",
              "      <td>1.000000</td>\n",
              "      <td>0.000000</td>\n",
              "      <td>31.000000</td>\n",
              "    </tr>\n",
              "    <tr>\n",
              "      <th>max</th>\n",
              "      <td>891.000000</td>\n",
              "      <td>1.000000</td>\n",
              "      <td>3.000000</td>\n",
              "      <td>80.000000</td>\n",
              "      <td>8.000000</td>\n",
              "      <td>6.000000</td>\n",
              "      <td>512.329200</td>\n",
              "    </tr>\n",
              "  </tbody>\n",
              "</table>\n",
              "</div>\n",
              "      <button class=\"colab-df-convert\" onclick=\"convertToInteractive('df-f3a6519c-d6df-4138-a137-ba6b09b87a68')\"\n",
              "              title=\"Convert this dataframe to an interactive table.\"\n",
              "              style=\"display:none;\">\n",
              "        \n",
              "  <svg xmlns=\"http://www.w3.org/2000/svg\" height=\"24px\"viewBox=\"0 0 24 24\"\n",
              "       width=\"24px\">\n",
              "    <path d=\"M0 0h24v24H0V0z\" fill=\"none\"/>\n",
              "    <path d=\"M18.56 5.44l.94 2.06.94-2.06 2.06-.94-2.06-.94-.94-2.06-.94 2.06-2.06.94zm-11 1L8.5 8.5l.94-2.06 2.06-.94-2.06-.94L8.5 2.5l-.94 2.06-2.06.94zm10 10l.94 2.06.94-2.06 2.06-.94-2.06-.94-.94-2.06-.94 2.06-2.06.94z\"/><path d=\"M17.41 7.96l-1.37-1.37c-.4-.4-.92-.59-1.43-.59-.52 0-1.04.2-1.43.59L10.3 9.45l-7.72 7.72c-.78.78-.78 2.05 0 2.83L4 21.41c.39.39.9.59 1.41.59.51 0 1.02-.2 1.41-.59l7.78-7.78 2.81-2.81c.8-.78.8-2.07 0-2.86zM5.41 20L4 18.59l7.72-7.72 1.47 1.35L5.41 20z\"/>\n",
              "  </svg>\n",
              "      </button>\n",
              "      \n",
              "  <style>\n",
              "    .colab-df-container {\n",
              "      display:flex;\n",
              "      flex-wrap:wrap;\n",
              "      gap: 12px;\n",
              "    }\n",
              "\n",
              "    .colab-df-convert {\n",
              "      background-color: #E8F0FE;\n",
              "      border: none;\n",
              "      border-radius: 50%;\n",
              "      cursor: pointer;\n",
              "      display: none;\n",
              "      fill: #1967D2;\n",
              "      height: 32px;\n",
              "      padding: 0 0 0 0;\n",
              "      width: 32px;\n",
              "    }\n",
              "\n",
              "    .colab-df-convert:hover {\n",
              "      background-color: #E2EBFA;\n",
              "      box-shadow: 0px 1px 2px rgba(60, 64, 67, 0.3), 0px 1px 3px 1px rgba(60, 64, 67, 0.15);\n",
              "      fill: #174EA6;\n",
              "    }\n",
              "\n",
              "    [theme=dark] .colab-df-convert {\n",
              "      background-color: #3B4455;\n",
              "      fill: #D2E3FC;\n",
              "    }\n",
              "\n",
              "    [theme=dark] .colab-df-convert:hover {\n",
              "      background-color: #434B5C;\n",
              "      box-shadow: 0px 1px 3px 1px rgba(0, 0, 0, 0.15);\n",
              "      filter: drop-shadow(0px 1px 2px rgba(0, 0, 0, 0.3));\n",
              "      fill: #FFFFFF;\n",
              "    }\n",
              "  </style>\n",
              "\n",
              "      <script>\n",
              "        const buttonEl =\n",
              "          document.querySelector('#df-f3a6519c-d6df-4138-a137-ba6b09b87a68 button.colab-df-convert');\n",
              "        buttonEl.style.display =\n",
              "          google.colab.kernel.accessAllowed ? 'block' : 'none';\n",
              "\n",
              "        async function convertToInteractive(key) {\n",
              "          const element = document.querySelector('#df-f3a6519c-d6df-4138-a137-ba6b09b87a68');\n",
              "          const dataTable =\n",
              "            await google.colab.kernel.invokeFunction('convertToInteractive',\n",
              "                                                     [key], {});\n",
              "          if (!dataTable) return;\n",
              "\n",
              "          const docLinkHtml = 'Like what you see? Visit the ' +\n",
              "            '<a target=\"_blank\" href=https://colab.research.google.com/notebooks/data_table.ipynb>data table notebook</a>'\n",
              "            + ' to learn more about interactive tables.';\n",
              "          element.innerHTML = '';\n",
              "          dataTable['output_type'] = 'display_data';\n",
              "          await google.colab.output.renderOutput(dataTable, element);\n",
              "          const docLink = document.createElement('div');\n",
              "          docLink.innerHTML = docLinkHtml;\n",
              "          element.appendChild(docLink);\n",
              "        }\n",
              "      </script>\n",
              "    </div>\n",
              "  </div>\n",
              "  "
            ]
          },
          "metadata": {},
          "execution_count": 10
        }
      ],
      "source": [
        "train.describe()"
      ]
    },
    {
      "cell_type": "code",
      "execution_count": 11,
      "metadata": {
        "colab": {
          "base_uri": "https://localhost:8080/",
          "height": 300
        },
        "id": "rYMBL2o9p-EX",
        "outputId": "c67572e0-22f4-40d0-f845-989e0ef0b2f1"
      },
      "outputs": [
        {
          "output_type": "execute_result",
          "data": {
            "text/plain": [
              "       PassengerId      Pclass         Age       SibSp       Parch        Fare\n",
              "count   418.000000  418.000000  332.000000  418.000000  418.000000  417.000000\n",
              "mean   1100.500000    2.265550   30.272590    0.447368    0.392344   35.627188\n",
              "std     120.810458    0.841838   14.181209    0.896760    0.981429   55.907576\n",
              "min     892.000000    1.000000    0.170000    0.000000    0.000000    0.000000\n",
              "25%     996.250000    1.000000   21.000000    0.000000    0.000000    7.895800\n",
              "50%    1100.500000    3.000000   27.000000    0.000000    0.000000   14.454200\n",
              "75%    1204.750000    3.000000   39.000000    1.000000    0.000000   31.500000\n",
              "max    1309.000000    3.000000   76.000000    8.000000    9.000000  512.329200"
            ],
            "text/html": [
              "\n",
              "  <div id=\"df-57b9c4f3-1fe6-4610-bbd4-700c50dfd1b4\">\n",
              "    <div class=\"colab-df-container\">\n",
              "      <div>\n",
              "<style scoped>\n",
              "    .dataframe tbody tr th:only-of-type {\n",
              "        vertical-align: middle;\n",
              "    }\n",
              "\n",
              "    .dataframe tbody tr th {\n",
              "        vertical-align: top;\n",
              "    }\n",
              "\n",
              "    .dataframe thead th {\n",
              "        text-align: right;\n",
              "    }\n",
              "</style>\n",
              "<table border=\"1\" class=\"dataframe\">\n",
              "  <thead>\n",
              "    <tr style=\"text-align: right;\">\n",
              "      <th></th>\n",
              "      <th>PassengerId</th>\n",
              "      <th>Pclass</th>\n",
              "      <th>Age</th>\n",
              "      <th>SibSp</th>\n",
              "      <th>Parch</th>\n",
              "      <th>Fare</th>\n",
              "    </tr>\n",
              "  </thead>\n",
              "  <tbody>\n",
              "    <tr>\n",
              "      <th>count</th>\n",
              "      <td>418.000000</td>\n",
              "      <td>418.000000</td>\n",
              "      <td>332.000000</td>\n",
              "      <td>418.000000</td>\n",
              "      <td>418.000000</td>\n",
              "      <td>417.000000</td>\n",
              "    </tr>\n",
              "    <tr>\n",
              "      <th>mean</th>\n",
              "      <td>1100.500000</td>\n",
              "      <td>2.265550</td>\n",
              "      <td>30.272590</td>\n",
              "      <td>0.447368</td>\n",
              "      <td>0.392344</td>\n",
              "      <td>35.627188</td>\n",
              "    </tr>\n",
              "    <tr>\n",
              "      <th>std</th>\n",
              "      <td>120.810458</td>\n",
              "      <td>0.841838</td>\n",
              "      <td>14.181209</td>\n",
              "      <td>0.896760</td>\n",
              "      <td>0.981429</td>\n",
              "      <td>55.907576</td>\n",
              "    </tr>\n",
              "    <tr>\n",
              "      <th>min</th>\n",
              "      <td>892.000000</td>\n",
              "      <td>1.000000</td>\n",
              "      <td>0.170000</td>\n",
              "      <td>0.000000</td>\n",
              "      <td>0.000000</td>\n",
              "      <td>0.000000</td>\n",
              "    </tr>\n",
              "    <tr>\n",
              "      <th>25%</th>\n",
              "      <td>996.250000</td>\n",
              "      <td>1.000000</td>\n",
              "      <td>21.000000</td>\n",
              "      <td>0.000000</td>\n",
              "      <td>0.000000</td>\n",
              "      <td>7.895800</td>\n",
              "    </tr>\n",
              "    <tr>\n",
              "      <th>50%</th>\n",
              "      <td>1100.500000</td>\n",
              "      <td>3.000000</td>\n",
              "      <td>27.000000</td>\n",
              "      <td>0.000000</td>\n",
              "      <td>0.000000</td>\n",
              "      <td>14.454200</td>\n",
              "    </tr>\n",
              "    <tr>\n",
              "      <th>75%</th>\n",
              "      <td>1204.750000</td>\n",
              "      <td>3.000000</td>\n",
              "      <td>39.000000</td>\n",
              "      <td>1.000000</td>\n",
              "      <td>0.000000</td>\n",
              "      <td>31.500000</td>\n",
              "    </tr>\n",
              "    <tr>\n",
              "      <th>max</th>\n",
              "      <td>1309.000000</td>\n",
              "      <td>3.000000</td>\n",
              "      <td>76.000000</td>\n",
              "      <td>8.000000</td>\n",
              "      <td>9.000000</td>\n",
              "      <td>512.329200</td>\n",
              "    </tr>\n",
              "  </tbody>\n",
              "</table>\n",
              "</div>\n",
              "      <button class=\"colab-df-convert\" onclick=\"convertToInteractive('df-57b9c4f3-1fe6-4610-bbd4-700c50dfd1b4')\"\n",
              "              title=\"Convert this dataframe to an interactive table.\"\n",
              "              style=\"display:none;\">\n",
              "        \n",
              "  <svg xmlns=\"http://www.w3.org/2000/svg\" height=\"24px\"viewBox=\"0 0 24 24\"\n",
              "       width=\"24px\">\n",
              "    <path d=\"M0 0h24v24H0V0z\" fill=\"none\"/>\n",
              "    <path d=\"M18.56 5.44l.94 2.06.94-2.06 2.06-.94-2.06-.94-.94-2.06-.94 2.06-2.06.94zm-11 1L8.5 8.5l.94-2.06 2.06-.94-2.06-.94L8.5 2.5l-.94 2.06-2.06.94zm10 10l.94 2.06.94-2.06 2.06-.94-2.06-.94-.94-2.06-.94 2.06-2.06.94z\"/><path d=\"M17.41 7.96l-1.37-1.37c-.4-.4-.92-.59-1.43-.59-.52 0-1.04.2-1.43.59L10.3 9.45l-7.72 7.72c-.78.78-.78 2.05 0 2.83L4 21.41c.39.39.9.59 1.41.59.51 0 1.02-.2 1.41-.59l7.78-7.78 2.81-2.81c.8-.78.8-2.07 0-2.86zM5.41 20L4 18.59l7.72-7.72 1.47 1.35L5.41 20z\"/>\n",
              "  </svg>\n",
              "      </button>\n",
              "      \n",
              "  <style>\n",
              "    .colab-df-container {\n",
              "      display:flex;\n",
              "      flex-wrap:wrap;\n",
              "      gap: 12px;\n",
              "    }\n",
              "\n",
              "    .colab-df-convert {\n",
              "      background-color: #E8F0FE;\n",
              "      border: none;\n",
              "      border-radius: 50%;\n",
              "      cursor: pointer;\n",
              "      display: none;\n",
              "      fill: #1967D2;\n",
              "      height: 32px;\n",
              "      padding: 0 0 0 0;\n",
              "      width: 32px;\n",
              "    }\n",
              "\n",
              "    .colab-df-convert:hover {\n",
              "      background-color: #E2EBFA;\n",
              "      box-shadow: 0px 1px 2px rgba(60, 64, 67, 0.3), 0px 1px 3px 1px rgba(60, 64, 67, 0.15);\n",
              "      fill: #174EA6;\n",
              "    }\n",
              "\n",
              "    [theme=dark] .colab-df-convert {\n",
              "      background-color: #3B4455;\n",
              "      fill: #D2E3FC;\n",
              "    }\n",
              "\n",
              "    [theme=dark] .colab-df-convert:hover {\n",
              "      background-color: #434B5C;\n",
              "      box-shadow: 0px 1px 3px 1px rgba(0, 0, 0, 0.15);\n",
              "      filter: drop-shadow(0px 1px 2px rgba(0, 0, 0, 0.3));\n",
              "      fill: #FFFFFF;\n",
              "    }\n",
              "  </style>\n",
              "\n",
              "      <script>\n",
              "        const buttonEl =\n",
              "          document.querySelector('#df-57b9c4f3-1fe6-4610-bbd4-700c50dfd1b4 button.colab-df-convert');\n",
              "        buttonEl.style.display =\n",
              "          google.colab.kernel.accessAllowed ? 'block' : 'none';\n",
              "\n",
              "        async function convertToInteractive(key) {\n",
              "          const element = document.querySelector('#df-57b9c4f3-1fe6-4610-bbd4-700c50dfd1b4');\n",
              "          const dataTable =\n",
              "            await google.colab.kernel.invokeFunction('convertToInteractive',\n",
              "                                                     [key], {});\n",
              "          if (!dataTable) return;\n",
              "\n",
              "          const docLinkHtml = 'Like what you see? Visit the ' +\n",
              "            '<a target=\"_blank\" href=https://colab.research.google.com/notebooks/data_table.ipynb>data table notebook</a>'\n",
              "            + ' to learn more about interactive tables.';\n",
              "          element.innerHTML = '';\n",
              "          dataTable['output_type'] = 'display_data';\n",
              "          await google.colab.output.renderOutput(dataTable, element);\n",
              "          const docLink = document.createElement('div');\n",
              "          docLink.innerHTML = docLinkHtml;\n",
              "          element.appendChild(docLink);\n",
              "        }\n",
              "      </script>\n",
              "    </div>\n",
              "  </div>\n",
              "  "
            ]
          },
          "metadata": {},
          "execution_count": 11
        }
      ],
      "source": [
        "test.describe()"
      ]
    },
    {
      "cell_type": "code",
      "execution_count": 12,
      "metadata": {
        "colab": {
          "base_uri": "https://localhost:8080/",
          "height": 300
        },
        "id": "XBjaPKV8p-Ec",
        "outputId": "f329376f-fe5e-4767-b955-c1630d34068f"
      },
      "outputs": [
        {
          "output_type": "execute_result",
          "data": {
            "text/plain": [
              "       PassengerId    Survived       Pclass          Age        SibSp  \\\n",
              "count  1309.000000  891.000000  1309.000000  1046.000000  1309.000000   \n",
              "mean    655.000000    0.383838     2.294882    29.881138     0.498854   \n",
              "std     378.020061    0.486592     0.837836    14.413493     1.041658   \n",
              "min       1.000000    0.000000     1.000000     0.170000     0.000000   \n",
              "25%     328.000000    0.000000     2.000000    21.000000     0.000000   \n",
              "50%     655.000000    0.000000     3.000000    28.000000     0.000000   \n",
              "75%     982.000000    1.000000     3.000000    39.000000     1.000000   \n",
              "max    1309.000000    1.000000     3.000000    80.000000     8.000000   \n",
              "\n",
              "             Parch         Fare  \n",
              "count  1309.000000  1308.000000  \n",
              "mean      0.385027    33.295479  \n",
              "std       0.865560    51.758668  \n",
              "min       0.000000     0.000000  \n",
              "25%       0.000000     7.895800  \n",
              "50%       0.000000    14.454200  \n",
              "75%       0.000000    31.275000  \n",
              "max       9.000000   512.329200  "
            ],
            "text/html": [
              "\n",
              "  <div id=\"df-ebb9f976-c8a8-4e5c-b816-eeb3374dc901\">\n",
              "    <div class=\"colab-df-container\">\n",
              "      <div>\n",
              "<style scoped>\n",
              "    .dataframe tbody tr th:only-of-type {\n",
              "        vertical-align: middle;\n",
              "    }\n",
              "\n",
              "    .dataframe tbody tr th {\n",
              "        vertical-align: top;\n",
              "    }\n",
              "\n",
              "    .dataframe thead th {\n",
              "        text-align: right;\n",
              "    }\n",
              "</style>\n",
              "<table border=\"1\" class=\"dataframe\">\n",
              "  <thead>\n",
              "    <tr style=\"text-align: right;\">\n",
              "      <th></th>\n",
              "      <th>PassengerId</th>\n",
              "      <th>Survived</th>\n",
              "      <th>Pclass</th>\n",
              "      <th>Age</th>\n",
              "      <th>SibSp</th>\n",
              "      <th>Parch</th>\n",
              "      <th>Fare</th>\n",
              "    </tr>\n",
              "  </thead>\n",
              "  <tbody>\n",
              "    <tr>\n",
              "      <th>count</th>\n",
              "      <td>1309.000000</td>\n",
              "      <td>891.000000</td>\n",
              "      <td>1309.000000</td>\n",
              "      <td>1046.000000</td>\n",
              "      <td>1309.000000</td>\n",
              "      <td>1309.000000</td>\n",
              "      <td>1308.000000</td>\n",
              "    </tr>\n",
              "    <tr>\n",
              "      <th>mean</th>\n",
              "      <td>655.000000</td>\n",
              "      <td>0.383838</td>\n",
              "      <td>2.294882</td>\n",
              "      <td>29.881138</td>\n",
              "      <td>0.498854</td>\n",
              "      <td>0.385027</td>\n",
              "      <td>33.295479</td>\n",
              "    </tr>\n",
              "    <tr>\n",
              "      <th>std</th>\n",
              "      <td>378.020061</td>\n",
              "      <td>0.486592</td>\n",
              "      <td>0.837836</td>\n",
              "      <td>14.413493</td>\n",
              "      <td>1.041658</td>\n",
              "      <td>0.865560</td>\n",
              "      <td>51.758668</td>\n",
              "    </tr>\n",
              "    <tr>\n",
              "      <th>min</th>\n",
              "      <td>1.000000</td>\n",
              "      <td>0.000000</td>\n",
              "      <td>1.000000</td>\n",
              "      <td>0.170000</td>\n",
              "      <td>0.000000</td>\n",
              "      <td>0.000000</td>\n",
              "      <td>0.000000</td>\n",
              "    </tr>\n",
              "    <tr>\n",
              "      <th>25%</th>\n",
              "      <td>328.000000</td>\n",
              "      <td>0.000000</td>\n",
              "      <td>2.000000</td>\n",
              "      <td>21.000000</td>\n",
              "      <td>0.000000</td>\n",
              "      <td>0.000000</td>\n",
              "      <td>7.895800</td>\n",
              "    </tr>\n",
              "    <tr>\n",
              "      <th>50%</th>\n",
              "      <td>655.000000</td>\n",
              "      <td>0.000000</td>\n",
              "      <td>3.000000</td>\n",
              "      <td>28.000000</td>\n",
              "      <td>0.000000</td>\n",
              "      <td>0.000000</td>\n",
              "      <td>14.454200</td>\n",
              "    </tr>\n",
              "    <tr>\n",
              "      <th>75%</th>\n",
              "      <td>982.000000</td>\n",
              "      <td>1.000000</td>\n",
              "      <td>3.000000</td>\n",
              "      <td>39.000000</td>\n",
              "      <td>1.000000</td>\n",
              "      <td>0.000000</td>\n",
              "      <td>31.275000</td>\n",
              "    </tr>\n",
              "    <tr>\n",
              "      <th>max</th>\n",
              "      <td>1309.000000</td>\n",
              "      <td>1.000000</td>\n",
              "      <td>3.000000</td>\n",
              "      <td>80.000000</td>\n",
              "      <td>8.000000</td>\n",
              "      <td>9.000000</td>\n",
              "      <td>512.329200</td>\n",
              "    </tr>\n",
              "  </tbody>\n",
              "</table>\n",
              "</div>\n",
              "      <button class=\"colab-df-convert\" onclick=\"convertToInteractive('df-ebb9f976-c8a8-4e5c-b816-eeb3374dc901')\"\n",
              "              title=\"Convert this dataframe to an interactive table.\"\n",
              "              style=\"display:none;\">\n",
              "        \n",
              "  <svg xmlns=\"http://www.w3.org/2000/svg\" height=\"24px\"viewBox=\"0 0 24 24\"\n",
              "       width=\"24px\">\n",
              "    <path d=\"M0 0h24v24H0V0z\" fill=\"none\"/>\n",
              "    <path d=\"M18.56 5.44l.94 2.06.94-2.06 2.06-.94-2.06-.94-.94-2.06-.94 2.06-2.06.94zm-11 1L8.5 8.5l.94-2.06 2.06-.94-2.06-.94L8.5 2.5l-.94 2.06-2.06.94zm10 10l.94 2.06.94-2.06 2.06-.94-2.06-.94-.94-2.06-.94 2.06-2.06.94z\"/><path d=\"M17.41 7.96l-1.37-1.37c-.4-.4-.92-.59-1.43-.59-.52 0-1.04.2-1.43.59L10.3 9.45l-7.72 7.72c-.78.78-.78 2.05 0 2.83L4 21.41c.39.39.9.59 1.41.59.51 0 1.02-.2 1.41-.59l7.78-7.78 2.81-2.81c.8-.78.8-2.07 0-2.86zM5.41 20L4 18.59l7.72-7.72 1.47 1.35L5.41 20z\"/>\n",
              "  </svg>\n",
              "      </button>\n",
              "      \n",
              "  <style>\n",
              "    .colab-df-container {\n",
              "      display:flex;\n",
              "      flex-wrap:wrap;\n",
              "      gap: 12px;\n",
              "    }\n",
              "\n",
              "    .colab-df-convert {\n",
              "      background-color: #E8F0FE;\n",
              "      border: none;\n",
              "      border-radius: 50%;\n",
              "      cursor: pointer;\n",
              "      display: none;\n",
              "      fill: #1967D2;\n",
              "      height: 32px;\n",
              "      padding: 0 0 0 0;\n",
              "      width: 32px;\n",
              "    }\n",
              "\n",
              "    .colab-df-convert:hover {\n",
              "      background-color: #E2EBFA;\n",
              "      box-shadow: 0px 1px 2px rgba(60, 64, 67, 0.3), 0px 1px 3px 1px rgba(60, 64, 67, 0.15);\n",
              "      fill: #174EA6;\n",
              "    }\n",
              "\n",
              "    [theme=dark] .colab-df-convert {\n",
              "      background-color: #3B4455;\n",
              "      fill: #D2E3FC;\n",
              "    }\n",
              "\n",
              "    [theme=dark] .colab-df-convert:hover {\n",
              "      background-color: #434B5C;\n",
              "      box-shadow: 0px 1px 3px 1px rgba(0, 0, 0, 0.15);\n",
              "      filter: drop-shadow(0px 1px 2px rgba(0, 0, 0, 0.3));\n",
              "      fill: #FFFFFF;\n",
              "    }\n",
              "  </style>\n",
              "\n",
              "      <script>\n",
              "        const buttonEl =\n",
              "          document.querySelector('#df-ebb9f976-c8a8-4e5c-b816-eeb3374dc901 button.colab-df-convert');\n",
              "        buttonEl.style.display =\n",
              "          google.colab.kernel.accessAllowed ? 'block' : 'none';\n",
              "\n",
              "        async function convertToInteractive(key) {\n",
              "          const element = document.querySelector('#df-ebb9f976-c8a8-4e5c-b816-eeb3374dc901');\n",
              "          const dataTable =\n",
              "            await google.colab.kernel.invokeFunction('convertToInteractive',\n",
              "                                                     [key], {});\n",
              "          if (!dataTable) return;\n",
              "\n",
              "          const docLinkHtml = 'Like what you see? Visit the ' +\n",
              "            '<a target=\"_blank\" href=https://colab.research.google.com/notebooks/data_table.ipynb>data table notebook</a>'\n",
              "            + ' to learn more about interactive tables.';\n",
              "          element.innerHTML = '';\n",
              "          dataTable['output_type'] = 'display_data';\n",
              "          await google.colab.output.renderOutput(dataTable, element);\n",
              "          const docLink = document.createElement('div');\n",
              "          docLink.innerHTML = docLinkHtml;\n",
              "          element.appendChild(docLink);\n",
              "        }\n",
              "      </script>\n",
              "    </div>\n",
              "  </div>\n",
              "  "
            ]
          },
          "metadata": {},
          "execution_count": 12
        }
      ],
      "source": [
        "titanic.describe()"
      ]
    },
    {
      "cell_type": "markdown",
      "metadata": {
        "id": "9r1KlWL9p-Ed"
      },
      "source": [
        "### **EDA**\n",
        "---It full meaning is Exploratory Data Analysis, this involves using visualization and statistical methods to analyze data and bring the important parts of data into focus."
      ]
    },
    {
      "cell_type": "markdown",
      "metadata": {
        "id": "OoQsn4idp-Ee"
      },
      "source": [
        "### **Survival Rate**"
      ]
    },
    {
      "cell_type": "code",
      "execution_count": 13,
      "metadata": {
        "colab": {
          "base_uri": "https://localhost:8080/",
          "height": 445
        },
        "id": "Q5iYeV19p-Ef",
        "outputId": "e01cd3d5-a123-48d7-9893-f8129ac07aa6"
      },
      "outputs": [
        {
          "output_type": "display_data",
          "data": {
            "text/plain": [
              "<Figure size 504x504 with 1 Axes>"
            ],
            "image/png": "[encoded data removed]"
          },
          "metadata": {
            "needs_background": "light"
          }
        }
      ],
      "source": [
        "fig, ax = plt.subplots(figsize=(7, 7))\n",
        "\n",
        "sns.barplot(\n",
        "    x= train[\"Survived\"].value_counts().index, y=train[\"Survived\"].value_counts(), \n",
        "    data=train\n",
        ")\n",
        "\n",
        "ax.set_xticklabels(['Not Survived', 'Survived'])\n",
        "ax.set_ylabel(\"Frequency Count\")\n",
        "ax.set_title(\"Count of Survival\", fontsize=14)\n",
        "\n",
        "for bar in ax.patches:\n",
        "    label_x = bar.get_x() + bar.get_width() / 2\n",
        "    label_y = bar.get_y() + bar.get_height() / 2\n",
        "\n",
        "    ax.text(\n",
        "        label_x, label_y, \n",
        "        str(int(bar.get_height())) + '(' +\n",
        "        '{:.0%}'.format(bar.get_height() / len(train.Survived)) + ')',\n",
        "        horizontalalignment='center', verticalalignment='center', color='black'\n",
        "    )"
      ]
    },
    {
      "cell_type": "markdown",
      "metadata": {
        "id": "1R5gfqo1p-Eg"
      },
      "source": [
        "This plot gives us an overview information that \n",
        "<br>\n",
        "62% of the passengers did not survive, while <br>\n",
        "38% survived"
      ]
    },
    {
      "cell_type": "markdown",
      "metadata": {
        "id": "jJQhWTmMp-Eh"
      },
      "source": [
        "## **Embarked Count**"
      ]
    },
    {
      "cell_type": "code",
      "execution_count": 14,
      "metadata": {
        "colab": {
          "base_uri": "https://localhost:8080/",
          "height": 481
        },
        "id": "ZwGaSbMxp-Ei",
        "outputId": "34a39895-d504-4434-dd23-154afc4c836d"
      },
      "outputs": [
        {
          "output_type": "execute_result",
          "data": {
            "text/plain": [
              "Text(0.5, 0, 'Cities')"
            ]
          },
          "metadata": {},
          "execution_count": 14
        },
        {
          "output_type": "display_data",
          "data": {
            "text/plain": [
              "<Figure size 504x504 with 1 Axes>"
            ],
            "image/png": "[encoded data removed]"
          },
          "metadata": {
            "needs_background": "light"
          }
        }
      ],
      "source": [
        "fig, embarked = plt.subplots(figsize=(7, 7))\n",
        "\n",
        "sns.barplot(\n",
        "    x=train['Embarked'].value_counts().index,\n",
        "    y=train['Embarked'].value_counts()\n",
        ")\n",
        "embarked.set_xticklabels(['Southhampton', 'Chernbourg', 'Queenstowm'])\n",
        "embarked.set_ylabel(\"Frequency Count\")\n",
        "embarked.set_title(\"Embarked Count\")\n",
        "\n",
        "for bar in embarked.patches:\n",
        "    label_x = bar.get_x() + bar.get_width() / 2\n",
        "    label_y = bar.get_y() + bar.get_height() / 2\n",
        "\n",
        "    embarked.text(\n",
        "        label_x, label_y, \n",
        "        str(int(bar.get_height())) + '(' + '{:.0%}'.format(bar.get_height() / len(train[\"Embarked\"])) + ')', \n",
        "        horizontalalignment='center', verticalalignment='center', color='black')\n",
        "\n",
        "embarked.set_title(\"Where did the Passenger board from?\", fontsize=16)\n",
        "embarked.set_xlabel(\"Cities\", fontsize=14)\n",
        "    "
      ]
    },
    {
      "cell_type": "markdown",
      "metadata": {
        "id": "FlWMZGUQp-Ek"
      },
      "source": [
        "Here, it is make evident that a large percentage of the passengers on the ship boarded from Sounthhampton with 72%, Chernbourg(19%), Queenstown(9%)\n"
      ]
    },
    {
      "cell_type": "markdown",
      "metadata": {
        "id": "-mwZVkWqp-El"
      },
      "source": [
        "##**Categories Variables Count**"
      ]
    },
    {
      "cell_type": "code",
      "execution_count": 15,
      "metadata": {
        "colab": {
          "base_uri": "https://localhost:8080/",
          "height": 390
        },
        "id": "qdt7WNZDp-El",
        "outputId": "e5a55f7f-bd29-4f21-9fef-5d958ea79516"
      },
      "outputs": [
        {
          "output_type": "display_data",
          "data": {
            "text/plain": [
              "<Figure size 1080x432 with 6 Axes>"
            ],
            "image/png": "[encoded data removed]"
          },
          "metadata": {
            "needs_background": "light"
          }
        }
      ],
      "source": [
        "fig, myplot = plt.subplots(figsize=(15, 6), nrows=2, ncols=3)\n",
        "\n",
        "cat_features = [\n",
        "    'Survived', 'Pclass', 'Sex', 'SibSp', 'Parch', \"Embarked\"\n",
        "]\n",
        "\n",
        "row, col, num_cols = 0, 0, 3\n",
        "\n",
        "for feature in cat_features:\n",
        "    sns.barplot(\n",
        "        x=train[feature].value_counts().index,\n",
        "        y=train[feature].value_counts(),\n",
        "        ax=myplot[row, col]\n",
        "    )\n",
        "    myplot[row, col].set_title(feature + \"Titanic\")\n",
        "    myplot[row, col].set_xlabel(\"\")\n",
        "    myplot[row, col].set_ylabel(\"count\") \n",
        "    col += 1\n",
        "    if col == 3:\n",
        "        col = 0\n",
        "        row += 1\n",
        "\n",
        "plt.subplots_adjust(hspace=0.5, wspace=0.3)\n",
        "\n",
        "for v in range(2):\n",
        "    for z in range(3):\n",
        "        for bar in myplot[v, z].patches:\n",
        "            label_x = bar.get_x() + bar.get_width() / 2\n",
        "            label_y = bar.get_y() + bar.get_height() / 2\n",
        "\n",
        "            myplot[v, z].text(\n",
        "                label_x, label_y,\n",
        "                str(int(bar.get_height())) + '(' + '{:.0%}'.format(\n",
        "                    bar.get_height() / len(train[feature])\n",
        "                ),\n",
        "                horizontalalignment='center', verticalalignment='center',\n",
        "                color='black', fontsize=10\n",
        "            )\n"
      ]
    },
    {
      "cell_type": "markdown",
      "metadata": {
        "id": "zRKTTSJsp-En"
      },
      "source": [
        "##**Age Distribution**"
      ]
    },
    {
      "cell_type": "markdown",
      "metadata": {
        "id": "cQ5ePbSYp-Eo"
      },
      "source": [
        "Since the age distribution is being inspected before the missing values are handled\n",
        "this sort of plot is **pre-imputation** since we have not accounted for missing values"
      ]
    },
    {
      "cell_type": "code",
      "execution_count": 16,
      "metadata": {
        "colab": {
          "base_uri": "https://localhost:8080/",
          "height": 386
        },
        "id": "PL7Q1o3ap-Ep",
        "outputId": "dec3e8f8-ade7-4e6b-9d1e-152725cc99f9"
      },
      "outputs": [
        {
          "output_type": "execute_result",
          "data": {
            "text/plain": [
              "<seaborn.axisgrid.FacetGrid at 0x7f7fd2ecfc90>"
            ]
          },
          "metadata": {},
          "execution_count": 16
        },
        {
          "output_type": "display_data",
          "data": {
            "text/plain": [
              "<Figure size 360x360 with 1 Axes>"
            ],
            "image/png": "[encoded data removed]"
          },
          "metadata": {
            "needs_background": "light"
          }
        }
      ],
      "source": [
        "known_ages = train[\"Age\"][train[\"Age\"].notnull()]\n",
        "\n",
        "sns.displot(known_ages, kde=True, palette=\"Paired\")"
      ]
    },
    {
      "cell_type": "code",
      "execution_count": 17,
      "metadata": {
        "colab": {
          "base_uri": "https://localhost:8080/",
          "height": 379
        },
        "id": "-1N97wLip-Ep",
        "outputId": "6590935e-c818-4349-c5cd-c36401c52c64"
      },
      "outputs": [
        {
          "output_type": "stream",
          "name": "stderr",
          "text": [
            "/usr/local/lib/python3.7/dist-packages/seaborn/distributions.py:1708: UserWarning: Support for alternate kernels has been removed. Using Gaussian kernel.\n",
            "  warnings.warn(msg, UserWarning)\n"
          ]
        },
        {
          "output_type": "execute_result",
          "data": {
            "text/plain": [
              "<matplotlib.axes._subplots.AxesSubplot at 0x7f7fd0592ed0>"
            ]
          },
          "metadata": {},
          "execution_count": 17
        },
        {
          "output_type": "display_data",
          "data": {
            "text/plain": [
              "<Figure size 720x324 with 1 Axes>"
            ],
            "image/png": "[encoded data removed]"
          },
          "metadata": {
            "needs_background": "light"
          }
        }
      ],
      "source": [
        "fig, ax = plt.subplots(figsize=(10, 4.5))\n",
        "\n",
        "sns.kdeplot(data=train[\"Age\"], kernel=\"gau\", ax=ax,\n",
        "color=\"yellow\", shade=True, legend=True)"
      ]
    },
    {
      "cell_type": "markdown",
      "metadata": {
        "id": "Idv8S8Wqp-Eq"
      },
      "source": [
        "##**Correlation heatmap**"
      ]
    },
    {
      "cell_type": "markdown",
      "metadata": {
        "id": "eDKDT43Rp-Eq"
      },
      "source": [
        "--- Fistly, correlation can be defined as the degree to which things move together. And there two types of correlation:\n",
        "<br>\n",
        "1) Positive \n",
        "<br>\n",
        "2) Negative\n",
        "<br>\n",
        "Correlation ranges from -1.0 to +1.0\n",
        "  \n",
        "--- Correlation heatmaps are types of plot that visualize the strength of relationships between numerical variables. Correlation plots are used to understand which variables are related to each other and the strength of this relationship.\n",
        "<br>\n",
        "---It can also be used to detect multi-collinearity or even outliers\n",
        "<br>\n",
        "**Multicollinearity** - is the occurence of high intercorrelations between two or more independent variables in a mulitple regression model.\n",
        "<br>\n",
        "In simple terms, we can say multicollinearity is when two or predictions in a regression are highly related to one another. Each of this does not provide unqiue and independent information to the regression.\n",
        "<br>\n",
        "**Multiple Regression** - a statistical technique used to analyze the relationship between a single dependent variable and multiple independent variables\n",
        "\n",
        "Note: The heatmap does not include unfactorized categorical columns, it plots solely numerical columns"
      ]
    },
    {
      "cell_type": "code",
      "execution_count": 18,
      "metadata": {
        "colab": {
          "base_uri": "https://localhost:8080/",
          "height": 613
        },
        "id": "Xa6lnonip-Er",
        "outputId": "6bdab49f-b250-404b-8fa2-ba57b23a916c"
      },
      "outputs": [
        {
          "output_type": "execute_result",
          "data": {
            "text/plain": [
              "(7.0, 0.0)"
            ]
          },
          "metadata": {},
          "execution_count": 18
        },
        {
          "output_type": "display_data",
          "data": {
            "text/plain": [
              "<Figure size 720x720 with 2 Axes>"
            ],
            "image/png": "[encoded data removed]"
          },
          "metadata": {
            "needs_background": "light"
          }
        }
      ],
      "source": [
        "fig, ax = plt.subplots(figsize=(10, 10))\n",
        "sns.heatmap(train.corr(), annot=True, fmt='.2f', ax=ax)\n",
        "ax.set_ylim(7, 0)"
      ]
    },
    {
      "cell_type": "code",
      "execution_count": 19,
      "metadata": {
        "id": "7cbxDPNmp-Er"
      },
      "outputs": [],
      "source": [
        "def print_percentages(df, col_name, col_values):\n",
        "    for x in col_values:\n",
        "        group = df.loc[df[col_name] == x]\n",
        "        print (\" {0} Survival rate: {1:.3f}\".format(x, group['Survived'].sum() / group.shape[0]))"
      ]
    },
    {
      "cell_type": "code",
      "execution_count": 20,
      "metadata": {
        "colab": {
          "base_uri": "https://localhost:8080/"
        },
        "id": "pIrm7EaFp-Es",
        "outputId": "00dabcf6-4398-4b5d-a189-fa4cb5316987"
      },
      "outputs": [
        {
          "output_type": "stream",
          "name": "stdout",
          "text": [
            " male Survival rate: 0.189\n",
            " female Survival rate: 0.742\n"
          ]
        }
      ],
      "source": [
        "print_percentages(train, 'Sex', ['male', 'female'])"
      ]
    },
    {
      "cell_type": "markdown",
      "metadata": {
        "id": "znR1kWNCp-Es"
      },
      "source": [
        "##**Gender Against Survival**"
      ]
    },
    {
      "cell_type": "markdown",
      "metadata": {
        "id": "mDNR_VFWp-Et"
      },
      "source": [
        "A plot to check the survival rates with respect to the genders of the passengers."
      ]
    },
    {
      "cell_type": "code",
      "execution_count": 21,
      "metadata": {
        "colab": {
          "base_uri": "https://localhost:8080/",
          "height": 492
        },
        "id": "LfF3GTQrp-Et",
        "outputId": "0c7ed36e-4232-4ca7-dc59-9103e3fd720a"
      },
      "outputs": [
        {
          "output_type": "display_data",
          "data": {
            "text/plain": [
              "<Figure size 720x540 with 1 Axes>"
            ],
            "image/png": "[encoded data removed]"
          },
          "metadata": {
            "needs_background": "light"
          }
        }
      ],
      "source": [
        "fig, ax = plt.subplots(figsize=(10, 7.5))\n",
        "\n",
        "sns.barplot(\n",
        "    x=\"Sex\",\n",
        "    y=\"Survived\",\n",
        "    data=train,\n",
        "    ax=ax,\n",
        "    estimator=np.mean,\n",
        "    linewidth=3\n",
        ")\n",
        "\n",
        "ax.set_title(\"Gender Against Survived\", fontsize=16)\n",
        "ax.set_xlabel(\"Sex\", fontsize=14)\n",
        "ax.set_ylabel(\"Survival Proportion\", fontsize=14)\n",
        "\n",
        "for bar in ax.patches:\n",
        "    label_x = bar.get_x() + bar.get_width() / 2\n",
        "    label_y = bar.get_y() + bar.get_height() / 2\n",
        "\n",
        "    ax.text(\n",
        "        label_x, label_y,\n",
        "        \"{:.3%}\".format(bar.get_height()),\n",
        "        horizontalalignment='center', verticalalignment='center', color='black')\n",
        "    "
      ]
    },
    {
      "cell_type": "markdown",
      "metadata": {
        "id": "9u9DzkKsp-Eu"
      },
      "source": [
        "According to the plot above we can see that a lot of the female passengers aboard the ship survived,<br>\n",
        "this leads us to make an hypothesis that females have a higher rate of survival than males."
      ]
    },
    {
      "cell_type": "code",
      "execution_count": 22,
      "metadata": {
        "colab": {
          "base_uri": "https://localhost:8080/",
          "height": 504
        },
        "id": "4d-hFUWmp-Ev",
        "outputId": "cd03f478-c06b-4315-910c-d74452603d93"
      },
      "outputs": [
        {
          "output_type": "execute_result",
          "data": {
            "text/plain": [
              "<matplotlib.legend.Legend at 0x7f7fd03257d0>"
            ]
          },
          "metadata": {},
          "execution_count": 22
        },
        {
          "output_type": "display_data",
          "data": {
            "text/plain": [
              "<Figure size 720x540 with 1 Axes>"
            ],
            "image/png": "[encoded data removed]"
          },
          "metadata": {
            "needs_background": "light"
          }
        }
      ],
      "source": [
        "fig, ax = plt.subplots(figsize=(10, 7.5))\n",
        "\n",
        "sns.countplot(\n",
        "    x=\"Sex\",\n",
        "    hue=\"Survived\",\n",
        "    data=train,\n",
        ")\n",
        "\n",
        "ax.set_title(\"Survival Distribution among genders\", fontsize=14)\n",
        "ax.set_xlabel(\"Sex\")\n",
        "ax.set_ylabel(\"Number of Passengers Survived\")\n",
        "ax.legend([\"Not Survived\", \"Survived\"])"
      ]
    },
    {
      "cell_type": "markdown",
      "metadata": {
        "id": "R15pozzqp-Ev"
      },
      "source": [
        "##**Passenger Class against survived**"
      ]
    },
    {
      "cell_type": "markdown",
      "metadata": {
        "id": "PBGayaaep-Ew"
      },
      "source": [
        "Here, the aim is to check to see how the passenger class affects the survival rate on the ship.<br>\n",
        "Keeping in mind that Pclass 1 is the most expensive class followed by class 2 and 3."
      ]
    },
    {
      "cell_type": "code",
      "execution_count": 23,
      "metadata": {
        "colab": {
          "base_uri": "https://localhost:8080/",
          "height": 638
        },
        "id": "ms18YMi9p-Ew",
        "outputId": "72098915-0c4a-4b98-962f-511ad0f231cd"
      },
      "outputs": [
        {
          "output_type": "execute_result",
          "data": {
            "text/plain": [
              "Text(0, 0.5, '% of Passengers Survived')"
            ]
          },
          "metadata": {},
          "execution_count": 23
        },
        {
          "output_type": "display_data",
          "data": {
            "text/plain": [
              "<Figure size 576x720 with 1 Axes>"
            ],
            "image/png": "[encoded data removed]"
          },
          "metadata": {
            "needs_background": "light"
          }
        }
      ],
      "source": [
        "fig, ax = plt.subplots(figsize=(8, 10))\n",
        "sns.barplot(\n",
        "    x=\"Pclass\",\n",
        "    y=\"Survived\",\n",
        "    data=train,\n",
        "    estimator=np.mean,\n",
        "    ax=ax)\n",
        "\n",
        "ax.set_title(\"Passenger Class Distribution\")\n",
        "ax.set_xlabel(\"Passenger Class\")\n",
        "ax.set_ylabel(\"% of Passengers Survived\")"
      ]
    },
    {
      "cell_type": "code",
      "execution_count": 24,
      "metadata": {
        "colab": {
          "base_uri": "https://localhost:8080/",
          "height": 441
        },
        "id": "qEUq9rftp-Ex",
        "outputId": "8132c7af-6f8e-4762-ea6d-b9207ecaaba0"
      },
      "outputs": [
        {
          "output_type": "stream",
          "name": "stderr",
          "text": [
            "/usr/local/lib/python3.7/dist-packages/seaborn/_decorators.py:43: FutureWarning: Pass the following variables as keyword args: x, y. From version 0.12, the only valid positional argument will be `data`, and passing other arguments without an explicit keyword will result in an error or misinterpretation.\n",
            "  FutureWarning\n"
          ]
        },
        {
          "output_type": "execute_result",
          "data": {
            "text/plain": [
              "<seaborn.axisgrid.FacetGrid at 0x7f7fd30c80d0>"
            ]
          },
          "metadata": {},
          "execution_count": 24
        },
        {
          "output_type": "display_data",
          "data": {
            "text/plain": [
              "<Figure size 360x360 with 1 Axes>"
            ],
            "image/png": "[encoded data removed]"
          },
          "metadata": {
            "needs_background": "light"
          }
        }
      ],
      "source": [
        "sns.catplot('Pclass', \"Survived\", kind='point', data=train)"
      ]
    },
    {
      "cell_type": "markdown",
      "metadata": {
        "id": "HjTgXSmjp-Ey"
      },
      "source": [
        "Here we can also make an hypothesis that the passenger class has a role to play<br>\n",
        "in the survival of the passengers.<br>\n",
        "<hr>\n",
        "This could however also mean that in relation to the visualization earlier of <br>\n",
        "the relationship between gender and survival, there are more women in Pclass 3 than men hence the high survival rate."
      ]
    },
    {
      "cell_type": "markdown",
      "metadata": {
        "id": "5nZRZ0B4p-Ey"
      },
      "source": [
        "## **Embarked Survived**"
      ]
    },
    {
      "cell_type": "code",
      "execution_count": 25,
      "metadata": {
        "colab": {
          "base_uri": "https://localhost:8080/"
        },
        "id": "kM8BOCQQp-Ey",
        "outputId": "bd18781d-f98b-4e21-c3fa-4c0b8dc3f06e"
      },
      "outputs": [
        {
          "output_type": "stream",
          "name": "stdout",
          "text": [
            " S Survival rate: 0.337\n",
            " C Survival rate: 0.554\n",
            " Q Survival rate: 0.390\n"
          ]
        }
      ],
      "source": [
        "print_percentages(train, 'Embarked', ['S', 'C', 'Q'])"
      ]
    },
    {
      "cell_type": "code",
      "execution_count": 26,
      "metadata": {
        "colab": {
          "base_uri": "https://localhost:8080/",
          "height": 638
        },
        "id": "FddyEeOlp-Ez",
        "outputId": "3cc91cb5-e568-4b71-9a3a-d9568ae3bfe8"
      },
      "outputs": [
        {
          "output_type": "execute_result",
          "data": {
            "text/plain": [
              "Text(0, 0.5, '% of Passengers Survived')"
            ]
          },
          "metadata": {},
          "execution_count": 26
        },
        {
          "output_type": "display_data",
          "data": {
            "text/plain": [
              "<Figure size 576x720 with 1 Axes>"
            ],
            "image/png": "[encoded data removed]"
          },
          "metadata": {
            "needs_background": "light"
          }
        }
      ],
      "source": [
        "fig, ax = plt.subplots(figsize=(8, 10))\n",
        "sns.barplot(\n",
        "    x=\"Embarked\",\n",
        "    y=\"Survived\",\n",
        "    estimator = np.mean,\n",
        "    data=train,\n",
        "    ax=ax,\n",
        "    linewidth=2\n",
        ")\n",
        "ax.set_title(\"Embarked - Survival Rate\")\n",
        "ax.set_xlabel(\"Embarked From\")\n",
        "ax.set_ylabel(\"% of Passengers Survived\")"
      ]
    },
    {
      "cell_type": "markdown",
      "metadata": {
        "id": "M1c3itjfp-E0"
      },
      "source": [
        "From this plot, we see that a lot of the passengers that boarded from Chernbourg survived, <br>\n",
        "this could also mean that a lot of females boarded from Chernbourg and a large percentage of those <br>\n",
        "who boarded boarded into Pclass 1"
      ]
    },
    {
      "cell_type": "markdown",
      "metadata": {
        "id": "kCzTKuiEp-E0"
      },
      "source": [
        "## **Pclass vs Embarked**"
      ]
    },
    {
      "cell_type": "code",
      "execution_count": 27,
      "metadata": {
        "colab": {
          "base_uri": "https://localhost:8080/",
          "height": 327
        },
        "id": "Gyi-G2zEp-E1",
        "scrolled": true,
        "outputId": "7a94d131-4814-4916-c09d-c971334beff1"
      },
      "outputs": [
        {
          "output_type": "display_data",
          "data": {
            "text/plain": [
              "<Figure size 1080x360 with 3 Axes>"
            ],
            "image/png": "[encoded data removed]"
          },
          "metadata": {
            "needs_background": "light"
          }
        }
      ],
      "source": [
        "g = sns.catplot(\n",
        "    x=\"Pclass\", col='Embarked',\n",
        "    data=train, kind=\"count\"\n",
        ")"
      ]
    },
    {
      "cell_type": "markdown",
      "metadata": {
        "id": "k5MTyChmp-E1"
      },
      "source": [
        "Agreeing with the hypothesis, we see that there is a large amount of people boarding into Pclass 1<br> \n",
        "from Chernbourg"
      ]
    },
    {
      "cell_type": "markdown",
      "metadata": {
        "id": "FEYFqZD3p-E2"
      },
      "source": [
        "###**Gender vs. Embarked**"
      ]
    },
    {
      "cell_type": "markdown",
      "metadata": {
        "id": "aMz-7NO3p-E2"
      },
      "source": [
        "A plot to check the relationship between gender and where they boarded the ship from."
      ]
    },
    {
      "cell_type": "code",
      "execution_count": 28,
      "metadata": {
        "colab": {
          "base_uri": "https://localhost:8080/",
          "height": 327
        },
        "id": "didfiaT7p-E2",
        "outputId": "cd07f504-b6b1-47e7-97e1-c517422413f1"
      },
      "outputs": [
        {
          "output_type": "display_data",
          "data": {
            "text/plain": [
              "<Figure size 1080x360 with 3 Axes>"
            ],
            "image/png": "[encoded data removed]"
          },
          "metadata": {
            "needs_background": "light"
          }
        }
      ],
      "source": [
        "g = sns.catplot(\n",
        "    x=\"Sex\",\n",
        "    col=\"Embarked\",\n",
        "    data=train,\n",
        "    kind=\"count\"\n",
        ")"
      ]
    },
    {
      "cell_type": "markdown",
      "metadata": {
        "id": "Jg20rRoWp-E3"
      },
      "source": [
        "###**Age against Survived**"
      ]
    },
    {
      "cell_type": "markdown",
      "metadata": {
        "id": "_6mwYYVBp-E3"
      },
      "source": [
        "A plot to check the relationship between the age distribution in the dataset and the survival rate"
      ]
    },
    {
      "cell_type": "code",
      "execution_count": 29,
      "metadata": {
        "colab": {
          "base_uri": "https://localhost:8080/",
          "height": 414
        },
        "id": "mVuJrNbMp-E4",
        "outputId": "45c8adba-57f4-4a00-c0c2-f0b08a3e88da"
      },
      "outputs": [
        {
          "output_type": "stream",
          "name": "stderr",
          "text": [
            "/usr/local/lib/python3.7/dist-packages/seaborn/distributions.py:1708: UserWarning: Support for alternate kernels has been removed. Using Gaussian kernel.\n",
            "  warnings.warn(msg, UserWarning)\n",
            "/usr/local/lib/python3.7/dist-packages/seaborn/distributions.py:1708: UserWarning: Support for alternate kernels has been removed. Using Gaussian kernel.\n",
            "  warnings.warn(msg, UserWarning)\n"
          ]
        },
        {
          "output_type": "execute_result",
          "data": {
            "text/plain": [
              "<matplotlib.legend.Legend at 0x7f7fd00e4b90>"
            ]
          },
          "metadata": {},
          "execution_count": 29
        },
        {
          "output_type": "display_data",
          "data": {
            "text/plain": [
              "<Figure size 720x324 with 1 Axes>"
            ],
            "image/png": "[encoded data removed]"
          },
          "metadata": {
            "needs_background": "light"
          }
        }
      ],
      "source": [
        "fig, ax = plt.subplots(figsize=(10, 4.5))\n",
        "\n",
        "sns.kdeplot(data=train[\"Age\"][(train[\"Survived\"] == 0) & (train['Age'].notnull())], kernel='gau',\n",
        "ax=ax, color=\"red\", shade=True, legend=True)\n",
        "\n",
        "sns.kdeplot(\n",
        "    data=train[\"Age\"][(train['Survived'] == 1) & (train['Survived'].notnull())],\n",
        "    kernel='gau',\n",
        "    ax=ax,\n",
        "    color=\"blue\",\n",
        "    shade=True\n",
        ")\n",
        "\n",
        "ax.set_xlabel(\"Age\")\n",
        "ax.set_ylabel(\"Probability Density\")\n",
        "ax.legend(\n",
        "    [\"Not Survived\", \"Survived\"]\n",
        ")"
      ]
    },
    {
      "cell_type": "markdown",
      "metadata": {
        "id": "IU59KPpKp-E4"
      },
      "source": [
        "Here we see that we have a modal age interval between 20 and 40, this coul be to imply that a large percentage of the passengers on the ship were within this age range.<br>\n",
        "Also, among those that survive we see that children seem to have been given higher priority than adults since we have a spike in our age - survival plot at the range from 0 - 5.\n",
        "<br>\n",
        "<br>\n",
        "**It is also important to note that this plot is a pre-imputation and might not be a perfect representation of the dataset.**"
      ]
    },
    {
      "cell_type": "markdown",
      "metadata": {
        "id": "rBx51GLXp-E5"
      },
      "source": [
        "### **Plot Against survived**"
      ]
    },
    {
      "cell_type": "markdown",
      "metadata": {
        "id": "24cZTD1Pp-E5"
      },
      "source": [
        "A plot to check the survival ratio among the passenger population on the ship."
      ]
    },
    {
      "cell_type": "code",
      "execution_count": 30,
      "metadata": {
        "colab": {
          "base_uri": "https://localhost:8080/",
          "height": 631
        },
        "id": "hcAJuuMJp-E6",
        "outputId": "243040f5-4249-451a-f0e3-553becd93b4a"
      },
      "outputs": [
        {
          "output_type": "stream",
          "name": "stderr",
          "text": [
            "/usr/local/lib/python3.7/dist-packages/seaborn/distributions.py:1708: UserWarning: Support for alternate kernels has been removed. Using Gaussian kernel.\n",
            "  warnings.warn(msg, UserWarning)\n",
            "/usr/local/lib/python3.7/dist-packages/seaborn/distributions.py:1708: UserWarning: Support for alternate kernels has been removed. Using Gaussian kernel.\n",
            "  warnings.warn(msg, UserWarning)\n"
          ]
        },
        {
          "output_type": "execute_result",
          "data": {
            "text/plain": [
              "<matplotlib.legend.Legend at 0x7f7fd00a07d0>"
            ]
          },
          "metadata": {},
          "execution_count": 30
        },
        {
          "output_type": "display_data",
          "data": {
            "text/plain": [
              "<Figure size 720x612 with 1 Axes>"
            ],
            "image/png": "[encoded data removed]"
          },
          "metadata": {
            "needs_background": "light"
          }
        }
      ],
      "source": [
        "fig, ax = plt.subplots(figsize=(10, 8.5))\n",
        "\n",
        "sns.kdeplot(\n",
        "    data=train.loc[(train[\"Survived\"] == 0), \"Fare\"],\n",
        "    kernel='gau', ax=ax,\n",
        "    color=\"red\",\n",
        "    shade=True\n",
        ")\n",
        "\n",
        "sns.kdeplot(\n",
        "    data=train.loc[(train[\"Survived\"] == 1), \"Fare\"],\n",
        "    kernel='gau', ax=ax,\n",
        "    shade=True,\n",
        "    color=\"blue\"\n",
        ")\n",
        "\n",
        "ax.legend(['Not Survived', 'Survived'])\n"
      ]
    },
    {
      "cell_type": "markdown",
      "metadata": {
        "id": "Wlaaq-9gp-E6"
      },
      "source": [
        "Here, it is seen that a large percentage of the passengers on board did not survive."
      ]
    },
    {
      "cell_type": "code",
      "execution_count": 31,
      "metadata": {
        "colab": {
          "base_uri": "https://localhost:8080/"
        },
        "id": "YRRCZtI1p-E7",
        "outputId": "a22b92ad-dd8c-4a22-bae5-b60b6f19a513"
      },
      "outputs": [
        {
          "output_type": "stream",
          "name": "stdout",
          "text": [
            " 0 Survival rate: 0.344\n",
            " 1 Survival rate: 0.551\n",
            " 2 Survival rate: 0.500\n",
            " 3 Survival rate: 0.600\n",
            " 4 Survival rate: 0.000\n",
            " 5 Survival rate: 0.200\n",
            " 6 Survival rate: 0.000\n"
          ]
        }
      ],
      "source": [
        "print_percentages(train, 'Parch', [0, 1, 2, 3, 4, 5, 6])"
      ]
    },
    {
      "cell_type": "markdown",
      "metadata": {
        "id": "Ny3YoeFmp-E7"
      },
      "source": [
        "### **Parch vs. Survived**"
      ]
    },
    {
      "cell_type": "markdown",
      "metadata": {
        "id": "BD4GfTu7p-E8"
      },
      "source": [
        "A plot to check the relationship between the number of parents/children each passenger and the survival rate"
      ]
    },
    {
      "cell_type": "code",
      "execution_count": 32,
      "metadata": {
        "colab": {
          "base_uri": "https://localhost:8080/",
          "height": 638
        },
        "id": "oszk9Syrp-E8",
        "outputId": "fbb39a43-861f-4027-9638-a8a4d16644a5"
      },
      "outputs": [
        {
          "output_type": "execute_result",
          "data": {
            "text/plain": [
              "Text(0, 0.5, '% of Passenger Survived')"
            ]
          },
          "metadata": {},
          "execution_count": 32
        },
        {
          "output_type": "display_data",
          "data": {
            "text/plain": [
              "<Figure size 576x720 with 1 Axes>"
            ],
            "image/png": "[encoded data removed]"
          },
          "metadata": {
            "needs_background": "light"
          }
        }
      ],
      "source": [
        "fig, ax = plt.subplots(figsize=(8, 10))\n",
        "sns.barplot(\n",
        "    x=\"Parch\",\n",
        "    y=\"Survived\",\n",
        "    estimator=np.mean,\n",
        "    data=train,\n",
        "    ax=ax,\n",
        "    linewidth=2\n",
        ")\n",
        "\n",
        "ax.set_title(\"Parch Distribution (Survival Rate)\")\n",
        "ax.set_xlabel(\"Parch\")\n",
        "ax.set_ylabel(\"% of Passenger Survived\")\n"
      ]
    },
    {
      "cell_type": "code",
      "execution_count": 33,
      "metadata": {
        "colab": {
          "base_uri": "https://localhost:8080/",
          "height": 503
        },
        "id": "ZuNhUncSp-E9",
        "outputId": "1365c3fd-41ed-4f29-9763-003f32dd06ea"
      },
      "outputs": [
        {
          "output_type": "execute_result",
          "data": {
            "text/plain": [
              "<matplotlib.legend.Legend at 0x7f7fcff876d0>"
            ]
          },
          "metadata": {},
          "execution_count": 33
        },
        {
          "output_type": "display_data",
          "data": {
            "text/plain": [
              "<Figure size 720x540 with 1 Axes>"
            ],
            "image/png": "[encoded data removed]"
          },
          "metadata": {
            "needs_background": "light"
          }
        }
      ],
      "source": [
        "fig, ax = plt.subplots(figsize=(10, 7.5))\n",
        "\n",
        "sns.countplot(\n",
        "    x=\"Parch\",\n",
        "    data=train,\n",
        "    hue=\"Survived\",\n",
        "    linewidth=2\n",
        ")\n",
        "\n",
        "ax.set_title(\"Parch Distribution\")\n",
        "ax.set_xlabel(\"Parch\")\n",
        "ax.set_ylabel(\"Frequency of Survival\")\n",
        "ax.legend([\"Not Survived\", \"Survived\"])"
      ]
    },
    {
      "cell_type": "markdown",
      "metadata": {
        "id": "Ate45Svfp-E-"
      },
      "source": [
        "Here, it is evident that those with no parents/children had a lower survival ratio"
      ]
    },
    {
      "cell_type": "code",
      "execution_count": 34,
      "metadata": {
        "colab": {
          "base_uri": "https://localhost:8080/"
        },
        "id": "5NUJcZ6yp-E-",
        "outputId": "ce327945-7e44-4e58-9620-dd59cb0b49e4"
      },
      "outputs": [
        {
          "output_type": "execute_result",
          "data": {
            "text/plain": [
              "0    608\n",
              "1    209\n",
              "2     28\n",
              "4     18\n",
              "3     16\n",
              "8      7\n",
              "5      5\n",
              "Name: SibSp, dtype: int64"
            ]
          },
          "metadata": {},
          "execution_count": 34
        }
      ],
      "source": [
        "train.SibSp.value_counts()"
      ]
    },
    {
      "cell_type": "code",
      "execution_count": 35,
      "metadata": {
        "colab": {
          "base_uri": "https://localhost:8080/"
        },
        "id": "hByEhvZbp-E-",
        "outputId": "4cd1c6b8-6b2b-493c-9ff3-5f29c700c9ef"
      },
      "outputs": [
        {
          "output_type": "stream",
          "name": "stdout",
          "text": [
            " 0 Survival rate: 0.345\n",
            " 1 Survival rate: 0.536\n",
            " 2 Survival rate: 0.464\n",
            " 3 Survival rate: 0.250\n",
            " 4 Survival rate: 0.167\n",
            " 5 Survival rate: 0.000\n",
            " 6 Survival rate: nan\n"
          ]
        },
        {
          "output_type": "stream",
          "name": "stderr",
          "text": [
            "/usr/local/lib/python3.7/dist-packages/ipykernel_launcher.py:4: RuntimeWarning: invalid value encountered in long_scalars\n",
            "  after removing the cwd from sys.path.\n"
          ]
        }
      ],
      "source": [
        "print_percentages(train, 'SibSp', [0, 1, 2, 3, 4, 5, 6])"
      ]
    },
    {
      "cell_type": "markdown",
      "metadata": {
        "id": "vK2pK9-lp-E_"
      },
      "source": [
        "### **SibSp vs. Survived**\n",
        "<br>\n",
        "A plot to check the ratio between the total number of siblings each passenger has and their survival."
      ]
    },
    {
      "cell_type": "code",
      "execution_count": 36,
      "metadata": {
        "colab": {
          "base_uri": "https://localhost:8080/",
          "height": 638
        },
        "id": "Azf_EgDrp-E_",
        "outputId": "91b7761b-b4aa-4f0d-8147-47df90a912df"
      },
      "outputs": [
        {
          "output_type": "execute_result",
          "data": {
            "text/plain": [
              "Text(0, 0.5, 'Survival Percentage')"
            ]
          },
          "metadata": {},
          "execution_count": 36
        },
        {
          "output_type": "display_data",
          "data": {
            "text/plain": [
              "<Figure size 576x720 with 1 Axes>"
            ],
            "image/png": "[encoded data removed]"
          },
          "metadata": {
            "needs_background": "light"
          }
        }
      ],
      "source": [
        "fig, ax = plt.subplots(figsize=(8, 10))\n",
        "\n",
        "sns.barplot(\n",
        "    x=\"SibSp\",\n",
        "    y=\"Survived\",\n",
        "    estimator=np.mean,\n",
        "    data=train,\n",
        "    ax=ax\n",
        ")\n",
        "\n",
        "ax.set_title(\"Siblings Distribution against Survival\")\n",
        "ax.set_xlabel(\"Number of Sibligs\")\n",
        "ax.set_ylabel(\"Survival Percentage\")"
      ]
    },
    {
      "cell_type": "code",
      "execution_count": 37,
      "metadata": {
        "colab": {
          "base_uri": "https://localhost:8080/",
          "height": 503
        },
        "id": "_ZSRu_psp-E_",
        "outputId": "6a347429-e53f-4d53-cfd2-b024dee6823c"
      },
      "outputs": [
        {
          "output_type": "execute_result",
          "data": {
            "text/plain": [
              "<matplotlib.legend.Legend at 0x7f7fd37484d0>"
            ]
          },
          "metadata": {},
          "execution_count": 37
        },
        {
          "output_type": "display_data",
          "data": {
            "text/plain": [
              "<Figure size 720x540 with 1 Axes>"
            ],
            "image/png": "[encoded data removed]"
          },
          "metadata": {
            "needs_background": "light"
          }
        }
      ],
      "source": [
        "fig, ax = plt.subplots(figsize=(10, 7.5))\n",
        "\n",
        "sns.countplot(\n",
        "    x=\"SibSp\",\n",
        "    hue=\"Survived\",\n",
        "    data=train, \n",
        "    linewidth=2\n",
        ")\n",
        "\n",
        "ax.set_title(\"Siblings Distribution Against Survival\")\n",
        "ax.set_xlabel(\"Siblings\")\n",
        "ax.set_ylabel(\"Survival rate\")\n",
        "ax.legend([\"Not Survived\", \"Survived\"])"
      ]
    },
    {
      "cell_type": "markdown",
      "metadata": {
        "id": "CmLOSw8Rp-FA"
      },
      "source": [
        "## **Feature Engineering**\n",
        "---Feature engineering refers to the process of using domain knowledge to select and transform the most relevant variables from raw data when creating a predictive model using machine learning or statistical modeling.\n",
        "<br>\n",
        "---More so, Feature selection offers a simple yet effective way to overcome this challenge by eliminating redundant and irrelevant data. Removing the irrelevant data improves learning accuracy, reduces the computation time, and facilitates an enhanced understanding for the learning model or data.\n",
        "<br>\n",
        "The aim of this step is to check our dataset and check our features to see the ones that are fit and needed for the training of our model.\n",
        "<br>\n",
        "In this step we do thing like dropping unnecessary features, engineering new features from exsisting features, scaling our features and encoding\n",
        "<br>\n",
        "Some techinques involved in feature enginerring incudes;\n",
        "<br>\n",
        "1) Imputation\n",
        "<br>\n",
        "2) Discretization\n",
        "<br>\n",
        "3) Categorical Encoding\n",
        "<br>\n",
        "4) Feature Splitting\n",
        "<br>\n",
        "5) Handling Outliers\n",
        "<br>\n",
        "6) Variable Transformations\n",
        "<br>\n",
        "7) Scaling\n",
        "<br> \n",
        "8) Creating Features"
      ]
    },
    {
      "cell_type": "markdown",
      "metadata": {
        "id": "J31FkvEup-FA"
      },
      "source": [
        "## **Missing Values**\n",
        "\n",
        "<br>\n",
        "In fiilling missing values, we use information from a heatmap to check the features relations with other features in the dataset in order to have a better approximation of what to impute the missing values with."
      ]
    },
    {
      "cell_type": "code",
      "execution_count": 38,
      "metadata": {
        "colab": {
          "base_uri": "https://localhost:8080/"
        },
        "id": "yQSpKAY0p-FB",
        "outputId": "7012dbf3-19aa-45a0-d9b0-6dae89ec36c3"
      },
      "outputs": [
        {
          "output_type": "execute_result",
          "data": {
            "text/plain": [
              "PassengerId      0\n",
              "Survived         0\n",
              "Pclass           0\n",
              "Name             0\n",
              "Sex              0\n",
              "Age            177\n",
              "SibSp            0\n",
              "Parch            0\n",
              "Ticket           0\n",
              "Fare             0\n",
              "Cabin          687\n",
              "Embarked         2\n",
              "dtype: int64"
            ]
          },
          "metadata": {},
          "execution_count": 38
        }
      ],
      "source": [
        "train.isnull().sum()"
      ]
    },
    {
      "cell_type": "code",
      "execution_count": 39,
      "metadata": {
        "colab": {
          "base_uri": "https://localhost:8080/"
        },
        "id": "g21eVJ1Dp-FB",
        "outputId": "10e3e7fc-3d1b-4e50-edbb-5eca3b7c42fc"
      },
      "outputs": [
        {
          "output_type": "execute_result",
          "data": {
            "text/plain": [
              "PassengerId      0\n",
              "Pclass           0\n",
              "Name             0\n",
              "Sex              0\n",
              "Age             86\n",
              "SibSp            0\n",
              "Parch            0\n",
              "Ticket           0\n",
              "Fare             1\n",
              "Cabin          327\n",
              "Embarked         0\n",
              "dtype: int64"
            ]
          },
          "metadata": {},
          "execution_count": 39
        }
      ],
      "source": [
        "test.isnull().sum()"
      ]
    },
    {
      "cell_type": "markdown",
      "metadata": {
        "id": "xDfpsPrTp-FB"
      },
      "source": [
        "###  **Fare Test set against the Training set**"
      ]
    },
    {
      "cell_type": "markdown",
      "metadata": {
        "id": "TIPGmiyzp-FB"
      },
      "source": [
        "Here we check the median of the values in the parch and Pclass features and then select the median value coressponding to a passenger with Pclass 3 and 0 dependents"
      ]
    },
    {
      "cell_type": "code",
      "execution_count": 40,
      "metadata": {
        "colab": {
          "base_uri": "https://localhost:8080/"
        },
        "id": "rMVxMiC2p-FC",
        "outputId": "143ebbcd-6906-4cdd-ad7a-d3c2d9910f66"
      },
      "outputs": [
        {
          "output_type": "execute_result",
          "data": {
            "text/plain": [
              "7.8542"
            ]
          },
          "metadata": {},
          "execution_count": 40
        }
      ],
      "source": [
        "median_fare = test.groupby(['Pclass', 'Parch']).Fare.median()[3][0]\n",
        "\n",
        "median_fare"
      ]
    },
    {
      "cell_type": "code",
      "execution_count": 41,
      "metadata": {
        "id": "d8u7ftrZp-FC"
      },
      "outputs": [],
      "source": [
        "# filling the missing values in the fares feature with the median\n",
        "test['Fare'] = test['Fare'].fillna(median_fare)"
      ]
    },
    {
      "cell_type": "markdown",
      "metadata": {
        "id": "n2z6kMPep-FC"
      },
      "source": [
        "###**Checking the Test set against the training set**"
      ]
    },
    {
      "cell_type": "code",
      "execution_count": 42,
      "metadata": {
        "colab": {
          "base_uri": "https://localhost:8080/",
          "height": 368
        },
        "id": "jsJUBL-fp-FD",
        "outputId": "6cfb77d2-9a89-4407-dec1-ca96952775a0"
      },
      "outputs": [
        {
          "output_type": "execute_result",
          "data": {
            "text/plain": [
              "<matplotlib.legend.Legend at 0x7f7fcfd5fad0>"
            ]
          },
          "metadata": {},
          "execution_count": 42
        },
        {
          "output_type": "display_data",
          "data": {
            "text/plain": [
              "<Figure size 1440x475.2 with 1 Axes>"
            ],
            "image/png": "[encoded data removed]"
          },
          "metadata": {
            "needs_background": "light"
          }
        }
      ],
      "source": [
        "fig, ax = plt.subplots(figsize=(20, 6.6))\n",
        "\n",
        "sns.kdeplot(train.Fare, color=\"red\", label=\"Training Data\", ax=ax)\n",
        "sns.kdeplot(test.Fare, label=\"Test Data\", color='blue', ax=ax)\n",
        "\n",
        "ax.set_title(\"SuperImposed Distribution plot for Fare (Train vs Test)\")\n",
        "ax.set_ylabel(\"Frequency\")\n",
        "ax.set_xlabel(\"Fares\")\n",
        "ax.legend()"
      ]
    },
    {
      "cell_type": "markdown",
      "metadata": {
        "id": "kObS2kl9p-FD"
      },
      "source": [
        "##**Embarked**"
      ]
    },
    {
      "cell_type": "code",
      "execution_count": 43,
      "metadata": {
        "colab": {
          "base_uri": "https://localhost:8080/"
        },
        "id": "PfVF0NFlp-FD",
        "outputId": "0f5faca6-76f3-450d-b441-96ebf8c103ec"
      },
      "outputs": [
        {
          "output_type": "execute_result",
          "data": {
            "text/plain": [
              "0"
            ]
          },
          "metadata": {},
          "execution_count": 43
        }
      ],
      "source": [
        "test.Embarked.isnull().sum()"
      ]
    },
    {
      "cell_type": "code",
      "execution_count": 44,
      "metadata": {
        "colab": {
          "base_uri": "https://localhost:8080/"
        },
        "id": "Gq_lfcHLp-FD",
        "outputId": "16b83a8f-1835-4523-b546-0eca60e42c00"
      },
      "outputs": [
        {
          "output_type": "execute_result",
          "data": {
            "text/plain": [
              "2"
            ]
          },
          "metadata": {},
          "execution_count": 44
        }
      ],
      "source": [
        "train.Embarked.isnull().sum()"
      ]
    },
    {
      "cell_type": "code",
      "execution_count": 45,
      "metadata": {
        "colab": {
          "base_uri": "https://localhost:8080/",
          "height": 173
        },
        "id": "0f2OmsD5p-FE",
        "outputId": "ae18667b-9ef0-496e-fd3d-fc8ba58fa1db"
      },
      "outputs": [
        {
          "output_type": "execute_result",
          "data": {
            "text/plain": [
              "     PassengerId  Survived  Pclass                                       Name  \\\n",
              "61            62         1       1                        Icard, Miss. Amelie   \n",
              "829          830         1       1  Stone, Mrs. George Nelson (Martha Evelyn)   \n",
              "\n",
              "        Sex   Age  SibSp  Parch  Ticket  Fare Cabin Embarked  \n",
              "61   female  38.0      0      0  113572  80.0   B28      NaN  \n",
              "829  female  62.0      0      0  113572  80.0   B28      NaN  "
            ],
            "text/html": [
              "\n",
              "  <div id=\"df-cf389dd2-278a-4900-bb78-aa1a0a2214e9\">\n",
              "    <div class=\"colab-df-container\">\n",
              "      <div>\n",
              "<style scoped>\n",
              "    .dataframe tbody tr th:only-of-type {\n",
              "        vertical-align: middle;\n",
              "    }\n",
              "\n",
              "    .dataframe tbody tr th {\n",
              "        vertical-align: top;\n",
              "    }\n",
              "\n",
              "    .dataframe thead th {\n",
              "        text-align: right;\n",
              "    }\n",
              "</style>\n",
              "<table border=\"1\" class=\"dataframe\">\n",
              "  <thead>\n",
              "    <tr style=\"text-align: right;\">\n",
              "      <th></th>\n",
              "      <th>PassengerId</th>\n",
              "      <th>Survived</th>\n",
              "      <th>Pclass</th>\n",
              "      <th>Name</th>\n",
              "      <th>Sex</th>\n",
              "      <th>Age</th>\n",
              "      <th>SibSp</th>\n",
              "      <th>Parch</th>\n",
              "      <th>Ticket</th>\n",
              "      <th>Fare</th>\n",
              "      <th>Cabin</th>\n",
              "      <th>Embarked</th>\n",
              "    </tr>\n",
              "  </thead>\n",
              "  <tbody>\n",
              "    <tr>\n",
              "      <th>61</th>\n",
              "      <td>62</td>\n",
              "      <td>1</td>\n",
              "      <td>1</td>\n",
              "      <td>Icard, Miss. Amelie</td>\n",
              "      <td>female</td>\n",
              "      <td>38.0</td>\n",
              "      <td>0</td>\n",
              "      <td>0</td>\n",
              "      <td>113572</td>\n",
              "      <td>80.0</td>\n",
              "      <td>B28</td>\n",
              "      <td>NaN</td>\n",
              "    </tr>\n",
              "    <tr>\n",
              "      <th>829</th>\n",
              "      <td>830</td>\n",
              "      <td>1</td>\n",
              "      <td>1</td>\n",
              "      <td>Stone, Mrs. George Nelson (Martha Evelyn)</td>\n",
              "      <td>female</td>\n",
              "      <td>62.0</td>\n",
              "      <td>0</td>\n",
              "      <td>0</td>\n",
              "      <td>113572</td>\n",
              "      <td>80.0</td>\n",
              "      <td>B28</td>\n",
              "      <td>NaN</td>\n",
              "    </tr>\n",
              "  </tbody>\n",
              "</table>\n",
              "</div>\n",
              "      <button class=\"colab-df-convert\" onclick=\"convertToInteractive('df-cf389dd2-278a-4900-bb78-aa1a0a2214e9')\"\n",
              "              title=\"Convert this dataframe to an interactive table.\"\n",
              "              style=\"display:none;\">\n",
              "        \n",
              "  <svg xmlns=\"http://www.w3.org/2000/svg\" height=\"24px\"viewBox=\"0 0 24 24\"\n",
              "       width=\"24px\">\n",
              "    <path d=\"M0 0h24v24H0V0z\" fill=\"none\"/>\n",
              "    <path d=\"M18.56 5.44l.94 2.06.94-2.06 2.06-.94-2.06-.94-.94-2.06-.94 2.06-2.06.94zm-11 1L8.5 8.5l.94-2.06 2.06-.94-2.06-.94L8.5 2.5l-.94 2.06-2.06.94zm10 10l.94 2.06.94-2.06 2.06-.94-2.06-.94-.94-2.06-.94 2.06-2.06.94z\"/><path d=\"M17.41 7.96l-1.37-1.37c-.4-.4-.92-.59-1.43-.59-.52 0-1.04.2-1.43.59L10.3 9.45l-7.72 7.72c-.78.78-.78 2.05 0 2.83L4 21.41c.39.39.9.59 1.41.59.51 0 1.02-.2 1.41-.59l7.78-7.78 2.81-2.81c.8-.78.8-2.07 0-2.86zM5.41 20L4 18.59l7.72-7.72 1.47 1.35L5.41 20z\"/>\n",
              "  </svg>\n",
              "      </button>\n",
              "      \n",
              "  <style>\n",
              "    .colab-df-container {\n",
              "      display:flex;\n",
              "      flex-wrap:wrap;\n",
              "      gap: 12px;\n",
              "    }\n",
              "\n",
              "    .colab-df-convert {\n",
              "      background-color: #E8F0FE;\n",
              "      border: none;\n",
              "      border-radius: 50%;\n",
              "      cursor: pointer;\n",
              "      display: none;\n",
              "      fill: #1967D2;\n",
              "      height: 32px;\n",
              "      padding: 0 0 0 0;\n",
              "      width: 32px;\n",
              "    }\n",
              "\n",
              "    .colab-df-convert:hover {\n",
              "      background-color: #E2EBFA;\n",
              "      box-shadow: 0px 1px 2px rgba(60, 64, 67, 0.3), 0px 1px 3px 1px rgba(60, 64, 67, 0.15);\n",
              "      fill: #174EA6;\n",
              "    }\n",
              "\n",
              "    [theme=dark] .colab-df-convert {\n",
              "      background-color: #3B4455;\n",
              "      fill: #D2E3FC;\n",
              "    }\n",
              "\n",
              "    [theme=dark] .colab-df-convert:hover {\n",
              "      background-color: #434B5C;\n",
              "      box-shadow: 0px 1px 3px 1px rgba(0, 0, 0, 0.15);\n",
              "      filter: drop-shadow(0px 1px 2px rgba(0, 0, 0, 0.3));\n",
              "      fill: #FFFFFF;\n",
              "    }\n",
              "  </style>\n",
              "\n",
              "      <script>\n",
              "        const buttonEl =\n",
              "          document.querySelector('#df-cf389dd2-278a-4900-bb78-aa1a0a2214e9 button.colab-df-convert');\n",
              "        buttonEl.style.display =\n",
              "          google.colab.kernel.accessAllowed ? 'block' : 'none';\n",
              "\n",
              "        async function convertToInteractive(key) {\n",
              "          const element = document.querySelector('#df-cf389dd2-278a-4900-bb78-aa1a0a2214e9');\n",
              "          const dataTable =\n",
              "            await google.colab.kernel.invokeFunction('convertToInteractive',\n",
              "                                                     [key], {});\n",
              "          if (!dataTable) return;\n",
              "\n",
              "          const docLinkHtml = 'Like what you see? Visit the ' +\n",
              "            '<a target=\"_blank\" href=https://colab.research.google.com/notebooks/data_table.ipynb>data table notebook</a>'\n",
              "            + ' to learn more about interactive tables.';\n",
              "          element.innerHTML = '';\n",
              "          dataTable['output_type'] = 'display_data';\n",
              "          await google.colab.output.renderOutput(dataTable, element);\n",
              "          const docLink = document.createElement('div');\n",
              "          docLink.innerHTML = docLinkHtml;\n",
              "          element.appendChild(docLink);\n",
              "        }\n",
              "      </script>\n",
              "    </div>\n",
              "  </div>\n",
              "  "
            ]
          },
          "metadata": {},
          "execution_count": 45
        }
      ],
      "source": [
        "# Checking the rows with missing values\n",
        "train[train.Embarked.isnull()]"
      ]
    },
    {
      "cell_type": "markdown",
      "metadata": {
        "id": "iRKrzFF5p-FE"
      },
      "source": [
        "Borrowing from the EDA performed on Embarked earlier, it is safe to assume the passengers who bought Pclass 1 tickets are from the \"richest\" town which is Southhampton"
      ]
    },
    {
      "cell_type": "code",
      "execution_count": 46,
      "metadata": {
        "id": "R1uI67z6p-FE"
      },
      "outputs": [],
      "source": [
        "train[\"Embarked\"] = train[\"Embarked\"].fillna('S')"
      ]
    },
    {
      "cell_type": "markdown",
      "metadata": {
        "id": "j78pIK8jp-FF"
      },
      "source": [
        "##**Age**"
      ]
    },
    {
      "cell_type": "code",
      "execution_count": 47,
      "metadata": {
        "colab": {
          "base_uri": "https://localhost:8080/"
        },
        "id": "q1UXB74Xp-FF",
        "outputId": "ea890ce0-c70c-47e1-8d82-e8bf53d85664"
      },
      "outputs": [
        {
          "output_type": "execute_result",
          "data": {
            "text/plain": [
              "PassengerId      0\n",
              "Pclass           0\n",
              "Name             0\n",
              "Sex              0\n",
              "Age             86\n",
              "SibSp            0\n",
              "Parch            0\n",
              "Ticket           0\n",
              "Fare             0\n",
              "Cabin          327\n",
              "Embarked         0\n",
              "dtype: int64"
            ]
          },
          "metadata": {},
          "execution_count": 47
        }
      ],
      "source": [
        "test.isnull().sum()"
      ]
    },
    {
      "cell_type": "code",
      "execution_count": 48,
      "metadata": {
        "colab": {
          "base_uri": "https://localhost:8080/"
        },
        "id": "Vo8sNixhp-FF",
        "outputId": "4193decc-862c-40b2-d0f1-9d69bfaac618"
      },
      "outputs": [
        {
          "output_type": "execute_result",
          "data": {
            "text/plain": [
              "PassengerId      0\n",
              "Survived         0\n",
              "Pclass           0\n",
              "Name             0\n",
              "Sex              0\n",
              "Age            177\n",
              "SibSp            0\n",
              "Parch            0\n",
              "Ticket           0\n",
              "Fare             0\n",
              "Cabin          687\n",
              "Embarked         0\n",
              "dtype: int64"
            ]
          },
          "metadata": {},
          "execution_count": 48
        }
      ],
      "source": [
        "train.isnull().sum()"
      ]
    },
    {
      "cell_type": "markdown",
      "metadata": {
        "id": "d3F9xzXwp-FG"
      },
      "source": [
        "We have a lot of missing values in both the test and training set"
      ]
    },
    {
      "cell_type": "code",
      "execution_count": 49,
      "metadata": {
        "colab": {
          "base_uri": "https://localhost:8080/",
          "height": 430
        },
        "id": "5vj4pWjSp-FG",
        "outputId": "3e3c77e4-cdf5-4421-8feb-5ed21109b402"
      },
      "outputs": [
        {
          "output_type": "stream",
          "name": "stderr",
          "text": [
            "/usr/local/lib/python3.7/dist-packages/seaborn/distributions.py:1708: UserWarning: Support for alternate kernels has been removed. Using Gaussian kernel.\n",
            "  warnings.warn(msg, UserWarning)\n",
            "/usr/local/lib/python3.7/dist-packages/seaborn/distributions.py:1708: UserWarning: Support for alternate kernels has been removed. Using Gaussian kernel.\n",
            "  warnings.warn(msg, UserWarning)\n"
          ]
        },
        {
          "output_type": "execute_result",
          "data": {
            "text/plain": [
              "<matplotlib.legend.Legend at 0x7f7fd00739d0>"
            ]
          },
          "metadata": {},
          "execution_count": 49
        },
        {
          "output_type": "display_data",
          "data": {
            "text/plain": [
              "<Figure size 720x324 with 1 Axes>"
            ],
            "image/png": "[encoded data removed]"
          },
          "metadata": {
            "needs_background": "light"
          }
        }
      ],
      "source": [
        "# Exploring the age distribution in train set\n",
        "fig, ax = plt.subplots(figsize=(10, 4.5))\n",
        "\n",
        "preimputation=sns.kdeplot(\n",
        "    data=train[\"Age\"][(train['Survived'] == 0) & (train['Age'].notnull())],\n",
        "    kernel='gau',\n",
        "    label=\"Not Survived\",\n",
        "    ax=ax,\n",
        "    color='red',\n",
        "    shade=True,\n",
        "    legend=True\n",
        ")\n",
        "\n",
        "preimputation = sns.kdeplot(\n",
        "    data=train[\"Age\"][(train['Survived'] == 1) & (train['Age'].notnull())],\n",
        "    kernel='gau',\n",
        "    label=\"Survived\",\n",
        "    ax=ax,\n",
        "    color='Blue',\n",
        "    shade=True,\n",
        "    legend=True\n",
        ")\n",
        "\n",
        "ax.set_xlabel(\"Age\")\n",
        "ax.set_ylabel(\"Frequency\")\n",
        "ax.set_title(\"Superimposed KDE Plot for age of survived\")\n",
        "ax.legend()"
      ]
    },
    {
      "cell_type": "code",
      "execution_count": 50,
      "metadata": {
        "id": "te9uGtzjp-FG"
      },
      "outputs": [],
      "source": [
        "# Creating a copy of the training set to test out the options\n",
        "copy2 = train.copy()\n",
        "missing_age_rows = copy2.Age.isna()"
      ]
    },
    {
      "cell_type": "code",
      "execution_count": 51,
      "metadata": {
        "colab": {
          "base_uri": "https://localhost:8080/"
        },
        "id": "4-UDdVydp-FH",
        "outputId": "064eacf0-bde6-4ecf-beef-e0e221c3c8a8"
      },
      "outputs": [
        {
          "output_type": "execute_result",
          "data": {
            "text/plain": [
              "0      False\n",
              "1      False\n",
              "2      False\n",
              "3      False\n",
              "4      False\n",
              "       ...  \n",
              "886    False\n",
              "887    False\n",
              "888     True\n",
              "889    False\n",
              "890    False\n",
              "Name: Age, Length: 891, dtype: bool"
            ]
          },
          "metadata": {},
          "execution_count": 51
        }
      ],
      "source": [
        "missing_age_rows"
      ]
    },
    {
      "cell_type": "code",
      "execution_count": 52,
      "metadata": {
        "colab": {
          "base_uri": "https://localhost:8080/"
        },
        "id": "ByFoiPKmp-FH",
        "outputId": "959d46cb-ee00-449a-d0cc-42711081e4a9"
      },
      "outputs": [
        {
          "output_type": "execute_result",
          "data": {
            "text/plain": [
              "Pclass  SibSp\n",
              "1       0        37.0\n",
              "        1        38.0\n",
              "        2        44.0\n",
              "        3        23.0\n",
              "2       0        30.0\n",
              "        1        29.0\n",
              "        2        23.5\n",
              "        3        30.0\n",
              "3       0        26.0\n",
              "        1        25.0\n",
              "        2        19.5\n",
              "        3         6.0\n",
              "        4         6.5\n",
              "        5        11.0\n",
              "        8         NaN\n",
              "Name: Age, dtype: float64"
            ]
          },
          "metadata": {},
          "execution_count": 52
        }
      ],
      "source": [
        "age_median_pclass_sibsp = copy2.groupby(['Pclass', 'SibSp'])['Age'].median()\n",
        "age_median_pclass_sibsp\n"
      ]
    },
    {
      "cell_type": "markdown",
      "metadata": {
        "id": "ecIV8aA3p-FH"
      },
      "source": [
        "Passengers with Pclass 3 and sibsp 8 all have missing values so we impute it with the values from pclass 3 sibsp 5 since its the closest to it in the dataset\n"
      ]
    },
    {
      "cell_type": "code",
      "execution_count": 53,
      "metadata": {
        "id": "tOLdmxPhp-FH"
      },
      "outputs": [],
      "source": [
        "age_median_pclass_sibsp[3][8] = age_median_pclass_sibsp[3][5]"
      ]
    },
    {
      "cell_type": "code",
      "execution_count": 54,
      "metadata": {
        "colab": {
          "base_uri": "https://localhost:8080/"
        },
        "id": "qmDFM1hfp-FI",
        "outputId": "b2e8bf61-5500-4c1c-e18c-87db4641d17c"
      },
      "outputs": [
        {
          "output_type": "execute_result",
          "data": {
            "text/plain": [
              "Pclass  SibSp\n",
              "1       0        37.0\n",
              "        1        38.0\n",
              "        2        44.0\n",
              "        3        23.0\n",
              "2       0        30.0\n",
              "        1        29.0\n",
              "        2        23.5\n",
              "        3        30.0\n",
              "3       0        26.0\n",
              "        1        25.0\n",
              "        2        19.5\n",
              "        3         6.0\n",
              "        4         6.5\n",
              "        5        11.0\n",
              "        8        11.0\n",
              "Name: Age, dtype: float64"
            ]
          },
          "metadata": {},
          "execution_count": 54
        }
      ],
      "source": [
        "age_median_pclass_sibsp"
      ]
    },
    {
      "cell_type": "code",
      "execution_count": 55,
      "metadata": {
        "colab": {
          "base_uri": "https://localhost:8080/"
        },
        "id": "6FSoIkcip-FI",
        "outputId": "5ccf5f42-4859-4887-dfad-c4eb3e561afb"
      },
      "outputs": [
        {
          "output_type": "stream",
          "name": "stderr",
          "text": [
            "/usr/local/lib/python3.7/dist-packages/numpy/lib/nanfunctions.py:1117: RuntimeWarning: Mean of empty slice\n",
            "  return np.nanmean(a, axis, out=out, keepdims=keepdims)\n"
          ]
        }
      ],
      "source": [
        "# imputting the values\n",
        "copy2.Age = copy2.groupby(['Pclass', 'SibSp'])[\"Age\"].apply(lambda x: x.fillna(x.median()))"
      ]
    },
    {
      "cell_type": "code",
      "execution_count": 56,
      "metadata": {
        "id": "SMCelvI5p-FI"
      },
      "outputs": [],
      "source": [
        "copy2.Age = copy2.Age.fillna(11)"
      ]
    },
    {
      "cell_type": "code",
      "execution_count": 57,
      "metadata": {
        "colab": {
          "base_uri": "https://localhost:8080/",
          "height": 620
        },
        "id": "Qg_ND-Dzp-FJ",
        "outputId": "7df5709f-7c6c-4309-cd2a-a0efd646b522"
      },
      "outputs": [
        {
          "output_type": "stream",
          "name": "stderr",
          "text": [
            "/usr/local/lib/python3.7/dist-packages/seaborn/distributions.py:1708: UserWarning: Support for alternate kernels has been removed. Using Gaussian kernel.\n",
            "  warnings.warn(msg, UserWarning)\n",
            "/usr/local/lib/python3.7/dist-packages/seaborn/distributions.py:1708: UserWarning: Support for alternate kernels has been removed. Using Gaussian kernel.\n",
            "  warnings.warn(msg, UserWarning)\n"
          ]
        },
        {
          "output_type": "execute_result",
          "data": {
            "text/plain": [
              "<matplotlib.legend.Legend at 0x7f7fd31d5450>"
            ]
          },
          "metadata": {},
          "execution_count": 57
        },
        {
          "output_type": "display_data",
          "data": {
            "text/plain": [
              "<Figure size 720x576 with 1 Axes>"
            ],
            "image/png": "[encoded data removed]"
          },
          "metadata": {
            "needs_background": "light"
          }
        }
      ],
      "source": [
        "# Compare the distributions\n",
        "fig, ax = plt.subplots(figsize=(10, 8))\n",
        "\n",
        "preimputation=sns.kdeplot(\n",
        "    data=train['Age'][(train[\"Survived\"] == 0) & (train[\"Age\"].notnull())],\n",
        "    kernel='gau', ax=ax, color=\"Blue\", shade=True,\n",
        "    legend=True, label=\"Pre\"\n",
        ")\n",
        "\n",
        "afterimputation = sns.kdeplot(\n",
        "    data=copy2[\"Age\"][(copy2[\"Survived\"] == 0) & (copy2[\"Age\"].notnull())],\n",
        "    kernel='gau', legend=True,\n",
        "    ax=ax, color='maroon', shade=True,\n",
        "    label=\"After\"\n",
        ")\n",
        "\n",
        "ax.set_title(\"Not Survived - Preimputation vs. Afterimputation\")\n",
        "ax.set_xlabel(\"Age\")\n",
        "ax.set_ylabel(\"Probability Distribution\")\n",
        "ax.legend()"
      ]
    },
    {
      "cell_type": "code",
      "execution_count": 58,
      "metadata": {
        "colab": {
          "base_uri": "https://localhost:8080/",
          "height": 620
        },
        "id": "sX3YEMGSp-FJ",
        "outputId": "2a68b6bd-23a8-4971-b81c-6bb96aa09c74"
      },
      "outputs": [
        {
          "output_type": "stream",
          "name": "stderr",
          "text": [
            "/usr/local/lib/python3.7/dist-packages/seaborn/distributions.py:1708: UserWarning: Support for alternate kernels has been removed. Using Gaussian kernel.\n",
            "  warnings.warn(msg, UserWarning)\n",
            "/usr/local/lib/python3.7/dist-packages/seaborn/distributions.py:1708: UserWarning: Support for alternate kernels has been removed. Using Gaussian kernel.\n",
            "  warnings.warn(msg, UserWarning)\n"
          ]
        },
        {
          "output_type": "execute_result",
          "data": {
            "text/plain": [
              "<matplotlib.legend.Legend at 0x7f7fcff7de50>"
            ]
          },
          "metadata": {},
          "execution_count": 58
        },
        {
          "output_type": "display_data",
          "data": {
            "text/plain": [
              "<Figure size 720x576 with 1 Axes>"
            ],
            "image/png": "[encoded data removed]"
          },
          "metadata": {
            "needs_background": "light"
          }
        }
      ],
      "source": [
        "# Compare the distributions\n",
        "fig, ax = plt.subplots(figsize=(10, 8))\n",
        "\n",
        "preimputation = sns.kdeplot(\n",
        "    data=train['Age'][(train[\"Survived\"] == 1) & (train[\"Age\"].notnull())],\n",
        "    kernel='gau', ax=ax, color=\"Blue\", shade=True,\n",
        "    legend=True, label=\"Pre\"\n",
        ")\n",
        "\n",
        "afterimputation = sns.kdeplot(\n",
        "    data=copy2[\"Age\"][(copy2[\"Survived\"] == 1) & (copy2[\"Age\"].notnull())],\n",
        "    kernel='gau', legend=True,\n",
        "    ax=ax, color='maroon', shade=True,\n",
        "    label=\"After\"\n",
        ")\n",
        "\n",
        "ax.set_title(\"Survived - Preimputation vs. Afterimputation\")\n",
        "ax.set_xlabel(\"Age\")\n",
        "ax.set_ylabel(\"Probability Distribution\")\n",
        "ax.legend()\n"
      ]
    },
    {
      "cell_type": "code",
      "execution_count": 59,
      "metadata": {
        "id": "Bny7Iryrp-FK"
      },
      "outputs": [],
      "source": [
        "copy5 = train.copy()\n",
        "copy5[\"Age\"].fillna(copy5['Age'].median(), inplace=True)"
      ]
    },
    {
      "cell_type": "code",
      "execution_count": 60,
      "metadata": {
        "id": "ytzhwiKOp-FK"
      },
      "outputs": [],
      "source": [
        "train = copy2"
      ]
    },
    {
      "cell_type": "markdown",
      "metadata": {
        "id": "cTbdRJRSp-FK"
      },
      "source": [
        "We can see that after imputation the age feature in our dataset is much more defined having its modes being more defined."
      ]
    },
    {
      "cell_type": "markdown",
      "metadata": {
        "id": "dDLqEmv-p-FK"
      },
      "source": [
        "## **Test Set**"
      ]
    },
    {
      "cell_type": "code",
      "execution_count": 61,
      "metadata": {
        "colab": {
          "base_uri": "https://localhost:8080/"
        },
        "id": "rnlm53LTp-FL",
        "outputId": "86a63dc0-e5bb-41f2-dfce-644ee2fe04ad"
      },
      "outputs": [
        {
          "output_type": "stream",
          "name": "stdout",
          "text": [
            "<class 'pandas.core.frame.DataFrame'>\n",
            "RangeIndex: 418 entries, 0 to 417\n",
            "Data columns (total 11 columns):\n",
            " #   Column       Non-Null Count  Dtype  \n",
            "---  ------       --------------  -----  \n",
            " 0   PassengerId  418 non-null    int64  \n",
            " 1   Pclass       418 non-null    int64  \n",
            " 2   Name         418 non-null    object \n",
            " 3   Sex          418 non-null    object \n",
            " 4   Age          418 non-null    float64\n",
            " 5   SibSp        418 non-null    int64  \n",
            " 6   Parch        418 non-null    int64  \n",
            " 7   Ticket       418 non-null    object \n",
            " 8   Fare         418 non-null    float64\n",
            " 9   Cabin        91 non-null     object \n",
            " 10  Embarked     418 non-null    object \n",
            "dtypes: float64(2), int64(4), object(5)\n",
            "memory usage: 36.0+ KB\n"
          ]
        }
      ],
      "source": [
        "test_age_pclass_sibsp = test.groupby(['Pclass', 'SibSp']).median()['Age']\n",
        "test.Age = test.groupby([\"Pclass\", \"SibSp\"])[\"Age\"].apply(lambda x: x.fillna(x.median()))\n",
        "test.info()"
      ]
    },
    {
      "cell_type": "markdown",
      "metadata": {
        "id": "kxBYbM-fp-FL"
      },
      "source": [
        "## **Outliers**\n",
        "--- In statistics, an outlier is a data point that differs significantly from other observations.\n",
        "<br>\n",
        "Here we find the outliers in the dataset by employing tuckey's fences.\n",
        "Basically tuckey's functions help to define a range outside which values are defined as outliers.\n",
        "<br>\n",
        "\n",
        "\n",
        "<br>\n",
        "High = (Q3) + 1.5 IQR<br>\n",
        "Low = (Q1) – 1.5 IQR<br>\n",
        "\n",
        "<br>\n",
        "outilers are values outside the range (low, high)"
      ]
    },
    {
      "cell_type": "code",
      "execution_count": 62,
      "metadata": {
        "id": "qG7Ao-bkp-FX"
      },
      "outputs": [],
      "source": [
        "def outliers(df, n, cols):\n",
        "    \"\"\"\n",
        "        A function to detect outliers in a dataset using\n",
        "        Tukey's Fences\n",
        "        ( (Q1 - k(Q3 - Q1)), (Q3 + k(Q3 - Q1)) ),\n",
        "        where Q1 -> lower quartile\n",
        "              Q2 -> upper quartile\n",
        "    \"\"\"\n",
        "    out_indices = []\n",
        "    for col in cols:\n",
        "\n",
        "        #lower quartile\n",
        "        q1 = np.nanpercentile(df[col], 25)\n",
        "\n",
        "        # Upper Quartile\n",
        "        q3 = np.nanpercentile(df[col], 75)\n",
        "\n",
        "        #Interquartile range\n",
        "        iqr = q3 - q1\n",
        "\n",
        "        #outlier step\n",
        "        outlier_step = 1.5 * iqr\n",
        "\n",
        "        # Determine the indices of the outliers\n",
        "        outlier_list_col = df[(df[col] < q1 - outlier_step) | (df[col] > q3 + outlier_step)].index\n",
        "\n",
        "        print(col, q1-outlier_step, q3+outlier_step)\n",
        "\n",
        "        out_indices.extend(outlier_list_col)\n",
        "    \n",
        "    out_indices = Counter(out_indices)\n",
        "    multiple_outliers = list(k for k, v in out_indices.items() if v > n)\n",
        "\n",
        "    return multiple_outliers\n",
        "\n",
        "\n",
        "    \n"
      ]
    },
    {
      "cell_type": "code",
      "execution_count": 63,
      "metadata": {
        "colab": {
          "base_uri": "https://localhost:8080/"
        },
        "id": "mazIPNRGp-FY",
        "outputId": "8388a81e-89ad-4c8b-d8b1-c1db0e4db64d"
      },
      "outputs": [
        {
          "output_type": "stream",
          "name": "stdout",
          "text": [
            "Age -0.5 59.5\n",
            "SibSp -1.5 2.5\n",
            "Parch 0.0 0.0\n",
            "Fare -26.724 65.6344\n"
          ]
        },
        {
          "output_type": "execute_result",
          "data": {
            "text/plain": [
              "[438, 587, 745, 27, 88, 159, 180, 201, 324, 341, 792, 846, 863]"
            ]
          },
          "metadata": {},
          "execution_count": 63
        }
      ],
      "source": [
        "to_drop = outliers(train, 2, [\"Age\", \"SibSp\", \"Parch\", \"Fare\"])\n",
        "to_drop\n"
      ]
    },
    {
      "cell_type": "markdown",
      "metadata": {
        "id": "LdwpvOJ6p-FY"
      },
      "source": [
        "There is an issue here with the parch column, it's range is from (0.0, 0.0) and this means every other value in the dataset will be seen as an outlier.<br>\n",
        "This means that virtually every value in the parch feature of our dataset will be regarded an outlier"
      ]
    },
    {
      "cell_type": "code",
      "execution_count": 64,
      "metadata": {
        "colab": {
          "base_uri": "https://localhost:8080/",
          "height": 709
        },
        "id": "hXMNGlMgp-FZ",
        "outputId": "e51d6b27-9956-48af-a42f-c3e865c96894"
      },
      "outputs": [
        {
          "output_type": "execute_result",
          "data": {
            "text/plain": [
              "     PassengerId  Survived  Pclass                               Name     Sex  \\\n",
              "438          439         0       1                  Fortune, Mr. Mark    male   \n",
              "587          588         1       1   Frolicher-Stehli, Mr. Maxmillian    male   \n",
              "745          746         0       1       Crosby, Capt. Edward Gifford    male   \n",
              "27            28         0       1     Fortune, Mr. Charles Alexander    male   \n",
              "88            89         1       1         Fortune, Miss. Mabel Helen  female   \n",
              "159          160         0       3         Sage, Master. Thomas Henry    male   \n",
              "180          181         0       3       Sage, Miss. Constance Gladys  female   \n",
              "201          202         0       3                Sage, Mr. Frederick    male   \n",
              "324          325         0       3           Sage, Mr. George John Jr    male   \n",
              "341          342         1       1     Fortune, Miss. Alice Elizabeth  female   \n",
              "792          793         0       3            Sage, Miss. Stella Anna  female   \n",
              "846          847         0       3           Sage, Mr. Douglas Bullen    male   \n",
              "863          864         0       3  Sage, Miss. Dorothy Edith \"Dolly\"  female   \n",
              "\n",
              "      Age  SibSp  Parch     Ticket    Fare        Cabin Embarked  \n",
              "438  64.0      1      4      19950  263.00  C23 C25 C27        S  \n",
              "587  60.0      1      1      13567   79.20          B41        C  \n",
              "745  70.0      1      1  WE/P 5735   71.00          B22        S  \n",
              "27   19.0      3      2      19950  263.00  C23 C25 C27        S  \n",
              "88   23.0      3      2      19950  263.00  C23 C25 C27        S  \n",
              "159  11.0      8      2   CA. 2343   69.55          NaN        S  \n",
              "180  11.0      8      2   CA. 2343   69.55          NaN        S  \n",
              "201  11.0      8      2   CA. 2343   69.55          NaN        S  \n",
              "324  11.0      8      2   CA. 2343   69.55          NaN        S  \n",
              "341  24.0      3      2      19950  263.00  C23 C25 C27        S  \n",
              "792  11.0      8      2   CA. 2343   69.55          NaN        S  \n",
              "846  11.0      8      2   CA. 2343   69.55          NaN        S  \n",
              "863  11.0      8      2   CA. 2343   69.55          NaN        S  "
            ],
            "text/html": [
              "\n",
              "  <div id=\"df-5d43c35c-523f-47d1-aa02-053a25c86c54\">\n",
              "    <div class=\"colab-df-container\">\n",
              "      <div>\n",
              "<style scoped>\n",
              "    .dataframe tbody tr th:only-of-type {\n",
              "        vertical-align: middle;\n",
              "    }\n",
              "\n",
              "    .dataframe tbody tr th {\n",
              "        vertical-align: top;\n",
              "    }\n",
              "\n",
              "    .dataframe thead th {\n",
              "        text-align: right;\n",
              "    }\n",
              "</style>\n",
              "<table border=\"1\" class=\"dataframe\">\n",
              "  <thead>\n",
              "    <tr style=\"text-align: right;\">\n",
              "      <th></th>\n",
              "      <th>PassengerId</th>\n",
              "      <th>Survived</th>\n",
              "      <th>Pclass</th>\n",
              "      <th>Name</th>\n",
              "      <th>Sex</th>\n",
              "      <th>Age</th>\n",
              "      <th>SibSp</th>\n",
              "      <th>Parch</th>\n",
              "      <th>Ticket</th>\n",
              "      <th>Fare</th>\n",
              "      <th>Cabin</th>\n",
              "      <th>Embarked</th>\n",
              "    </tr>\n",
              "  </thead>\n",
              "  <tbody>\n",
              "    <tr>\n",
              "      <th>438</th>\n",
              "      <td>439</td>\n",
              "      <td>0</td>\n",
              "      <td>1</td>\n",
              "      <td>Fortune, Mr. Mark</td>\n",
              "      <td>male</td>\n",
              "      <td>64.0</td>\n",
              "      <td>1</td>\n",
              "      <td>4</td>\n",
              "      <td>19950</td>\n",
              "      <td>263.00</td>\n",
              "      <td>C23 C25 C27</td>\n",
              "      <td>S</td>\n",
              "    </tr>\n",
              "    <tr>\n",
              "      <th>587</th>\n",
              "      <td>588</td>\n",
              "      <td>1</td>\n",
              "      <td>1</td>\n",
              "      <td>Frolicher-Stehli, Mr. Maxmillian</td>\n",
              "      <td>male</td>\n",
              "      <td>60.0</td>\n",
              "      <td>1</td>\n",
              "      <td>1</td>\n",
              "      <td>13567</td>\n",
              "      <td>79.20</td>\n",
              "      <td>B41</td>\n",
              "      <td>C</td>\n",
              "    </tr>\n",
              "    <tr>\n",
              "      <th>745</th>\n",
              "      <td>746</td>\n",
              "      <td>0</td>\n",
              "      <td>1</td>\n",
              "      <td>Crosby, Capt. Edward Gifford</td>\n",
              "      <td>male</td>\n",
              "      <td>70.0</td>\n",
              "      <td>1</td>\n",
              "      <td>1</td>\n",
              "      <td>WE/P 5735</td>\n",
              "      <td>71.00</td>\n",
              "      <td>B22</td>\n",
              "      <td>S</td>\n",
              "    </tr>\n",
              "    <tr>\n",
              "      <th>27</th>\n",
              "      <td>28</td>\n",
              "      <td>0</td>\n",
              "      <td>1</td>\n",
              "      <td>Fortune, Mr. Charles Alexander</td>\n",
              "      <td>male</td>\n",
              "      <td>19.0</td>\n",
              "      <td>3</td>\n",
              "      <td>2</td>\n",
              "      <td>19950</td>\n",
              "      <td>263.00</td>\n",
              "      <td>C23 C25 C27</td>\n",
              "      <td>S</td>\n",
              "    </tr>\n",
              "    <tr>\n",
              "      <th>88</th>\n",
              "      <td>89</td>\n",
              "      <td>1</td>\n",
              "      <td>1</td>\n",
              "      <td>Fortune, Miss. Mabel Helen</td>\n",
              "      <td>female</td>\n",
              "      <td>23.0</td>\n",
              "      <td>3</td>\n",
              "      <td>2</td>\n",
              "      <td>19950</td>\n",
              "      <td>263.00</td>\n",
              "      <td>C23 C25 C27</td>\n",
              "      <td>S</td>\n",
              "    </tr>\n",
              "    <tr>\n",
              "      <th>159</th>\n",
              "      <td>160</td>\n",
              "      <td>0</td>\n",
              "      <td>3</td>\n",
              "      <td>Sage, Master. Thomas Henry</td>\n",
              "      <td>male</td>\n",
              "      <td>11.0</td>\n",
              "      <td>8</td>\n",
              "      <td>2</td>\n",
              "      <td>CA. 2343</td>\n",
              "      <td>69.55</td>\n",
              "      <td>NaN</td>\n",
              "      <td>S</td>\n",
              "    </tr>\n",
              "    <tr>\n",
              "      <th>180</th>\n",
              "      <td>181</td>\n",
              "      <td>0</td>\n",
              "      <td>3</td>\n",
              "      <td>Sage, Miss. Constance Gladys</td>\n",
              "      <td>female</td>\n",
              "      <td>11.0</td>\n",
              "      <td>8</td>\n",
              "      <td>2</td>\n",
              "      <td>CA. 2343</td>\n",
              "      <td>69.55</td>\n",
              "      <td>NaN</td>\n",
              "      <td>S</td>\n",
              "    </tr>\n",
              "    <tr>\n",
              "      <th>201</th>\n",
              "      <td>202</td>\n",
              "      <td>0</td>\n",
              "      <td>3</td>\n",
              "      <td>Sage, Mr. Frederick</td>\n",
              "      <td>male</td>\n",
              "      <td>11.0</td>\n",
              "      <td>8</td>\n",
              "      <td>2</td>\n",
              "      <td>CA. 2343</td>\n",
              "      <td>69.55</td>\n",
              "      <td>NaN</td>\n",
              "      <td>S</td>\n",
              "    </tr>\n",
              "    <tr>\n",
              "      <th>324</th>\n",
              "      <td>325</td>\n",
              "      <td>0</td>\n",
              "      <td>3</td>\n",
              "      <td>Sage, Mr. George John Jr</td>\n",
              "      <td>male</td>\n",
              "      <td>11.0</td>\n",
              "      <td>8</td>\n",
              "      <td>2</td>\n",
              "      <td>CA. 2343</td>\n",
              "      <td>69.55</td>\n",
              "      <td>NaN</td>\n",
              "      <td>S</td>\n",
              "    </tr>\n",
              "    <tr>\n",
              "      <th>341</th>\n",
              "      <td>342</td>\n",
              "      <td>1</td>\n",
              "      <td>1</td>\n",
              "      <td>Fortune, Miss. Alice Elizabeth</td>\n",
              "      <td>female</td>\n",
              "      <td>24.0</td>\n",
              "      <td>3</td>\n",
              "      <td>2</td>\n",
              "      <td>19950</td>\n",
              "      <td>263.00</td>\n",
              "      <td>C23 C25 C27</td>\n",
              "      <td>S</td>\n",
              "    </tr>\n",
              "    <tr>\n",
              "      <th>792</th>\n",
              "      <td>793</td>\n",
              "      <td>0</td>\n",
              "      <td>3</td>\n",
              "      <td>Sage, Miss. Stella Anna</td>\n",
              "      <td>female</td>\n",
              "      <td>11.0</td>\n",
              "      <td>8</td>\n",
              "      <td>2</td>\n",
              "      <td>CA. 2343</td>\n",
              "      <td>69.55</td>\n",
              "      <td>NaN</td>\n",
              "      <td>S</td>\n",
              "    </tr>\n",
              "    <tr>\n",
              "      <th>846</th>\n",
              "      <td>847</td>\n",
              "      <td>0</td>\n",
              "      <td>3</td>\n",
              "      <td>Sage, Mr. Douglas Bullen</td>\n",
              "      <td>male</td>\n",
              "      <td>11.0</td>\n",
              "      <td>8</td>\n",
              "      <td>2</td>\n",
              "      <td>CA. 2343</td>\n",
              "      <td>69.55</td>\n",
              "      <td>NaN</td>\n",
              "      <td>S</td>\n",
              "    </tr>\n",
              "    <tr>\n",
              "      <th>863</th>\n",
              "      <td>864</td>\n",
              "      <td>0</td>\n",
              "      <td>3</td>\n",
              "      <td>Sage, Miss. Dorothy Edith \"Dolly\"</td>\n",
              "      <td>female</td>\n",
              "      <td>11.0</td>\n",
              "      <td>8</td>\n",
              "      <td>2</td>\n",
              "      <td>CA. 2343</td>\n",
              "      <td>69.55</td>\n",
              "      <td>NaN</td>\n",
              "      <td>S</td>\n",
              "    </tr>\n",
              "  </tbody>\n",
              "</table>\n",
              "</div>\n",
              "      <button class=\"colab-df-convert\" onclick=\"convertToInteractive('df-5d43c35c-523f-47d1-aa02-053a25c86c54')\"\n",
              "              title=\"Convert this dataframe to an interactive table.\"\n",
              "              style=\"display:none;\">\n",
              "        \n",
              "  <svg xmlns=\"http://www.w3.org/2000/svg\" height=\"24px\"viewBox=\"0 0 24 24\"\n",
              "       width=\"24px\">\n",
              "    <path d=\"M0 0h24v24H0V0z\" fill=\"none\"/>\n",
              "    <path d=\"M18.56 5.44l.94 2.06.94-2.06 2.06-.94-2.06-.94-.94-2.06-.94 2.06-2.06.94zm-11 1L8.5 8.5l.94-2.06 2.06-.94-2.06-.94L8.5 2.5l-.94 2.06-2.06.94zm10 10l.94 2.06.94-2.06 2.06-.94-2.06-.94-.94-2.06-.94 2.06-2.06.94z\"/><path d=\"M17.41 7.96l-1.37-1.37c-.4-.4-.92-.59-1.43-.59-.52 0-1.04.2-1.43.59L10.3 9.45l-7.72 7.72c-.78.78-.78 2.05 0 2.83L4 21.41c.39.39.9.59 1.41.59.51 0 1.02-.2 1.41-.59l7.78-7.78 2.81-2.81c.8-.78.8-2.07 0-2.86zM5.41 20L4 18.59l7.72-7.72 1.47 1.35L5.41 20z\"/>\n",
              "  </svg>\n",
              "      </button>\n",
              "      \n",
              "  <style>\n",
              "    .colab-df-container {\n",
              "      display:flex;\n",
              "      flex-wrap:wrap;\n",
              "      gap: 12px;\n",
              "    }\n",
              "\n",
              "    .colab-df-convert {\n",
              "      background-color: #E8F0FE;\n",
              "      border: none;\n",
              "      border-radius: 50%;\n",
              "      cursor: pointer;\n",
              "      display: none;\n",
              "      fill: #1967D2;\n",
              "      height: 32px;\n",
              "      padding: 0 0 0 0;\n",
              "      width: 32px;\n",
              "    }\n",
              "\n",
              "    .colab-df-convert:hover {\n",
              "      background-color: #E2EBFA;\n",
              "      box-shadow: 0px 1px 2px rgba(60, 64, 67, 0.3), 0px 1px 3px 1px rgba(60, 64, 67, 0.15);\n",
              "      fill: #174EA6;\n",
              "    }\n",
              "\n",
              "    [theme=dark] .colab-df-convert {\n",
              "      background-color: #3B4455;\n",
              "      fill: #D2E3FC;\n",
              "    }\n",
              "\n",
              "    [theme=dark] .colab-df-convert:hover {\n",
              "      background-color: #434B5C;\n",
              "      box-shadow: 0px 1px 3px 1px rgba(0, 0, 0, 0.15);\n",
              "      filter: drop-shadow(0px 1px 2px rgba(0, 0, 0, 0.3));\n",
              "      fill: #FFFFFF;\n",
              "    }\n",
              "  </style>\n",
              "\n",
              "      <script>\n",
              "        const buttonEl =\n",
              "          document.querySelector('#df-5d43c35c-523f-47d1-aa02-053a25c86c54 button.colab-df-convert');\n",
              "        buttonEl.style.display =\n",
              "          google.colab.kernel.accessAllowed ? 'block' : 'none';\n",
              "\n",
              "        async function convertToInteractive(key) {\n",
              "          const element = document.querySelector('#df-5d43c35c-523f-47d1-aa02-053a25c86c54');\n",
              "          const dataTable =\n",
              "            await google.colab.kernel.invokeFunction('convertToInteractive',\n",
              "                                                     [key], {});\n",
              "          if (!dataTable) return;\n",
              "\n",
              "          const docLinkHtml = 'Like what you see? Visit the ' +\n",
              "            '<a target=\"_blank\" href=https://colab.research.google.com/notebooks/data_table.ipynb>data table notebook</a>'\n",
              "            + ' to learn more about interactive tables.';\n",
              "          element.innerHTML = '';\n",
              "          dataTable['output_type'] = 'display_data';\n",
              "          await google.colab.output.renderOutput(dataTable, element);\n",
              "          const docLink = document.createElement('div');\n",
              "          docLink.innerHTML = docLinkHtml;\n",
              "          element.appendChild(docLink);\n",
              "        }\n",
              "      </script>\n",
              "    </div>\n",
              "  </div>\n",
              "  "
            ]
          },
          "metadata": {},
          "execution_count": 64
        }
      ],
      "source": [
        "train.loc[to_drop]"
      ]
    },
    {
      "cell_type": "markdown",
      "metadata": {
        "id": "faLM9qjyp-FZ"
      },
      "source": [
        "## **Finding Columns Individually**"
      ]
    },
    {
      "cell_type": "code",
      "execution_count": 65,
      "metadata": {
        "id": "YX0btwQdp-FZ"
      },
      "outputs": [],
      "source": [
        "def individual_outlier(col):\n",
        "    \"\"\"A function to find outlier in a specified column from a dataset\"\"\"\n",
        "    \n",
        "    # sorting column since quartile ranges need to be in order\n",
        "    sorted(col)\n",
        "    q1, q3 = np.nanpercentile(col, [25, 75])\n",
        "    iqr = q3 - q1\n",
        "\n",
        "    # getting the lower and upper range as defined by tuckey's fences\n",
        "    lower_range = q1 - (1.5 * iqr)\n",
        "    upper_range = q3 + (1.5 * iqr)\n",
        "\n",
        "    return lower_range, upper_range\n",
        "\n",
        "\n"
      ]
    },
    {
      "cell_type": "code",
      "execution_count": 66,
      "metadata": {
        "colab": {
          "base_uri": "https://localhost:8080/"
        },
        "id": "oC6cAbCmp-Fa",
        "outputId": "64f97168-82e8-47ce-d266-f3321f1ce013"
      },
      "outputs": [
        {
          "output_type": "stream",
          "name": "stdout",
          "text": [
            "Upper and Lower bound for Age: \n",
            "(-0.5, 59.5)\n",
            "Upper and Lower bound for Fare: \n",
            "(-26.724, 65.6344)\n",
            "Upper and Lower bound for Parch: \n",
            "(0.0, 0.0)\n",
            "Upper and Lower bound for SibSp: \n",
            "(-1.5, 2.5)\n"
          ]
        }
      ],
      "source": [
        "# Using just the numerical columns and excluding the categorical columns\n",
        "cols = ['Age', 'Fare', 'Parch', 'SibSp']\n",
        "\n",
        "for col in cols:\n",
        "    print(f'Upper and Lower bound for {col}: ',\n",
        "          individual_outlier(train[col]), sep=\"\\n\")\n"
      ]
    },
    {
      "cell_type": "markdown",
      "metadata": {
        "id": "KWKYGwPgp-Fa"
      },
      "source": [
        "##**Features to add or drop**"
      ]
    },
    {
      "cell_type": "markdown",
      "metadata": {
        "id": "vCc8Tv5yp-Fa"
      },
      "source": [
        "Examples of features to be dropped include:\n",
        " * Features with high collinearity\n",
        " * features that are of no significance to the model\n",
        " * Features with too many categories eg Name, although it is important to note       that useful features could be engineered from these features\n",
        "       "
      ]
    },
    {
      "cell_type": "code",
      "execution_count": 67,
      "metadata": {
        "colab": {
          "base_uri": "https://localhost:8080/"
        },
        "id": "EDcKy6J0p-Fa",
        "outputId": "855a20c9-134c-4bdd-de9f-321005be7cc8"
      },
      "outputs": [
        {
          "output_type": "stream",
          "name": "stdout",
          "text": [
            "Number of Unique values for PassengerId is  891\n",
            "Number of Unique values for Survived is  2\n",
            "Number of Unique values for Pclass is  3\n",
            "Number of Unique values for Name is  891\n",
            "Number of Unique values for Sex is  2\n",
            "Number of Unique values for Age is  89\n",
            "Number of Unique values for SibSp is  7\n",
            "Number of Unique values for Parch is  7\n",
            "Number of Unique values for Ticket is  681\n",
            "Number of Unique values for Fare is  248\n",
            "Number of Unique values for Cabin is  147\n",
            "Number of Unique values for Embarked is  3\n"
          ]
        }
      ],
      "source": [
        "for col in train.columns:\n",
        "    print(f\"Number of Unique values for {col} is \", train[col].nunique())"
      ]
    },
    {
      "cell_type": "markdown",
      "metadata": {
        "id": "pDr1Uwplp-Fa"
      },
      "source": [
        "## **Dropping Ticket and PassengerID**"
      ]
    },
    {
      "cell_type": "markdown",
      "metadata": {
        "id": "2ta0yg6Up-Fb"
      },
      "source": [
        "We drop these as they seem to be entirely randomized, although it is important to note that this is just an hypothesis as there might be an underlying pattern"
      ]
    },
    {
      "cell_type": "code",
      "execution_count": 68,
      "metadata": {
        "id": "N2H-NLT6p-Fb"
      },
      "outputs": [],
      "source": [
        "# Dropping PassengerId feature from test and training sets\n",
        "train.drop(['PassengerId'], inplace=True, axis=1)\n",
        "test.drop(['PassengerId'], inplace=True, axis=1)"
      ]
    },
    {
      "cell_type": "code",
      "execution_count": 69,
      "metadata": {
        "id": "kanTIMIOp-Fb"
      },
      "outputs": [],
      "source": [
        "train.drop(['Ticket'], inplace=True, axis=1)\n",
        "test.drop(['Ticket'], inplace=True, axis=1)"
      ]
    },
    {
      "cell_type": "markdown",
      "metadata": {
        "id": "ZfqTOPqwp-Fb"
      },
      "source": [
        "### **Feature Engineering from Names**\n",
        "We try to engineer some features from the name column. <br>\n",
        "The argument is that the titles attached to the names might in some way indicate that people of a particular social class had a higher rate of survival than other socail classes."
      ]
    },
    {
      "cell_type": "code",
      "execution_count": 70,
      "metadata": {
        "colab": {
          "base_uri": "https://localhost:8080/"
        },
        "id": "pdGiDqIdp-Fc",
        "outputId": "a9803842-3a24-4c8d-f20c-4db6674cc0a7"
      },
      "outputs": [
        {
          "output_type": "execute_result",
          "data": {
            "text/plain": [
              "0                               Braund, Mr. Owen Harris\n",
              "1     Cumings, Mrs. John Bradley (Florence Briggs Th...\n",
              "2                                Heikkinen, Miss. Laina\n",
              "3          Futrelle, Mrs. Jacques Heath (Lily May Peel)\n",
              "4                              Allen, Mr. William Henry\n",
              "5                                      Moran, Mr. James\n",
              "6                               McCarthy, Mr. Timothy J\n",
              "7                        Palsson, Master. Gosta Leonard\n",
              "8     Johnson, Mrs. Oscar W (Elisabeth Vilhelmina Berg)\n",
              "9                   Nasser, Mrs. Nicholas (Adele Achem)\n",
              "10                      Sandstrom, Miss. Marguerite Rut\n",
              "11                             Bonnell, Miss. Elizabeth\n",
              "12                       Saundercock, Mr. William Henry\n",
              "13                          Andersson, Mr. Anders Johan\n",
              "14                 Vestrom, Miss. Hulda Amanda Adolfina\n",
              "15                     Hewlett, Mrs. (Mary D Kingcome) \n",
              "16                                 Rice, Master. Eugene\n",
              "17                         Williams, Mr. Charles Eugene\n",
              "18    Vander Planke, Mrs. Julius (Emelia Maria Vande...\n",
              "19                              Masselmani, Mrs. Fatima\n",
              "Name: Name, dtype: object"
            ]
          },
          "metadata": {},
          "execution_count": 70
        }
      ],
      "source": [
        "train[\"Name\"].head(20)"
      ]
    },
    {
      "cell_type": "code",
      "execution_count": 71,
      "metadata": {
        "id": "bUJ75a05p-Fc"
      },
      "outputs": [],
      "source": [
        "def seperate_name(data):\n",
        "    \"\"\"A function to seperate the names in a column to\n",
        "        first names, surnames, and titles.\"\"\"\n",
        "\n",
        "    families = []\n",
        "    titles = []\n",
        "    new_name = []\n",
        "\n",
        "    #Checking each row in the dataset\n",
        "    for i in range(len(data)):\n",
        "        name = data.iloc[i]\n",
        "\n",
        "        # Extract the names in brackets\n",
        "        if '(' in name:\n",
        "            name_ex_bracket = name.split('(')[0]\n",
        "        else:\n",
        "            name_ex_bracket = name\n",
        "        \n",
        "        family = name_ex_bracket.split(\",\")[0]\n",
        "        title = name_ex_bracket.split(\",\")[1].strip().split(\" \")[0]\n",
        "\n",
        "        for c in string.punctuation:\n",
        "            name = name.replace(c, \"\").strip()\n",
        "            family = family.replace(c, \"\").strip()\n",
        "            title = title.replace(c, \"\").strip()\\\n",
        "\n",
        "        families.append(family)\n",
        "        titles.append(title)\n",
        "        new_name.append(name)\n",
        "\n",
        "    return families, titles, new_name"
      ]
    },
    {
      "cell_type": "code",
      "execution_count": 72,
      "metadata": {
        "colab": {
          "base_uri": "https://localhost:8080/"
        },
        "id": "PnNjvFeYp-Fc",
        "outputId": "79db9db3-badd-4ecb-8b94-e8d6c4d4266b"
      },
      "outputs": [
        {
          "output_type": "execute_result",
          "data": {
            "text/plain": [
              "(['Braund',\n",
              "  'Cumings',\n",
              "  'Heikkinen',\n",
              "  'Futrelle',\n",
              "  'Allen',\n",
              "  'Moran',\n",
              "  'McCarthy',\n",
              "  'Palsson',\n",
              "  'Johnson',\n",
              "  'Nasser',\n",
              "  'Sandstrom',\n",
              "  'Bonnell',\n",
              "  'Saundercock',\n",
              "  'Andersson',\n",
              "  'Vestrom',\n",
              "  'Hewlett',\n",
              "  'Rice',\n",
              "  'Williams',\n",
              "  'Vander Planke',\n",
              "  'Masselmani',\n",
              "  'Fynney',\n",
              "  'Beesley',\n",
              "  'McGowan',\n",
              "  'Sloper',\n",
              "  'Palsson',\n",
              "  'Asplund',\n",
              "  'Emir',\n",
              "  'Fortune',\n",
              "  'ODwyer',\n",
              "  'Todoroff',\n",
              "  'Uruchurtu',\n",
              "  'Spencer',\n",
              "  'Glynn',\n",
              "  'Wheadon',\n",
              "  'Meyer',\n",
              "  'Holverson',\n",
              "  'Mamee',\n",
              "  'Cann',\n",
              "  'Vander Planke',\n",
              "  'NicolaYarred',\n",
              "  'Ahlin',\n",
              "  'Turpin',\n",
              "  'Kraeff',\n",
              "  'Laroche',\n",
              "  'Devaney',\n",
              "  'Rogers',\n",
              "  'Lennon',\n",
              "  'ODriscoll',\n",
              "  'Samaan',\n",
              "  'ArnoldFranchi',\n",
              "  'Panula',\n",
              "  'Nosworthy',\n",
              "  'Harper',\n",
              "  'Faunthorpe',\n",
              "  'Ostby',\n",
              "  'Woolner',\n",
              "  'Rugg',\n",
              "  'Novel',\n",
              "  'West',\n",
              "  'Goodwin',\n",
              "  'Sirayanian',\n",
              "  'Icard',\n",
              "  'Harris',\n",
              "  'Skoog',\n",
              "  'Stewart',\n",
              "  'Moubarek',\n",
              "  'Nye',\n",
              "  'Crease',\n",
              "  'Andersson',\n",
              "  'Kink',\n",
              "  'Jenkin',\n",
              "  'Goodwin',\n",
              "  'Hood',\n",
              "  'Chronopoulos',\n",
              "  'Bing',\n",
              "  'Moen',\n",
              "  'Staneff',\n",
              "  'Moutal',\n",
              "  'Caldwell',\n",
              "  'Dowdell',\n",
              "  'Waelens',\n",
              "  'Sheerlinck',\n",
              "  'McDermott',\n",
              "  'Carrau',\n",
              "  'Ilett',\n",
              "  'Backstrom',\n",
              "  'Ford',\n",
              "  'Slocovski',\n",
              "  'Fortune',\n",
              "  'Celotti',\n",
              "  'Christmann',\n",
              "  'Andreasson',\n",
              "  'Chaffee',\n",
              "  'Dean',\n",
              "  'Coxon',\n",
              "  'Shorney',\n",
              "  'Goldschmidt',\n",
              "  'Greenfield',\n",
              "  'Doling',\n",
              "  'Kantor',\n",
              "  'Petranec',\n",
              "  'Petroff',\n",
              "  'White',\n",
              "  'Johansson',\n",
              "  'Gustafsson',\n",
              "  'Mionoff',\n",
              "  'Salkjelsvik',\n",
              "  'Moss',\n",
              "  'Rekic',\n",
              "  'Moran',\n",
              "  'Porter',\n",
              "  'Zabour',\n",
              "  'Barton',\n",
              "  'Jussila',\n",
              "  'Attalah',\n",
              "  'Pekoniemi',\n",
              "  'Connors',\n",
              "  'Turpin',\n",
              "  'Baxter',\n",
              "  'Andersson',\n",
              "  'Hickman',\n",
              "  'Moore',\n",
              "  'Nasser',\n",
              "  'Webber',\n",
              "  'White',\n",
              "  'NicolaYarred',\n",
              "  'McMahon',\n",
              "  'Madsen',\n",
              "  'Peter',\n",
              "  'Ekstrom',\n",
              "  'Drazenoic',\n",
              "  'Coelho',\n",
              "  'Robins',\n",
              "  'Weisz',\n",
              "  'Sobey',\n",
              "  'Richard',\n",
              "  'Newsom',\n",
              "  'Futrelle',\n",
              "  'Osen',\n",
              "  'Giglio',\n",
              "  'Boulos',\n",
              "  'Nysten',\n",
              "  'Hakkarainen',\n",
              "  'Burke',\n",
              "  'Andrew',\n",
              "  'Nicholls',\n",
              "  'Andersson',\n",
              "  'Ford',\n",
              "  'Navratil',\n",
              "  'Byles',\n",
              "  'Bateman',\n",
              "  'Pears',\n",
              "  'Meo',\n",
              "  'van Billiard',\n",
              "  'Olsen',\n",
              "  'Williams',\n",
              "  'Gilnagh',\n",
              "  'Corn',\n",
              "  'Smiljanic',\n",
              "  'Sage',\n",
              "  'Cribb',\n",
              "  'Watt',\n",
              "  'Bengtsson',\n",
              "  'Calic',\n",
              "  'Panula',\n",
              "  'Goldsmith',\n",
              "  'Chibnall',\n",
              "  'Skoog',\n",
              "  'Baumann',\n",
              "  'Ling',\n",
              "  'Van der hoef',\n",
              "  'Rice',\n",
              "  'Johnson',\n",
              "  'Sivola',\n",
              "  'Smith',\n",
              "  'Klasen',\n",
              "  'Lefebre',\n",
              "  'Isham',\n",
              "  'Hale',\n",
              "  'Leonard',\n",
              "  'Sage',\n",
              "  'Pernot',\n",
              "  'Asplund',\n",
              "  'Becker',\n",
              "  'KinkHeilmann',\n",
              "  'Rood',\n",
              "  'OBrien',\n",
              "  'Romaine',\n",
              "  'Bourke',\n",
              "  'Turcin',\n",
              "  'Pinsky',\n",
              "  'Carbines',\n",
              "  'AndersenJensen',\n",
              "  'Navratil',\n",
              "  'Brown',\n",
              "  'Lurette',\n",
              "  'Mernagh',\n",
              "  'Olsen',\n",
              "  'Madigan',\n",
              "  'Yrois',\n",
              "  'Vande Walle',\n",
              "  'Sage',\n",
              "  'Johanson',\n",
              "  'Youseff',\n",
              "  'Cohen',\n",
              "  'Strom',\n",
              "  'Backstrom',\n",
              "  'Albimona',\n",
              "  'Carr',\n",
              "  'Blank',\n",
              "  'Ali',\n",
              "  'Cameron',\n",
              "  'Perkin',\n",
              "  'Givard',\n",
              "  'Kiernan',\n",
              "  'Newell',\n",
              "  'Honkanen',\n",
              "  'Jacobsohn',\n",
              "  'Bazzani',\n",
              "  'Harris',\n",
              "  'Sunderland',\n",
              "  'Bracken',\n",
              "  'Green',\n",
              "  'Nenkoff',\n",
              "  'Hoyt',\n",
              "  'Berglund',\n",
              "  'Mellors',\n",
              "  'Lovell',\n",
              "  'Fahlstrom',\n",
              "  'Lefebre',\n",
              "  'Harris',\n",
              "  'Larsson',\n",
              "  'Sjostedt',\n",
              "  'Asplund',\n",
              "  'Leyson',\n",
              "  'Harknett',\n",
              "  'Hold',\n",
              "  'Collyer',\n",
              "  'Pengelly',\n",
              "  'Hunt',\n",
              "  'Zabour',\n",
              "  'Murphy',\n",
              "  'Coleridge',\n",
              "  'Maenpaa',\n",
              "  'Attalah',\n",
              "  'Minahan',\n",
              "  'Lindahl',\n",
              "  'Hamalainen',\n",
              "  'Beckwith',\n",
              "  'Carter',\n",
              "  'Reed',\n",
              "  'Strom',\n",
              "  'Stead',\n",
              "  'Lobb',\n",
              "  'Rosblom',\n",
              "  'Touma',\n",
              "  'Thorne',\n",
              "  'Cherry',\n",
              "  'Ward',\n",
              "  'Parrish',\n",
              "  'Smith',\n",
              "  'Asplund',\n",
              "  'Taussig',\n",
              "  'Harrison',\n",
              "  'Henry',\n",
              "  'Reeves',\n",
              "  'Panula',\n",
              "  'Persson',\n",
              "  'Graham',\n",
              "  'Bissette',\n",
              "  'Cairns',\n",
              "  'Tornquist',\n",
              "  'Mellinger',\n",
              "  'Natsch',\n",
              "  'Healy',\n",
              "  'Andrews',\n",
              "  'Lindblom',\n",
              "  'Parkes',\n",
              "  'Rice',\n",
              "  'Abbott',\n",
              "  'Duane',\n",
              "  'Olsson',\n",
              "  'de Pelsmaeker',\n",
              "  'Dorking',\n",
              "  'Smith',\n",
              "  'Stankovic',\n",
              "  'de Mulder',\n",
              "  'Naidenoff',\n",
              "  'Hosono',\n",
              "  'Connolly',\n",
              "  'Barber',\n",
              "  'Bishop',\n",
              "  'Levy',\n",
              "  'Haas',\n",
              "  'Mineff',\n",
              "  'Lewy',\n",
              "  'Hanna',\n",
              "  'Allison',\n",
              "  'Saalfeld',\n",
              "  'Baxter',\n",
              "  'Kelly',\n",
              "  'McCoy',\n",
              "  'Johnson',\n",
              "  'Keane',\n",
              "  'Williams',\n",
              "  'Allison',\n",
              "  'Fleming',\n",
              "  'Penasco y Castellana',\n",
              "  'Abelson',\n",
              "  'Francatelli',\n",
              "  'Hays',\n",
              "  'Ryerson',\n",
              "  'Lahtinen',\n",
              "  'Hendekovic',\n",
              "  'Hart',\n",
              "  'Nilsson',\n",
              "  'Kantor',\n",
              "  'Moraweck',\n",
              "  'Wick',\n",
              "  'Spedden',\n",
              "  'Dennis',\n",
              "  'Danoff',\n",
              "  'Slayter',\n",
              "  'Caldwell',\n",
              "  'Sage',\n",
              "  'Young',\n",
              "  'Nysveen',\n",
              "  'Ball',\n",
              "  'Goldsmith',\n",
              "  'Hippach',\n",
              "  'McCoy',\n",
              "  'Partner',\n",
              "  'Graham',\n",
              "  'Vander Planke',\n",
              "  'Frauenthal',\n",
              "  'Denkoff',\n",
              "  'Pears',\n",
              "  'Burns',\n",
              "  'Dahl',\n",
              "  'Blackwell',\n",
              "  'Navratil',\n",
              "  'Fortune',\n",
              "  'Collander',\n",
              "  'Sedgwick',\n",
              "  'Fox',\n",
              "  'Brown',\n",
              "  'Smith',\n",
              "  'Davison',\n",
              "  'Coutts',\n",
              "  'Dimic',\n",
              "  'Odahl',\n",
              "  'WilliamsLambert',\n",
              "  'Elias',\n",
              "  'ArnoldFranchi',\n",
              "  'Yousif',\n",
              "  'Vanden Steen',\n",
              "  'Bowerman',\n",
              "  'Funk',\n",
              "  'McGovern',\n",
              "  'Mockler',\n",
              "  'Skoog',\n",
              "  'del Carlo',\n",
              "  'Barbara',\n",
              "  'Asim',\n",
              "  'OBrien',\n",
              "  'Adahl',\n",
              "  'Warren',\n",
              "  'Moussa',\n",
              "  'Jermyn',\n",
              "  'Aubart',\n",
              "  'Harder',\n",
              "  'Wiklund',\n",
              "  'Beavan',\n",
              "  'Ringhini',\n",
              "  'Palsson',\n",
              "  'Meyer',\n",
              "  'Landergren',\n",
              "  'Widener',\n",
              "  'Betros',\n",
              "  'Gustafsson',\n",
              "  'Bidois',\n",
              "  'Nakid',\n",
              "  'Tikkanen',\n",
              "  'Holverson',\n",
              "  'Plotcharsky',\n",
              "  'Davies',\n",
              "  'Goodwin',\n",
              "  'Buss',\n",
              "  'Sadlier',\n",
              "  'Lehmann',\n",
              "  'Carter',\n",
              "  'Jansson',\n",
              "  'Gustafsson',\n",
              "  'Newell',\n",
              "  'Sandstrom',\n",
              "  'Johansson',\n",
              "  'Olsson',\n",
              "  'McKane',\n",
              "  'Pain',\n",
              "  'Trout',\n",
              "  'Niskanen',\n",
              "  'Adams',\n",
              "  'Jussila',\n",
              "  'Hakkarainen',\n",
              "  'Oreskovic',\n",
              "  'Gale',\n",
              "  'Widegren',\n",
              "  'Richards',\n",
              "  'Birkeland',\n",
              "  'Lefebre',\n",
              "  'Sdycoff',\n",
              "  'Hart',\n",
              "  'Minahan',\n",
              "  'Cunningham',\n",
              "  'Sundman',\n",
              "  'Meek',\n",
              "  'Drew',\n",
              "  'Silven',\n",
              "  'Matthews',\n",
              "  'Van Impe',\n",
              "  'Gheorgheff',\n",
              "  'Charters',\n",
              "  'Zimmerman',\n",
              "  'Danbom',\n",
              "  'Rosblom',\n",
              "  'Wiseman',\n",
              "  'Clarke',\n",
              "  'Phillips',\n",
              "  'Flynn',\n",
              "  'Pickard',\n",
              "  'BjornstromSteffansson',\n",
              "  'Thorneycroft',\n",
              "  'Louch',\n",
              "  'Kallio',\n",
              "  'Silvey',\n",
              "  'Carter',\n",
              "  'Ford',\n",
              "  'Richards',\n",
              "  'Fortune',\n",
              "  'Kvillner',\n",
              "  'Hart',\n",
              "  'Hampe',\n",
              "  'Petterson',\n",
              "  'Reynaldo',\n",
              "  'JohannesenBratthammer',\n",
              "  'Dodge',\n",
              "  'Mellinger',\n",
              "  'Seward',\n",
              "  'Baclini',\n",
              "  'Peuchen',\n",
              "  'West',\n",
              "  'Hagland',\n",
              "  'Foreman',\n",
              "  'Goldenberg',\n",
              "  'Peduzzi',\n",
              "  'Jalsevac',\n",
              "  'Millet',\n",
              "  'Kenyon',\n",
              "  'Toomey',\n",
              "  'OConnor',\n",
              "  'Anderson',\n",
              "  'Morley',\n",
              "  'Gee',\n",
              "  'Milling',\n",
              "  'Maisner',\n",
              "  'Goncalves',\n",
              "  'Campbell',\n",
              "  'Smart',\n",
              "  'Scanlan',\n",
              "  'Baclini',\n",
              "  'Keefe',\n",
              "  'Cacic',\n",
              "  'West',\n",
              "  'Jerwan',\n",
              "  'Strandberg',\n",
              "  'Clifford',\n",
              "  'Renouf',\n",
              "  'Braund',\n",
              "  'Karlsson',\n",
              "  'Hirvonen',\n",
              "  'Goodwin',\n",
              "  'Frost',\n",
              "  'Rouse',\n",
              "  'Turkula',\n",
              "  'Bishop',\n",
              "  'Lefebre',\n",
              "  'Hoyt',\n",
              "  'Kent',\n",
              "  'Somerton',\n",
              "  'Coutts',\n",
              "  'Hagland',\n",
              "  'Windelov',\n",
              "  'Molson',\n",
              "  'Artagaveytia',\n",
              "  'Stanley',\n",
              "  'Yousseff',\n",
              "  'Eustis',\n",
              "  'Shellard',\n",
              "  'Allison',\n",
              "  'Svensson',\n",
              "  'Calic',\n",
              "  'Canavan',\n",
              "  'OSullivan',\n",
              "  'Laitinen',\n",
              "  'Maioni',\n",
              "  'Penasco y Castellana',\n",
              "  'Quick',\n",
              "  'Bradley',\n",
              "  'Olsen',\n",
              "  'Lang',\n",
              "  'Daly',\n",
              "  'Webber',\n",
              "  'McGough',\n",
              "  'Rothschild',\n",
              "  'Coleff',\n",
              "  'Walker',\n",
              "  'Lemore',\n",
              "  'Ryan',\n",
              "  'Angle',\n",
              "  'Pavlovic',\n",
              "  'Perreault',\n",
              "  'Vovk',\n",
              "  'Lahoud',\n",
              "  'Hippach',\n",
              "  'Kassem',\n",
              "  'Farrell',\n",
              "  'Ridsdale',\n",
              "  'Farthing',\n",
              "  'Salonen',\n",
              "  'Hocking',\n",
              "  'Quick',\n",
              "  'Toufik',\n",
              "  'Elias',\n",
              "  'Peter',\n",
              "  'Cacic',\n",
              "  'Hart',\n",
              "  'Butt',\n",
              "  'LeRoy',\n",
              "  'Risien',\n",
              "  'Frolicher',\n",
              "  'Crosby',\n",
              "  'Andersson',\n",
              "  'Andersson',\n",
              "  'Beane',\n",
              "  'Douglas',\n",
              "  'Nicholson',\n",
              "  'Beane',\n",
              "  'Padro y Manent',\n",
              "  'Goldsmith',\n",
              "  'Davies',\n",
              "  'Thayer',\n",
              "  'Sharp',\n",
              "  'OBrien',\n",
              "  'Leeni',\n",
              "  'Ohman',\n",
              "  'Wright',\n",
              "  'Duff Gordon',\n",
              "  'Robbins',\n",
              "  'Taussig',\n",
              "  'de Messemaeker',\n",
              "  'Morrow',\n",
              "  'Sivic',\n",
              "  'Norman',\n",
              "  'Simmons',\n",
              "  'Meanwell',\n",
              "  'Davies',\n",
              "  'Stoytcheff',\n",
              "  'Palsson',\n",
              "  'Doharr',\n",
              "  'Jonsson',\n",
              "  'Harris',\n",
              "  'Appleton',\n",
              "  'Flynn',\n",
              "  'Kelly',\n",
              "  'Rush',\n",
              "  'Patchett',\n",
              "  'Garside',\n",
              "  'Silvey',\n",
              "  'Caram',\n",
              "  'Jussila',\n",
              "  'Christy',\n",
              "  'Thayer',\n",
              "  'Downton',\n",
              "  'Ross',\n",
              "  'Paulner',\n",
              "  'Taussig',\n",
              "  'Jarvis',\n",
              "  'FrolicherStehli',\n",
              "  'Gilinski',\n",
              "  'Murdlin',\n",
              "  'Rintamaki',\n",
              "  'Stephenson',\n",
              "  'Elsbury',\n",
              "  'Bourke',\n",
              "  'Chapman',\n",
              "  'Van Impe',\n",
              "  'Leitch',\n",
              "  'Johnson',\n",
              "  'Boulos',\n",
              "  'Duff Gordon',\n",
              "  'Jacobsohn',\n",
              "  'Slabenoff',\n",
              "  'Harrington',\n",
              "  'Torber',\n",
              "  'Homer',\n",
              "  'Lindell',\n",
              "  'Karaic',\n",
              "  'Daniel',\n",
              "  'Laroche',\n",
              "  'Shutes',\n",
              "  'Andersson',\n",
              "  'Jardin',\n",
              "  'Murphy',\n",
              "  'Horgan',\n",
              "  'Brocklebank',\n",
              "  'Herman',\n",
              "  'Danbom',\n",
              "  'Lobb',\n",
              "  'Becker',\n",
              "  'Gavey',\n",
              "  'Yasbeck',\n",
              "  'Kimball',\n",
              "  'Nakid',\n",
              "  'Hansen',\n",
              "  'Bowen',\n",
              "  'Sutton',\n",
              "  'Kirkland',\n",
              "  'Longley',\n",
              "  'Bostandyeff',\n",
              "  'OConnell',\n",
              "  'Barkworth',\n",
              "  'Lundahl',\n",
              "  'StahelinMaeglin',\n",
              "  'Parr',\n",
              "  'Skoog',\n",
              "  'Davis',\n",
              "  'Leinonen',\n",
              "  'Collyer',\n",
              "  'Panula',\n",
              "  'Thorneycroft',\n",
              "  'Jensen',\n",
              "  'Sagesser',\n",
              "  'Skoog',\n",
              "  'Foo',\n",
              "  'Baclini',\n",
              "  'Harper',\n",
              "  'Cor',\n",
              "  'SimoniusBlumer',\n",
              "  'Willey',\n",
              "  'Stanley',\n",
              "  'Mitkoff',\n",
              "  'Doling',\n",
              "  'Kalvik',\n",
              "  'OLeary',\n",
              "  'Hegarty',\n",
              "  'Hickman',\n",
              "  'Radeff',\n",
              "  'Bourke',\n",
              "  'Eitemiller',\n",
              "  'Newell',\n",
              "  'Frauenthal',\n",
              "  'Badt',\n",
              "  'Colley',\n",
              "  'Coleff',\n",
              "  'Lindqvist',\n",
              "  'Hickman',\n",
              "  'Butler',\n",
              "  'Rommetvedt',\n",
              "  'Cook',\n",
              "  'Taylor',\n",
              "  'Brown',\n",
              "  'Davidson',\n",
              "  'Mitchell',\n",
              "  'Wilhelms',\n",
              "  'Watson',\n",
              "  'Edvardsson',\n",
              "  'Sawyer',\n",
              "  'Turja',\n",
              "  'Goodwin',\n",
              "  'Cardeza',\n",
              "  'Peters',\n",
              "  'Hassab',\n",
              "  'Olsvigen',\n",
              "  'Goodwin',\n",
              "  'Brown',\n",
              "  'Laroche',\n",
              "  'Panula',\n",
              "  'Dakic',\n",
              "  'Fischer',\n",
              "  'Madill',\n",
              "  'Dick',\n",
              "  'Karun',\n",
              "  'Lam',\n",
              "  'Saad',\n",
              "  'Weir',\n",
              "  'Chapman',\n",
              "  'Kelly',\n",
              "  'Mullens',\n",
              "  'Thayer',\n",
              "  'Humblen',\n",
              "  'Astor',\n",
              "  'Silverthorne',\n",
              "  'Barbara',\n",
              "  'Gallagher',\n",
              "  'Hansen',\n",
              "  'Morley',\n",
              "  'Kelly',\n",
              "  'Calderhead',\n",
              "  'Cleaver',\n",
              "  'Moubarek',\n",
              "  'Mayne',\n",
              "  'Klaber',\n",
              "  'Taylor',\n",
              "  'Larsson',\n",
              "  'Greenberg',\n",
              "  'Soholt',\n",
              "  'Endres',\n",
              "  'Troutt',\n",
              "  'McEvoy',\n",
              "  'Johnson',\n",
              "  'Harper',\n",
              "  'Jensen',\n",
              "  'Gillespie',\n",
              "  'Hodges',\n",
              "  'Chambers',\n",
              "  'Oreskovic',\n",
              "  'Renouf',\n",
              "  'Mannion',\n",
              "  'Bryhl',\n",
              "  'Ilmakangas',\n",
              "  'Allen',\n",
              "  'Hassan',\n",
              "  'Knight',\n",
              "  'Berriman',\n",
              "  'Troupiansky',\n",
              "  'Williams',\n",
              "  'Ford',\n",
              "  'Lesurer',\n",
              "  'Ivanoff',\n",
              "  'Nankoff',\n",
              "  'Hawksford',\n",
              "  'Cavendish',\n",
              "  'Ryerson',\n",
              "  'McNamee',\n",
              "  'Stranden',\n",
              "  'Crosby',\n",
              "  'Abbott',\n",
              "  'Sinkkonen',\n",
              "  'Marvin',\n",
              "  'Connaghton',\n",
              "  'Wells',\n",
              "  'Moor',\n",
              "  'Vande Velde',\n",
              "  'Jonkoff',\n",
              "  'Herman',\n",
              "  'Hamalainen',\n",
              "  'Carlsson',\n",
              "  'Bailey',\n",
              "  'Theobald',\n",
              "  'Rothes',\n",
              "  'Garfirth',\n",
              "  'Nirva',\n",
              "  'Barah',\n",
              "  'Carter',\n",
              "  'Eklund',\n",
              "  'Hogeboom',\n",
              "  'Brewe',\n",
              "  'Mangan',\n",
              "  'Moran',\n",
              "  'Gronnestad',\n",
              "  'Lievens',\n",
              "  'Jensen',\n",
              "  'Mack',\n",
              "  'Elias',\n",
              "  'Hocking',\n",
              "  'Myhrman',\n",
              "  'Tobin',\n",
              "  'Emanuel',\n",
              "  'Kilgannon',\n",
              "  'Robert',\n",
              "  'Ayoub',\n",
              "  'Dick',\n",
              "  'Long',\n",
              "  'Johnston',\n",
              "  'Ali',\n",
              "  'Harmer',\n",
              "  'Sjoblom',\n",
              "  'Rice',\n",
              "  'Dean',\n",
              "  'Guggenheim',\n",
              "  'Keane',\n",
              "  'Gaskell',\n",
              "  'Sage',\n",
              "  'Hoyt',\n",
              "  'Dantcheff',\n",
              "  'Otter',\n",
              "  'Leader',\n",
              "  'Osman',\n",
              "  'Ibrahim Shawah',\n",
              "  'Van Impe',\n",
              "  'Ponesell',\n",
              "  'Collyer',\n",
              "  'Carter',\n",
              "  'Thomas',\n",
              "  'Hedman',\n",
              "  'Johansson',\n",
              "  'Andrews',\n",
              "  'Pettersson',\n",
              "  'Meyer',\n",
              "  'Chambers',\n",
              "  'Alexander',\n",
              "  'Lester',\n",
              "  'Slemen',\n",
              "  'Andersson',\n",
              "  'Tomlin',\n",
              "  'Fry',\n",
              "  'Heininen',\n",
              "  'Mallet',\n",
              "  'Holm',\n",
              "  'Skoog',\n",
              "  'Hays',\n",
              "  'Lulic',\n",
              "  'Reuchlin',\n",
              "  'Moor',\n",
              "  'Panula',\n",
              "  'Flynn',\n",
              "  'Lam',\n",
              "  'Mallet',\n",
              "  'McCormack',\n",
              "  'Stone',\n",
              "  'Yasbeck',\n",
              "  'Richards',\n",
              "  'Saad',\n",
              "  'Augustsson',\n",
              "  'Allum',\n",
              "  'Compton',\n",
              "  'Pasic',\n",
              "  'Sirota',\n",
              "  'Chip',\n",
              "  'Marechal',\n",
              "  'Alhomaki',\n",
              "  'Mudd',\n",
              "  'Serepeca',\n",
              "  'Lemberopolous',\n",
              "  'Culumovic',\n",
              "  'Abbing',\n",
              "  'Sage',\n",
              "  'Markoff',\n",
              "  'Harper',\n",
              "  'Goldenberg',\n",
              "  'Andersson',\n",
              "  'Svensson',\n",
              "  'Boulos',\n",
              "  'Lines',\n",
              "  'Carter',\n",
              "  'Aks',\n",
              "  'Wick',\n",
              "  'Daly',\n",
              "  'Baclini',\n",
              "  'Razi',\n",
              "  'Hansen',\n",
              "  'Giles',\n",
              "  'Swift',\n",
              "  'Sage',\n",
              "  'Gill',\n",
              "  'Bystrom',\n",
              "  'Duran y More',\n",
              "  'Roebling',\n",
              "  'van Melkebeke',\n",
              "  'Johnson',\n",
              "  'Balkic',\n",
              "  'Beckwith',\n",
              "  'Carlsson',\n",
              "  'Vander Cruyssen',\n",
              "  'Abelson',\n",
              "  'Najib',\n",
              "  'Gustafsson',\n",
              "  'Petroff',\n",
              "  'Laleff',\n",
              "  'Potter',\n",
              "  'Shelley',\n",
              "  'Markun',\n",
              "  'Dahlberg',\n",
              "  'Banfield',\n",
              "  'Sutehall',\n",
              "  'Rice',\n",
              "  'Montvila',\n",
              "  'Graham',\n",
              "  'Johnston',\n",
              "  'Behr',\n",
              "  'Dooley'],\n",
              " ['Mr',\n",
              "  'Mrs',\n",
              "  'Miss',\n",
              "  'Mrs',\n",
              "  'Mr',\n",
              "  'Mr',\n",
              "  'Mr',\n",
              "  'Master',\n",
              "  'Mrs',\n",
              "  'Mrs',\n",
              "  'Miss',\n",
              "  'Miss',\n",
              "  'Mr',\n",
              "  'Mr',\n",
              "  'Miss',\n",
              "  'Mrs',\n",
              "  'Master',\n",
              "  'Mr',\n",
              "  'Mrs',\n",
              "  'Mrs',\n",
              "  'Mr',\n",
              "  'Mr',\n",
              "  'Miss',\n",
              "  'Mr',\n",
              "  'Miss',\n",
              "  'Mrs',\n",
              "  'Mr',\n",
              "  'Mr',\n",
              "  'Miss',\n",
              "  'Mr',\n",
              "  'Don',\n",
              "  'Mrs',\n",
              "  'Miss',\n",
              "  'Mr',\n",
              "  'Mr',\n",
              "  'Mr',\n",
              "  'Mr',\n",
              "  'Mr',\n",
              "  'Miss',\n",
              "  'Miss',\n",
              "  'Mrs',\n",
              "  'Mrs',\n",
              "  'Mr',\n",
              "  'Miss',\n",
              "  'Miss',\n",
              "  'Mr',\n",
              "  'Mr',\n",
              "  'Miss',\n",
              "  'Mr',\n",
              "  'Mrs',\n",
              "  'Master',\n",
              "  'Mr',\n",
              "  'Mrs',\n",
              "  'Mrs',\n",
              "  'Mr',\n",
              "  'Mr',\n",
              "  'Miss',\n",
              "  'Mr',\n",
              "  'Miss',\n",
              "  'Master',\n",
              "  'Mr',\n",
              "  'Miss',\n",
              "  'Mr',\n",
              "  'Master',\n",
              "  'Mr',\n",
              "  'Master',\n",
              "  'Mrs',\n",
              "  'Mr',\n",
              "  'Miss',\n",
              "  'Mr',\n",
              "  'Mr',\n",
              "  'Miss',\n",
              "  'Mr',\n",
              "  'Mr',\n",
              "  'Mr',\n",
              "  'Mr',\n",
              "  'Mr',\n",
              "  'Mr',\n",
              "  'Master',\n",
              "  'Miss',\n",
              "  'Mr',\n",
              "  'Mr',\n",
              "  'Miss',\n",
              "  'Mr',\n",
              "  'Miss',\n",
              "  'Mrs',\n",
              "  'Mr',\n",
              "  'Mr',\n",
              "  'Miss',\n",
              "  'Mr',\n",
              "  'Mr',\n",
              "  'Mr',\n",
              "  'Mr',\n",
              "  'Mr',\n",
              "  'Mr',\n",
              "  'Mr',\n",
              "  'Mr',\n",
              "  'Mr',\n",
              "  'Mrs',\n",
              "  'Mr',\n",
              "  'Miss',\n",
              "  'Mr',\n",
              "  'Mr',\n",
              "  'Mr',\n",
              "  'Mr',\n",
              "  'Mr',\n",
              "  'Miss',\n",
              "  'Mr',\n",
              "  'Mr',\n",
              "  'Miss',\n",
              "  'Mr',\n",
              "  'Miss',\n",
              "  'Mr',\n",
              "  'Miss',\n",
              "  'Miss',\n",
              "  'Mr',\n",
              "  'Mr',\n",
              "  'Mr',\n",
              "  'Mr',\n",
              "  'Miss',\n",
              "  'Mr',\n",
              "  'Mr',\n",
              "  'Mr',\n",
              "  'Miss',\n",
              "  'Mr',\n",
              "  'Master',\n",
              "  'Mr',\n",
              "  'Mr',\n",
              "  'Miss',\n",
              "  'Mr',\n",
              "  'Mr',\n",
              "  'Mr',\n",
              "  'Mrs',\n",
              "  'Mrs',\n",
              "  'Mr',\n",
              "  'Mr',\n",
              "  'Miss',\n",
              "  'Mr',\n",
              "  'Mr',\n",
              "  'Mr',\n",
              "  'Mrs',\n",
              "  'Miss',\n",
              "  'Mrs',\n",
              "  'Mr',\n",
              "  'Mr',\n",
              "  'Mr',\n",
              "  'Mr',\n",
              "  'Miss',\n",
              "  'Mr',\n",
              "  'Rev',\n",
              "  'Rev',\n",
              "  'Mrs',\n",
              "  'Mr',\n",
              "  'Mr',\n",
              "  'Mr',\n",
              "  'Mr',\n",
              "  'Miss',\n",
              "  'Mr',\n",
              "  'Mr',\n",
              "  'Master',\n",
              "  'Mr',\n",
              "  'Mrs',\n",
              "  'Mr',\n",
              "  'Mr',\n",
              "  'Master',\n",
              "  'Master',\n",
              "  'Mrs',\n",
              "  'Mrs',\n",
              "  'Mr',\n",
              "  'Mr',\n",
              "  'Mr',\n",
              "  'Master',\n",
              "  'Miss',\n",
              "  'Mr',\n",
              "  'Mr',\n",
              "  'Mr',\n",
              "  'Master',\n",
              "  'Miss',\n",
              "  'Mr',\n",
              "  'Mr',\n",
              "  'Miss',\n",
              "  'Mr',\n",
              "  'Master',\n",
              "  'Master',\n",
              "  'Miss',\n",
              "  'Mr',\n",
              "  'Mrs',\n",
              "  'Mr',\n",
              "  'Mr',\n",
              "  'Mr',\n",
              "  'Mrs',\n",
              "  'Mr',\n",
              "  'Miss',\n",
              "  'Master',\n",
              "  'Mrs',\n",
              "  'Miss',\n",
              "  'Mr',\n",
              "  'Mr',\n",
              "  'Miss',\n",
              "  'Miss',\n",
              "  'Mr',\n",
              "  'Mr',\n",
              "  'Mr',\n",
              "  'Mr',\n",
              "  'Mr',\n",
              "  'Miss',\n",
              "  'Mr',\n",
              "  'Mr',\n",
              "  'Miss',\n",
              "  'Mr',\n",
              "  'Mr',\n",
              "  'Miss',\n",
              "  'Mr',\n",
              "  'Mr',\n",
              "  'Mr',\n",
              "  'Miss',\n",
              "  'Miss',\n",
              "  'Mr',\n",
              "  'Miss',\n",
              "  'Mr',\n",
              "  'Mr',\n",
              "  'Mr',\n",
              "  'Mr',\n",
              "  'Mr',\n",
              "  'Mr',\n",
              "  'Mr',\n",
              "  'Mr',\n",
              "  'Mr',\n",
              "  'Mr',\n",
              "  'Miss',\n",
              "  'Mrs',\n",
              "  'Mr',\n",
              "  'Mr',\n",
              "  'Miss',\n",
              "  'Mr',\n",
              "  'Miss',\n",
              "  'Mr',\n",
              "  'Miss',\n",
              "  'Mr',\n",
              "  'Mr',\n",
              "  'Miss',\n",
              "  'Miss',\n",
              "  'Mr',\n",
              "  'Mr',\n",
              "  'Mr',\n",
              "  'Dr',\n",
              "  'Miss',\n",
              "  'Mrs',\n",
              "  'Mr',\n",
              "  'Rev',\n",
              "  'Mr',\n",
              "  'Mrs',\n",
              "  'Mr',\n",
              "  'Mr',\n",
              "  'Mrs',\n",
              "  'Mrs',\n",
              "  'Mrs',\n",
              "  'Miss',\n",
              "  'Miss',\n",
              "  'Mrs',\n",
              "  'Mr',\n",
              "  'Master',\n",
              "  'Mr',\n",
              "  'Mr',\n",
              "  'Miss',\n",
              "  'Mr',\n",
              "  'Mr',\n",
              "  'Mr',\n",
              "  'Mrs',\n",
              "  'Miss',\n",
              "  'Mr',\n",
              "  'Mr',\n",
              "  'Mrs',\n",
              "  'Mr',\n",
              "  'Miss',\n",
              "  'Miss',\n",
              "  'Miss',\n",
              "  'Mr',\n",
              "  'Master',\n",
              "  'Mrs',\n",
              "  'Mr',\n",
              "  'Mr',\n",
              "  'Mr',\n",
              "  'Mr',\n",
              "  'Mr',\n",
              "  'Mr',\n",
              "  'Mr',\n",
              "  'Mr',\n",
              "  'Mr',\n",
              "  'Miss',\n",
              "  'Miss',\n",
              "  'Mrs',\n",
              "  'Mr',\n",
              "  'Miss',\n",
              "  'Mr',\n",
              "  'Mr',\n",
              "  'Mr',\n",
              "  'Miss',\n",
              "  'Mr',\n",
              "  'Mrs',\n",
              "  'Miss',\n",
              "  'Mr',\n",
              "  'Mr',\n",
              "  'Miss',\n",
              "  'Mr',\n",
              "  'Master',\n",
              "  'Miss',\n",
              "  'Mrs',\n",
              "  'Mr',\n",
              "  'Miss',\n",
              "  'Miss',\n",
              "  'Miss',\n",
              "  'Mrs',\n",
              "  'Mr',\n",
              "  'Mr',\n",
              "  'Miss',\n",
              "  'Mrs',\n",
              "  'Dr',\n",
              "  'Miss',\n",
              "  'Mrs',\n",
              "  'Mr',\n",
              "  'Mr',\n",
              "  'Miss',\n",
              "  'Mrs',\n",
              "  'Mr',\n",
              "  'Miss',\n",
              "  'Mr',\n",
              "  'Mrs',\n",
              "  'Mrs',\n",
              "  'Miss',\n",
              "  'Miss',\n",
              "  'Mr',\n",
              "  'Mr',\n",
              "  'Mr',\n",
              "  'Mrs',\n",
              "  'Mr',\n",
              "  'Mr',\n",
              "  'Miss',\n",
              "  'Mr',\n",
              "  'Mr',\n",
              "  'Master',\n",
              "  'Miss',\n",
              "  'Mr',\n",
              "  'Mr',\n",
              "  'Mr',\n",
              "  'Miss',\n",
              "  'Miss',\n",
              "  'Mrs',\n",
              "  'Master',\n",
              "  'Mr',\n",
              "  'Mr',\n",
              "  'Mr',\n",
              "  'Mr',\n",
              "  'Mr',\n",
              "  'Mr',\n",
              "  'Mr',\n",
              "  'Miss',\n",
              "  'Miss',\n",
              "  'Miss',\n",
              "  'Miss',\n",
              "  'Mr',\n",
              "  'Mr',\n",
              "  'Mrs',\n",
              "  'Mr',\n",
              "  'Mr',\n",
              "  'Mr',\n",
              "  'Mrs',\n",
              "  'Mrs',\n",
              "  'Miss',\n",
              "  'Mme',\n",
              "  'Mr',\n",
              "  'Mr',\n",
              "  'Mr',\n",
              "  'Mr',\n",
              "  'Miss',\n",
              "  'Mrs',\n",
              "  'Miss',\n",
              "  'Mr',\n",
              "  'Mr',\n",
              "  'Mr',\n",
              "  'Miss',\n",
              "  'Miss',\n",
              "  'Mr',\n",
              "  'Mrs',\n",
              "  'Mr',\n",
              "  'Mr',\n",
              "  'Master',\n",
              "  'Miss',\n",
              "  'Mr',\n",
              "  'Miss',\n",
              "  'Mr',\n",
              "  'Mr',\n",
              "  'Mr',\n",
              "  'Miss',\n",
              "  'Mrs',\n",
              "  'Mr',\n",
              "  'Miss',\n",
              "  'Mr',\n",
              "  'Dr',\n",
              "  'Mrs',\n",
              "  'Mr',\n",
              "  'Mr',\n",
              "  'Miss',\n",
              "  'Mr',\n",
              "  'Miss',\n",
              "  'Mr',\n",
              "  'Mr',\n",
              "  'Master',\n",
              "  'Mr',\n",
              "  'Miss',\n",
              "  'Mr',\n",
              "  'Mr',\n",
              "  'Miss',\n",
              "  'Mr',\n",
              "  'Mr',\n",
              "  'Mrs',\n",
              "  'Mrs',\n",
              "  'Miss',\n",
              "  'Mr',\n",
              "  'Miss',\n",
              "  'Mr',\n",
              "  'Mr',\n",
              "  'Mr',\n",
              "  'Mrs',\n",
              "  'Mr',\n",
              "  'Mr',\n",
              "  'Mrs',\n",
              "  'Miss',\n",
              "  'Mr',\n",
              "  'Mr',\n",
              "  'Mr',\n",
              "  'Mrs',\n",
              "  'Mrs',\n",
              "  'Mr',\n",
              "  'Mr',\n",
              "  'Miss',\n",
              "  'Miss',\n",
              "  'Mrs',\n",
              "  'Mr',\n",
              "  'Mr',\n",
              "  'Mrs',\n",
              "  'Mr',\n",
              "  'Mr',\n",
              "  'Ms',\n",
              "  'Mr',\n",
              "  'Master',\n",
              "  'Miss',\n",
              "  'Mr',\n",
              "  'Miss',\n",
              "  'Major',\n",
              "  'Mr',\n",
              "  'Mr',\n",
              "  'Mr',\n",
              "  'Mr',\n",
              "  'Mr',\n",
              "  'Mr',\n",
              "  'Mr',\n",
              "  'Mrs',\n",
              "  'Miss',\n",
              "  'Mr',\n",
              "  'Mr',\n",
              "  'Mr',\n",
              "  'Mr',\n",
              "  'Mr',\n",
              "  'Mr',\n",
              "  'Mr',\n",
              "  'Mr',\n",
              "  'Mr',\n",
              "  'Mr',\n",
              "  'Miss',\n",
              "  'Mr',\n",
              "  'Mr',\n",
              "  'Mrs',\n",
              "  'Mrs',\n",
              "  'Miss',\n",
              "  'Mr',\n",
              "  'Mr',\n",
              "  'Mr',\n",
              "  'Mr',\n",
              "  'Miss',\n",
              "  'Master',\n",
              "  'Mr',\n",
              "  'Mr',\n",
              "  'Mrs',\n",
              "  'Mr',\n",
              "  'Miss',\n",
              "  'Mrs',\n",
              "  'Mr',\n",
              "  'Mr',\n",
              "  'Master',\n",
              "  'Mr',\n",
              "  'Mr',\n",
              "  'Mr',\n",
              "  'Mr',\n",
              "  'Mr',\n",
              "  'Mr',\n",
              "  'Miss',\n",
              "  'Mr',\n",
              "  'Mrs',\n",
              "  'Mr',\n",
              "  'Mr',\n",
              "  'Miss',\n",
              "  'Miss',\n",
              "  'Miss',\n",
              "  'Miss',\n",
              "  'Mr',\n",
              "  'Mrs',\n",
              "  'Mr',\n",
              "  'Mr',\n",
              "  'Mr',\n",
              "  'Mr',\n",
              "  'Mr',\n",
              "  'Mr',\n",
              "  'Mrs',\n",
              "  'Mr',\n",
              "  'Mr',\n",
              "  'Mrs',\n",
              "  'Mr',\n",
              "  'Mrs',\n",
              "  'Mr',\n",
              "  'Miss',\n",
              "  'Mr',\n",
              "  'Mr',\n",
              "  'Mrs',\n",
              "  'Mr',\n",
              "  'Mr',\n",
              "  'Miss',\n",
              "  'Mr',\n",
              "  'Mr',\n",
              "  'Mr',\n",
              "  'Miss',\n",
              "  'Mr',\n",
              "  'Mr',\n",
              "  'Mrs',\n",
              "  'Miss',\n",
              "  'Miss',\n",
              "  'Major',\n",
              "  'Miss',\n",
              "  'Mr',\n",
              "  'Miss',\n",
              "  'Miss',\n",
              "  'Miss',\n",
              "  'Miss',\n",
              "  'Mr',\n",
              "  'Mr',\n",
              "  'Mr',\n",
              "  'Mrs',\n",
              "  'Mr',\n",
              "  'Mr',\n",
              "  'Master',\n",
              "  'Mr',\n",
              "  'Mr',\n",
              "  'Mr',\n",
              "  'Mr',\n",
              "  'Miss',\n",
              "  'Mr',\n",
              "  'Lady',\n",
              "  'Mr',\n",
              "  'Mrs',\n",
              "  'Mrs',\n",
              "  'Mr',\n",
              "  'Mr',\n",
              "  'Mr',\n",
              "  'Mr',\n",
              "  'Miss',\n",
              "  'Mr',\n",
              "  'Mr',\n",
              "  'Mrs',\n",
              "  'Mr',\n",
              "  'Mr',\n",
              "  'Mr',\n",
              "  'Mrs',\n",
              "  'Mr',\n",
              "  'Miss',\n",
              "  'Mr',\n",
              "  'Mr',\n",
              "  'Miss',\n",
              "  'Mrs',\n",
              "  'Mrs',\n",
              "  'Mr',\n",
              "  'Miss',\n",
              "  'Mrs',\n",
              "  'Mr',\n",
              "  'Mr',\n",
              "  'Mr',\n",
              "  'Miss',\n",
              "  'Mr',\n",
              "  'Mr',\n",
              "  'Mr',\n",
              "  'Mr',\n",
              "  'Mr',\n",
              "  'Mrs',\n",
              "  'Mr',\n",
              "  'Miss',\n",
              "  'Mr',\n",
              "  'Mr',\n",
              "  'Miss',\n",
              "  'Mr',\n",
              "  'Mr',\n",
              "  'Sir',\n",
              "  'Mrs',\n",
              "  'Mr',\n",
              "  'Mr',\n",
              "  'Mr',\n",
              "  'Mr',\n",
              "  'Mr',\n",
              "  'Mr',\n",
              "  'Mr',\n",
              "  'Mrs',\n",
              "  'Miss',\n",
              "  'Mrs',\n",
              "  'Mr',\n",
              "  'Miss',\n",
              "  'Mr',\n",
              "  'Mr',\n",
              "  'Miss',\n",
              "  'Mr',\n",
              "  'Mrs',\n",
              "  'Miss',\n",
              "  'Mr',\n",
              "  'Mr',\n",
              "  'Mr',\n",
              "  'Mr',\n",
              "  'Mr',\n",
              "  'Mr',\n",
              "  'Mr',\n",
              "  'Rev',\n",
              "  'Miss',\n",
              "  'Mr',\n",
              "  'Mr',\n",
              "  'Mr',\n",
              "  'Mr',\n",
              "  'Dr',\n",
              "  'Mr',\n",
              "  'Miss',\n",
              "  'Miss',\n",
              "  'Mr',\n",
              "  'Mr',\n",
              "  'Mrs',\n",
              "  'Mr',\n",
              "  'Mr',\n",
              "  'Mlle',\n",
              "  'Miss',\n",
              "  'Mr',\n",
              "  'Miss',\n",
              "  'Mr',\n",
              "  'Mr',\n",
              "  'Col',\n",
              "  'Mr',\n",
              "  'Miss',\n",
              "  'Mr',\n",
              "  'Miss',\n",
              "  'Mr',\n",
              "  'Miss',\n",
              "  'Miss',\n",
              "  'Mr',\n",
              "  'Mr',\n",
              "  'Mrs',\n",
              "  'Mr',\n",
              "  'Mr',\n",
              "  'Dr',\n",
              "  'Mr',\n",
              "  'Mr',\n",
              "  'Mr',\n",
              "  'Mr',\n",
              "  'Mr',\n",
              "  'Mr',\n",
              "  'Mr',\n",
              "  'Mr',\n",
              "  'Mrs',\n",
              "  'Mrs',\n",
              "  'Mr',\n",
              "  'Mr',\n",
              "  'Mr',\n",
              "  'Mr',\n",
              "  'Mr',\n",
              "  'Mr',\n",
              "  'Miss',\n",
              "  'Mrs',\n",
              "  'Mr',\n",
              "  'Miss',\n",
              "  'Mr',\n",
              "  'Mr',\n",
              "  'Mr',\n",
              "  'Mr',\n",
              "  'Mr',\n",
              "  'Mr',\n",
              "  'Mr',\n",
              "  'Mr',\n",
              "  'Miss',\n",
              "  'Mr',\n",
              "  'Miss',\n",
              "  'Mr',\n",
              "  'Mr',\n",
              "  'Col',\n",
              "  'Mr',\n",
              "  'Mr',\n",
              "  'Miss',\n",
              "  'Mr',\n",
              "  'Mr',\n",
              "  'Mrs',\n",
              "  'Mr',\n",
              "  'Miss',\n",
              "  'Mr',\n",
              "  'Mr',\n",
              "  'Mr',\n",
              "  'Mrs',\n",
              "  'Mr',\n",
              "  'Miss',\n",
              "  'Master',\n",
              "  'Mlle',\n",
              "  'Mr',\n",
              "  'Mr',\n",
              "  'Mr',\n",
              "  'Mr',\n",
              "  'Mr',\n",
              "  'Miss',\n",
              "  'Miss',\n",
              "  'Mr',\n",
              "  'Mr',\n",
              "  'Miss',\n",
              "  'Mr',\n",
              "  'Mr',\n",
              "  'Mr',\n",
              "  'Mr',\n",
              "  'Mr',\n",
              "  'Mrs',\n",
              "  'Miss',\n",
              "  'Mr',\n",
              "  'Miss',\n",
              "  'Miss',\n",
              "  'Mr',\n",
              "  'Mr',\n",
              "  'Mr',\n",
              "  'Mr',\n",
              "  'Mr',\n",
              "  'Mrs',\n",
              "  'Mr',\n",
              "  'Mr',\n",
              "  'Mr',\n",
              "  'Mr',\n",
              "  'Mr',\n",
              "  'Miss',\n",
              "  'Mr',\n",
              "  'Mr',\n",
              "  'Capt',\n",
              "  'Mr',\n",
              "  'Miss',\n",
              "  'Mr',\n",
              "  'Mr',\n",
              "  'Miss',\n",
              "  'Master',\n",
              "  'Mr',\n",
              "  'Mr',\n",
              "  'Mrs',\n",
              "  'Master',\n",
              "  'Mr',\n",
              "  'Mr',\n",
              "  'Mr',\n",
              "  'the',\n",
              "  'Mr',\n",
              "  'Mr',\n",
              "  'Mr',\n",
              "  'Mrs',\n",
              "  'Mr',\n",
              "  'Mrs',\n",
              "  'Dr',\n",
              "  'Miss',\n",
              "  'Mr',\n",
              "  'Mr',\n",
              "  'Mr',\n",
              "  'Mr',\n",
              "  'Mrs',\n",
              "  'Mr',\n",
              "  'Mrs',\n",
              "  'Mr',\n",
              "  'Mr',\n",
              "  'Miss',\n",
              "  'Mr',\n",
              "  'Mrs',\n",
              "  'Miss',\n",
              "  'Mrs',\n",
              "  'Mr',\n",
              "  'Mr',\n",
              "  'Mr',\n",
              "  'Mr',\n",
              "  'Miss',\n",
              "  'Master',\n",
              "  'Master',\n",
              "  'Mr',\n",
              "  'Mr',\n",
              "  'Mr',\n",
              "  'Miss',\n",
              "  'Mr',\n",
              "  'Mr',\n",
              "  'Mr',\n",
              "  'Dr',\n",
              "  'Mrs',\n",
              "  'Mr',\n",
              "  'Mrs',\n",
              "  'Mr',\n",
              "  'Mrs',\n",
              "  'Master',\n",
              "  'Master',\n",
              "  'Mr',\n",
              "  'Mr',\n",
              "  'Mr',\n",
              "  'Miss',\n",
              "  'Mr',\n",
              "  'Mrs',\n",
              "  'Mr',\n",
              "  'Mr',\n",
              "  'Mr',\n",
              "  'Miss',\n",
              "  'Mr',\n",
              "  'Mr',\n",
              "  'Miss',\n",
              "  'Mr',\n",
              "  'Mr',\n",
              "  'Master',\n",
              "  'Mrs',\n",
              "  'Mr',\n",
              "  'Jonkheer',\n",
              "  'Mrs',\n",
              "  'Master',\n",
              "  'Mr',\n",
              "  'Mr',\n",
              "  'Master',\n",
              "  'Mr',\n",
              "  'Mrs',\n",
              "  'Mrs',\n",
              "  'Master',\n",
              "  'Mr',\n",
              "  'Mr',\n",
              "  'Mr',\n",
              "  'Miss',\n",
              "  'Mr',\n",
              "  'Mr',\n",
              "  'Mr',\n",
              "  'Mr',\n",
              "  'Mr',\n",
              "  'Mr',\n",
              "  'Miss',\n",
              "  'Mr',\n",
              "  'Mr',\n",
              "  'Mr',\n",
              "  'Mr',\n",
              "  'Mr',\n",
              "  'Rev',\n",
              "  'Mrs',\n",
              "  'Master',\n",
              "  'Mr',\n",
              "  'Miss',\n",
              "  'Miss',\n",
              "  'Mrs',\n",
              "  'Mrs',\n",
              "  'Mrs',\n",
              "  'Mr',\n",
              "  'Mrs',\n",
              "  'Mr',\n",
              "  'Mr',\n",
              "  'Mr',\n",
              "  'Mrs',\n",
              "  'Miss',\n",
              "  'Mr',\n",
              "  'Mrs',\n",
              "  'Miss',\n",
              "  'Mr',\n",
              "  'Mr',\n",
              "  'Master',\n",
              "  'Mr',\n",
              "  'Mrs',\n",
              "  'Mr',\n",
              "  'Mr',\n",
              "  'Mrs',\n",
              "  'Miss',\n",
              "  'Mr',\n",
              "  'Mr',\n",
              "  'Mr',\n",
              "  'Mrs',\n",
              "  'Mrs',\n",
              "  'Mr',\n",
              "  'Miss',\n",
              "  'Mr',\n",
              "  'Mr',\n",
              "  'Mrs',\n",
              "  'Rev',\n",
              "  'Miss',\n",
              "  'Miss',\n",
              "  'Mr',\n",
              "  'Mr'],\n",
              " ['Braund Mr Owen Harris',\n",
              "  'Cumings Mrs John Bradley Florence Briggs Thayer',\n",
              "  'Heikkinen Miss Laina',\n",
              "  'Futrelle Mrs Jacques Heath Lily May Peel',\n",
              "  'Allen Mr William Henry',\n",
              "  'Moran Mr James',\n",
              "  'McCarthy Mr Timothy J',\n",
              "  'Palsson Master Gosta Leonard',\n",
              "  'Johnson Mrs Oscar W Elisabeth Vilhelmina Berg',\n",
              "  'Nasser Mrs Nicholas Adele Achem',\n",
              "  'Sandstrom Miss Marguerite Rut',\n",
              "  'Bonnell Miss Elizabeth',\n",
              "  'Saundercock Mr William Henry',\n",
              "  'Andersson Mr Anders Johan',\n",
              "  'Vestrom Miss Hulda Amanda Adolfina',\n",
              "  'Hewlett Mrs Mary D Kingcome',\n",
              "  'Rice Master Eugene',\n",
              "  'Williams Mr Charles Eugene',\n",
              "  'Vander Planke Mrs Julius Emelia Maria Vandemoortele',\n",
              "  'Masselmani Mrs Fatima',\n",
              "  'Fynney Mr Joseph J',\n",
              "  'Beesley Mr Lawrence',\n",
              "  'McGowan Miss Anna Annie',\n",
              "  'Sloper Mr William Thompson',\n",
              "  'Palsson Miss Torborg Danira',\n",
              "  'Asplund Mrs Carl Oscar Selma Augusta Emilia Johansson',\n",
              "  'Emir Mr Farred Chehab',\n",
              "  'Fortune Mr Charles Alexander',\n",
              "  'ODwyer Miss Ellen Nellie',\n",
              "  'Todoroff Mr Lalio',\n",
              "  'Uruchurtu Don Manuel E',\n",
              "  'Spencer Mrs William Augustus Marie Eugenie',\n",
              "  'Glynn Miss Mary Agatha',\n",
              "  'Wheadon Mr Edward H',\n",
              "  'Meyer Mr Edgar Joseph',\n",
              "  'Holverson Mr Alexander Oskar',\n",
              "  'Mamee Mr Hanna',\n",
              "  'Cann Mr Ernest Charles',\n",
              "  'Vander Planke Miss Augusta Maria',\n",
              "  'NicolaYarred Miss Jamila',\n",
              "  'Ahlin Mrs Johan Johanna Persdotter Larsson',\n",
              "  'Turpin Mrs William John Robert Dorothy Ann Wonnacott',\n",
              "  'Kraeff Mr Theodor',\n",
              "  'Laroche Miss Simonne Marie Anne Andree',\n",
              "  'Devaney Miss Margaret Delia',\n",
              "  'Rogers Mr William John',\n",
              "  'Lennon Mr Denis',\n",
              "  'ODriscoll Miss Bridget',\n",
              "  'Samaan Mr Youssef',\n",
              "  'ArnoldFranchi Mrs Josef Josefine Franchi',\n",
              "  'Panula Master Juha Niilo',\n",
              "  'Nosworthy Mr Richard Cater',\n",
              "  'Harper Mrs Henry Sleeper Myna Haxtun',\n",
              "  'Faunthorpe Mrs Lizzie Elizabeth Anne Wilkinson',\n",
              "  'Ostby Mr Engelhart Cornelius',\n",
              "  'Woolner Mr Hugh',\n",
              "  'Rugg Miss Emily',\n",
              "  'Novel Mr Mansouer',\n",
              "  'West Miss Constance Mirium',\n",
              "  'Goodwin Master William Frederick',\n",
              "  'Sirayanian Mr Orsen',\n",
              "  'Icard Miss Amelie',\n",
              "  'Harris Mr Henry Birkhardt',\n",
              "  'Skoog Master Harald',\n",
              "  'Stewart Mr Albert A',\n",
              "  'Moubarek Master Gerios',\n",
              "  'Nye Mrs Elizabeth Ramell',\n",
              "  'Crease Mr Ernest James',\n",
              "  'Andersson Miss Erna Alexandra',\n",
              "  'Kink Mr Vincenz',\n",
              "  'Jenkin Mr Stephen Curnow',\n",
              "  'Goodwin Miss Lillian Amy',\n",
              "  'Hood Mr Ambrose Jr',\n",
              "  'Chronopoulos Mr Apostolos',\n",
              "  'Bing Mr Lee',\n",
              "  'Moen Mr Sigurd Hansen',\n",
              "  'Staneff Mr Ivan',\n",
              "  'Moutal Mr Rahamin Haim',\n",
              "  'Caldwell Master Alden Gates',\n",
              "  'Dowdell Miss Elizabeth',\n",
              "  'Waelens Mr Achille',\n",
              "  'Sheerlinck Mr Jan Baptist',\n",
              "  'McDermott Miss Brigdet Delia',\n",
              "  'Carrau Mr Francisco M',\n",
              "  'Ilett Miss Bertha',\n",
              "  'Backstrom Mrs Karl Alfred Maria Mathilda Gustafsson',\n",
              "  'Ford Mr William Neal',\n",
              "  'Slocovski Mr Selman Francis',\n",
              "  'Fortune Miss Mabel Helen',\n",
              "  'Celotti Mr Francesco',\n",
              "  'Christmann Mr Emil',\n",
              "  'Andreasson Mr Paul Edvin',\n",
              "  'Chaffee Mr Herbert Fuller',\n",
              "  'Dean Mr Bertram Frank',\n",
              "  'Coxon Mr Daniel',\n",
              "  'Shorney Mr Charles Joseph',\n",
              "  'Goldschmidt Mr George B',\n",
              "  'Greenfield Mr William Bertram',\n",
              "  'Doling Mrs John T Ada Julia Bone',\n",
              "  'Kantor Mr Sinai',\n",
              "  'Petranec Miss Matilda',\n",
              "  'Petroff Mr Pastcho Pentcho',\n",
              "  'White Mr Richard Frasar',\n",
              "  'Johansson Mr Gustaf Joel',\n",
              "  'Gustafsson Mr Anders Vilhelm',\n",
              "  'Mionoff Mr Stoytcho',\n",
              "  'Salkjelsvik Miss Anna Kristine',\n",
              "  'Moss Mr Albert Johan',\n",
              "  'Rekic Mr Tido',\n",
              "  'Moran Miss Bertha',\n",
              "  'Porter Mr Walter Chamberlain',\n",
              "  'Zabour Miss Hileni',\n",
              "  'Barton Mr David John',\n",
              "  'Jussila Miss Katriina',\n",
              "  'Attalah Miss Malake',\n",
              "  'Pekoniemi Mr Edvard',\n",
              "  'Connors Mr Patrick',\n",
              "  'Turpin Mr William John Robert',\n",
              "  'Baxter Mr Quigg Edmond',\n",
              "  'Andersson Miss Ellis Anna Maria',\n",
              "  'Hickman Mr Stanley George',\n",
              "  'Moore Mr Leonard Charles',\n",
              "  'Nasser Mr Nicholas',\n",
              "  'Webber Miss Susan',\n",
              "  'White Mr Percival Wayland',\n",
              "  'NicolaYarred Master Elias',\n",
              "  'McMahon Mr Martin',\n",
              "  'Madsen Mr Fridtjof Arne',\n",
              "  'Peter Miss Anna',\n",
              "  'Ekstrom Mr Johan',\n",
              "  'Drazenoic Mr Jozef',\n",
              "  'Coelho Mr Domingos Fernandeo',\n",
              "  'Robins Mrs Alexander A Grace Charity Laury',\n",
              "  'Weisz Mrs Leopold Mathilde Francoise Pede',\n",
              "  'Sobey Mr Samuel James Hayden',\n",
              "  'Richard Mr Emile',\n",
              "  'Newsom Miss Helen Monypeny',\n",
              "  'Futrelle Mr Jacques Heath',\n",
              "  'Osen Mr Olaf Elon',\n",
              "  'Giglio Mr Victor',\n",
              "  'Boulos Mrs Joseph Sultana',\n",
              "  'Nysten Miss Anna Sofia',\n",
              "  'Hakkarainen Mrs Pekka Pietari Elin Matilda Dolck',\n",
              "  'Burke Mr Jeremiah',\n",
              "  'Andrew Mr Edgardo Samuel',\n",
              "  'Nicholls Mr Joseph Charles',\n",
              "  'Andersson Mr August Edvard Wennerstrom',\n",
              "  'Ford Miss Robina Maggie Ruby',\n",
              "  'Navratil Mr Michel Louis M Hoffman',\n",
              "  'Byles Rev Thomas Roussel Davids',\n",
              "  'Bateman Rev Robert James',\n",
              "  'Pears Mrs Thomas Edith Wearne',\n",
              "  'Meo Mr Alfonzo',\n",
              "  'van Billiard Mr Austin Blyler',\n",
              "  'Olsen Mr Ole Martin',\n",
              "  'Williams Mr Charles Duane',\n",
              "  'Gilnagh Miss Katherine Katie',\n",
              "  'Corn Mr Harry',\n",
              "  'Smiljanic Mr Mile',\n",
              "  'Sage Master Thomas Henry',\n",
              "  'Cribb Mr John Hatfield',\n",
              "  'Watt Mrs James Elizabeth Bessie Inglis Milne',\n",
              "  'Bengtsson Mr John Viktor',\n",
              "  'Calic Mr Jovo',\n",
              "  'Panula Master Eino Viljami',\n",
              "  'Goldsmith Master Frank John William Frankie',\n",
              "  'Chibnall Mrs Edith Martha Bowerman',\n",
              "  'Skoog Mrs William Anna Bernhardina Karlsson',\n",
              "  'Baumann Mr John D',\n",
              "  'Ling Mr Lee',\n",
              "  'Van der hoef Mr Wyckoff',\n",
              "  'Rice Master Arthur',\n",
              "  'Johnson Miss Eleanor Ileen',\n",
              "  'Sivola Mr Antti Wilhelm',\n",
              "  'Smith Mr James Clinch',\n",
              "  'Klasen Mr Klas Albin',\n",
              "  'Lefebre Master Henry Forbes',\n",
              "  'Isham Miss Ann Elizabeth',\n",
              "  'Hale Mr Reginald',\n",
              "  'Leonard Mr Lionel',\n",
              "  'Sage Miss Constance Gladys',\n",
              "  'Pernot Mr Rene',\n",
              "  'Asplund Master Clarence Gustaf Hugo',\n",
              "  'Becker Master Richard F',\n",
              "  'KinkHeilmann Miss Luise Gretchen',\n",
              "  'Rood Mr Hugh Roscoe',\n",
              "  'OBrien Mrs Thomas Johanna Hannah Godfrey',\n",
              "  'Romaine Mr Charles Hallace Mr C Rolmane',\n",
              "  'Bourke Mr John',\n",
              "  'Turcin Mr Stjepan',\n",
              "  'Pinsky Mrs Rosa',\n",
              "  'Carbines Mr William',\n",
              "  'AndersenJensen Miss Carla Christine Nielsine',\n",
              "  'Navratil Master Michel M',\n",
              "  'Brown Mrs James Joseph Margaret Tobin',\n",
              "  'Lurette Miss Elise',\n",
              "  'Mernagh Mr Robert',\n",
              "  'Olsen Mr Karl Siegwart Andreas',\n",
              "  'Madigan Miss Margaret Maggie',\n",
              "  'Yrois Miss Henriette Mrs Harbeck',\n",
              "  'Vande Walle Mr Nestor Cyriel',\n",
              "  'Sage Mr Frederick',\n",
              "  'Johanson Mr Jakob Alfred',\n",
              "  'Youseff Mr Gerious',\n",
              "  'Cohen Mr Gurshon Gus',\n",
              "  'Strom Miss Telma Matilda',\n",
              "  'Backstrom Mr Karl Alfred',\n",
              "  'Albimona Mr Nassef Cassem',\n",
              "  'Carr Miss Helen Ellen',\n",
              "  'Blank Mr Henry',\n",
              "  'Ali Mr Ahmed',\n",
              "  'Cameron Miss Clear Annie',\n",
              "  'Perkin Mr John Henry',\n",
              "  'Givard Mr Hans Kristensen',\n",
              "  'Kiernan Mr Philip',\n",
              "  'Newell Miss Madeleine',\n",
              "  'Honkanen Miss Eliina',\n",
              "  'Jacobsohn Mr Sidney Samuel',\n",
              "  'Bazzani Miss Albina',\n",
              "  'Harris Mr Walter',\n",
              "  'Sunderland Mr Victor Francis',\n",
              "  'Bracken Mr James H',\n",
              "  'Green Mr George Henry',\n",
              "  'Nenkoff Mr Christo',\n",
              "  'Hoyt Mr Frederick Maxfield',\n",
              "  'Berglund Mr Karl Ivar Sven',\n",
              "  'Mellors Mr William John',\n",
              "  'Lovell Mr John Hall Henry',\n",
              "  'Fahlstrom Mr Arne Jonas',\n",
              "  'Lefebre Miss Mathilde',\n",
              "  'Harris Mrs Henry Birkhardt Irene Wallach',\n",
              "  'Larsson Mr Bengt Edvin',\n",
              "  'Sjostedt Mr Ernst Adolf',\n",
              "  'Asplund Miss Lillian Gertrud',\n",
              "  'Leyson Mr Robert William Norman',\n",
              "  'Harknett Miss Alice Phoebe',\n",
              "  'Hold Mr Stephen',\n",
              "  'Collyer Miss Marjorie Lottie',\n",
              "  'Pengelly Mr Frederick William',\n",
              "  'Hunt Mr George Henry',\n",
              "  'Zabour Miss Thamine',\n",
              "  'Murphy Miss Katherine Kate',\n",
              "  'Coleridge Mr Reginald Charles',\n",
              "  'Maenpaa Mr Matti Alexanteri',\n",
              "  'Attalah Mr Sleiman',\n",
              "  'Minahan Dr William Edward',\n",
              "  'Lindahl Miss Agda Thorilda Viktoria',\n",
              "  'Hamalainen Mrs William Anna',\n",
              "  'Beckwith Mr Richard Leonard',\n",
              "  'Carter Rev Ernest Courtenay',\n",
              "  'Reed Mr James George',\n",
              "  'Strom Mrs Wilhelm Elna Matilda Persson',\n",
              "  'Stead Mr William Thomas',\n",
              "  'Lobb Mr William Arthur',\n",
              "  'Rosblom Mrs Viktor Helena Wilhelmina',\n",
              "  'Touma Mrs Darwis Hanne Youssef Razi',\n",
              "  'Thorne Mrs Gertrude Maybelle',\n",
              "  'Cherry Miss Gladys',\n",
              "  'Ward Miss Anna',\n",
              "  'Parrish Mrs Lutie Davis',\n",
              "  'Smith Mr Thomas',\n",
              "  'Asplund Master Edvin Rojj Felix',\n",
              "  'Taussig Mr Emil',\n",
              "  'Harrison Mr William',\n",
              "  'Henry Miss Delia',\n",
              "  'Reeves Mr David',\n",
              "  'Panula Mr Ernesti Arvid',\n",
              "  'Persson Mr Ernst Ulrik',\n",
              "  'Graham Mrs William Thompson Edith Junkins',\n",
              "  'Bissette Miss Amelia',\n",
              "  'Cairns Mr Alexander',\n",
              "  'Tornquist Mr William Henry',\n",
              "  'Mellinger Mrs Elizabeth Anne Maidment',\n",
              "  'Natsch Mr Charles H',\n",
              "  'Healy Miss Hanora Nora',\n",
              "  'Andrews Miss Kornelia Theodosia',\n",
              "  'Lindblom Miss Augusta Charlotta',\n",
              "  'Parkes Mr Francis Frank',\n",
              "  'Rice Master Eric',\n",
              "  'Abbott Mrs Stanton Rosa Hunt',\n",
              "  'Duane Mr Frank',\n",
              "  'Olsson Mr Nils Johan Goransson',\n",
              "  'de Pelsmaeker Mr Alfons',\n",
              "  'Dorking Mr Edward Arthur',\n",
              "  'Smith Mr Richard William',\n",
              "  'Stankovic Mr Ivan',\n",
              "  'de Mulder Mr Theodore',\n",
              "  'Naidenoff Mr Penko',\n",
              "  'Hosono Mr Masabumi',\n",
              "  'Connolly Miss Kate',\n",
              "  'Barber Miss Ellen Nellie',\n",
              "  'Bishop Mrs Dickinson H Helen Walton',\n",
              "  'Levy Mr Rene Jacques',\n",
              "  'Haas Miss Aloisia',\n",
              "  'Mineff Mr Ivan',\n",
              "  'Lewy Mr Ervin G',\n",
              "  'Hanna Mr Mansour',\n",
              "  'Allison Miss Helen Loraine',\n",
              "  'Saalfeld Mr Adolphe',\n",
              "  'Baxter Mrs James Helene DeLaudeniere Chaput',\n",
              "  'Kelly Miss Anna Katherine Annie Kate',\n",
              "  'McCoy Mr Bernard',\n",
              "  'Johnson Mr William Cahoone Jr',\n",
              "  'Keane Miss Nora A',\n",
              "  'Williams Mr Howard Hugh Harry',\n",
              "  'Allison Master Hudson Trevor',\n",
              "  'Fleming Miss Margaret',\n",
              "  'Penasco y Castellana Mrs Victor de Satode Maria Josefa Perez de Soto y Vallejo',\n",
              "  'Abelson Mr Samuel',\n",
              "  'Francatelli Miss Laura Mabel',\n",
              "  'Hays Miss Margaret Bechstein',\n",
              "  'Ryerson Miss Emily Borie',\n",
              "  'Lahtinen Mrs William Anna Sylfven',\n",
              "  'Hendekovic Mr Ignjac',\n",
              "  'Hart Mr Benjamin',\n",
              "  'Nilsson Miss Helmina Josefina',\n",
              "  'Kantor Mrs Sinai Miriam Sternin',\n",
              "  'Moraweck Dr Ernest',\n",
              "  'Wick Miss Mary Natalie',\n",
              "  'Spedden Mrs Frederic Oakley Margaretta Corning Stone',\n",
              "  'Dennis Mr Samuel',\n",
              "  'Danoff Mr Yoto',\n",
              "  'Slayter Miss Hilda Mary',\n",
              "  'Caldwell Mrs Albert Francis Sylvia Mae Harbaugh',\n",
              "  'Sage Mr George John Jr',\n",
              "  'Young Miss Marie Grice',\n",
              "  'Nysveen Mr Johan Hansen',\n",
              "  'Ball Mrs Ada E Hall',\n",
              "  'Goldsmith Mrs Frank John Emily Alice Brown',\n",
              "  'Hippach Miss Jean Gertrude',\n",
              "  'McCoy Miss Agnes',\n",
              "  'Partner Mr Austen',\n",
              "  'Graham Mr George Edward',\n",
              "  'Vander Planke Mr Leo Edmondus',\n",
              "  'Frauenthal Mrs Henry William Clara Heinsheimer',\n",
              "  'Denkoff Mr Mitto',\n",
              "  'Pears Mr Thomas Clinton',\n",
              "  'Burns Miss Elizabeth Margaret',\n",
              "  'Dahl Mr Karl Edwart',\n",
              "  'Blackwell Mr Stephen Weart',\n",
              "  'Navratil Master Edmond Roger',\n",
              "  'Fortune Miss Alice Elizabeth',\n",
              "  'Collander Mr Erik Gustaf',\n",
              "  'Sedgwick Mr Charles Frederick Waddington',\n",
              "  'Fox Mr Stanley Hubert',\n",
              "  'Brown Miss Amelia Mildred',\n",
              "  'Smith Miss Marion Elsie',\n",
              "  'Davison Mrs Thomas Henry Mary E Finck',\n",
              "  'Coutts Master William Loch William',\n",
              "  'Dimic Mr Jovan',\n",
              "  'Odahl Mr Nils Martin',\n",
              "  'WilliamsLambert Mr Fletcher Fellows',\n",
              "  'Elias Mr Tannous',\n",
              "  'ArnoldFranchi Mr Josef',\n",
              "  'Yousif Mr Wazli',\n",
              "  'Vanden Steen Mr Leo Peter',\n",
              "  'Bowerman Miss Elsie Edith',\n",
              "  'Funk Miss Annie Clemmer',\n",
              "  'McGovern Miss Mary',\n",
              "  'Mockler Miss Helen Mary Ellie',\n",
              "  'Skoog Mr Wilhelm',\n",
              "  'del Carlo Mr Sebastiano',\n",
              "  'Barbara Mrs Catherine David',\n",
              "  'Asim Mr Adola',\n",
              "  'OBrien Mr Thomas',\n",
              "  'Adahl Mr Mauritz Nils Martin',\n",
              "  'Warren Mrs Frank Manley Anna Sophia Atkinson',\n",
              "  'Moussa Mrs Mantoura Boulos',\n",
              "  'Jermyn Miss Annie',\n",
              "  'Aubart Mme Leontine Pauline',\n",
              "  'Harder Mr George Achilles',\n",
              "  'Wiklund Mr Jakob Alfred',\n",
              "  'Beavan Mr William Thomas',\n",
              "  'Ringhini Mr Sante',\n",
              "  'Palsson Miss Stina Viola',\n",
              "  'Meyer Mrs Edgar Joseph Leila Saks',\n",
              "  'Landergren Miss Aurora Adelia',\n",
              "  'Widener Mr Harry Elkins',\n",
              "  'Betros Mr Tannous',\n",
              "  'Gustafsson Mr Karl Gideon',\n",
              "  'Bidois Miss Rosalie',\n",
              "  'Nakid Miss Maria Mary',\n",
              "  'Tikkanen Mr Juho',\n",
              "  'Holverson Mrs Alexander Oskar Mary Aline Towner',\n",
              "  'Plotcharsky Mr Vasil',\n",
              "  'Davies Mr Charles Henry',\n",
              "  'Goodwin Master Sidney Leonard',\n",
              "  'Buss Miss Kate',\n",
              "  'Sadlier Mr Matthew',\n",
              "  'Lehmann Miss Bertha',\n",
              "  'Carter Mr William Ernest',\n",
              "  'Jansson Mr Carl Olof',\n",
              "  'Gustafsson Mr Johan Birger',\n",
              "  'Newell Miss Marjorie',\n",
              "  'Sandstrom Mrs Hjalmar Agnes Charlotta Bengtsson',\n",
              "  'Johansson Mr Erik',\n",
              "  'Olsson Miss Elina',\n",
              "  'McKane Mr Peter David',\n",
              "  'Pain Dr Alfred',\n",
              "  'Trout Mrs William H Jessie L',\n",
              "  'Niskanen Mr Juha',\n",
              "  'Adams Mr John',\n",
              "  'Jussila Miss Mari Aina',\n",
              "  'Hakkarainen Mr Pekka Pietari',\n",
              "  'Oreskovic Miss Marija',\n",
              "  'Gale Mr Shadrach',\n",
              "  'Widegren Mr CarlCharles Peter',\n",
              "  'Richards Master William Rowe',\n",
              "  'Birkeland Mr Hans Martin Monsen',\n",
              "  'Lefebre Miss Ida',\n",
              "  'Sdycoff Mr Todor',\n",
              "  'Hart Mr Henry',\n",
              "  'Minahan Miss Daisy E',\n",
              "  'Cunningham Mr Alfred Fleming',\n",
              "  'Sundman Mr Johan Julian',\n",
              "  'Meek Mrs Thomas Annie Louise Rowley',\n",
              "  'Drew Mrs James Vivian Lulu Thorne Christian',\n",
              "  'Silven Miss Lyyli Karoliina',\n",
              "  'Matthews Mr William John',\n",
              "  'Van Impe Miss Catharina',\n",
              "  'Gheorgheff Mr Stanio',\n",
              "  'Charters Mr David',\n",
              "  'Zimmerman Mr Leo',\n",
              "  'Danbom Mrs Ernst Gilbert Anna Sigrid Maria Brogren',\n",
              "  'Rosblom Mr Viktor Richard',\n",
              "  'Wiseman Mr Phillippe',\n",
              "  'Clarke Mrs Charles V Ada Maria Winfield',\n",
              "  'Phillips Miss Kate Florence Mrs Kate Louise Phillips Marshall',\n",
              "  'Flynn Mr James',\n",
              "  'Pickard Mr Berk Berk Trembisky',\n",
              "  'BjornstromSteffansson Mr Mauritz Hakan',\n",
              "  'Thorneycroft Mrs Percival Florence Kate White',\n",
              "  'Louch Mrs Charles Alexander Alice Adelaide Slow',\n",
              "  'Kallio Mr Nikolai Erland',\n",
              "  'Silvey Mr William Baird',\n",
              "  'Carter Miss Lucile Polk',\n",
              "  'Ford Miss Doolina Margaret Daisy',\n",
              "  'Richards Mrs Sidney Emily Hocking',\n",
              "  'Fortune Mr Mark',\n",
              "  'Kvillner Mr Johan Henrik Johannesson',\n",
              "  'Hart Mrs Benjamin Esther Ada Bloomfield',\n",
              "  'Hampe Mr Leon',\n",
              "  'Petterson Mr Johan Emil',\n",
              "  'Reynaldo Ms Encarnacion',\n",
              "  'JohannesenBratthammer Mr Bernt',\n",
              "  'Dodge Master Washington',\n",
              "  'Mellinger Miss Madeleine Violet',\n",
              "  'Seward Mr Frederic Kimber',\n",
              "  'Baclini Miss Marie Catherine',\n",
              "  'Peuchen Major Arthur Godfrey',\n",
              "  'West Mr Edwy Arthur',\n",
              "  'Hagland Mr Ingvald Olai Olsen',\n",
              "  'Foreman Mr Benjamin Laventall',\n",
              "  'Goldenberg Mr Samuel L',\n",
              "  'Peduzzi Mr Joseph',\n",
              "  'Jalsevac Mr Ivan',\n",
              "  'Millet Mr Francis Davis',\n",
              "  'Kenyon Mrs Frederick R Marion',\n",
              "  'Toomey Miss Ellen',\n",
              "  'OConnor Mr Maurice',\n",
              "  'Anderson Mr Harry',\n",
              "  'Morley Mr William',\n",
              "  'Gee Mr Arthur H',\n",
              "  'Milling Mr Jacob Christian',\n",
              "  'Maisner Mr Simon',\n",
              "  'Goncalves Mr Manuel Estanslas',\n",
              "  'Campbell Mr William',\n",
              "  'Smart Mr John Montgomery',\n",
              "  'Scanlan Mr James',\n",
              "  'Baclini Miss Helene Barbara',\n",
              "  'Keefe Mr Arthur',\n",
              "  'Cacic Mr Luka',\n",
              "  'West Mrs Edwy Arthur Ada Mary Worth',\n",
              "  'Jerwan Mrs Amin S Marie Marthe Thuillard',\n",
              "  'Strandberg Miss Ida Sofia',\n",
              "  'Clifford Mr George Quincy',\n",
              "  'Renouf Mr Peter Henry',\n",
              "  'Braund Mr Lewis Richard',\n",
              "  'Karlsson Mr Nils August',\n",
              "  'Hirvonen Miss Hildur E',\n",
              "  'Goodwin Master Harold Victor',\n",
              "  'Frost Mr Anthony Wood Archie',\n",
              "  'Rouse Mr Richard Henry',\n",
              "  'Turkula Mrs Hedwig',\n",
              "  'Bishop Mr Dickinson H',\n",
              "  'Lefebre Miss Jeannie',\n",
              "  'Hoyt Mrs Frederick Maxfield Jane Anne Forby',\n",
              "  'Kent Mr Edward Austin',\n",
              "  'Somerton Mr Francis William',\n",
              "  'Coutts Master Eden Leslie Neville',\n",
              "  'Hagland Mr Konrad Mathias Reiersen',\n",
              "  'Windelov Mr Einar',\n",
              "  'Molson Mr Harry Markland',\n",
              "  'Artagaveytia Mr Ramon',\n",
              "  'Stanley Mr Edward Roland',\n",
              "  'Yousseff Mr Gerious',\n",
              "  'Eustis Miss Elizabeth Mussey',\n",
              "  'Shellard Mr Frederick William',\n",
              "  'Allison Mrs Hudson J C Bessie Waldo Daniels',\n",
              "  'Svensson Mr Olof',\n",
              "  'Calic Mr Petar',\n",
              "  'Canavan Miss Mary',\n",
              "  'OSullivan Miss Bridget Mary',\n",
              "  'Laitinen Miss Kristina Sofia',\n",
              "  'Maioni Miss Roberta',\n",
              "  'Penasco y Castellana Mr Victor de Satode',\n",
              "  'Quick Mrs Frederick Charles Jane Richards',\n",
              "  'Bradley Mr George George Arthur Brayton',\n",
              "  'Olsen Mr Henry Margido',\n",
              "  'Lang Mr Fang',\n",
              "  'Daly Mr Eugene Patrick',\n",
              "  'Webber Mr James',\n",
              "  'McGough Mr James Robert',\n",
              "  'Rothschild Mrs Martin Elizabeth L Barrett',\n",
              "  'Coleff Mr Satio',\n",
              "  'Walker Mr William Anderson',\n",
              "  'Lemore Mrs Amelia Milley',\n",
              "  'Ryan Mr Patrick',\n",
              "  'Angle Mrs William A Florence Mary Agnes Hughes',\n",
              "  'Pavlovic Mr Stefo',\n",
              "  'Perreault Miss Anne',\n",
              "  'Vovk Mr Janko',\n",
              "  'Lahoud Mr Sarkis',\n",
              "  'Hippach Mrs Louis Albert Ida Sophia Fischer',\n",
              "  'Kassem Mr Fared',\n",
              "  'Farrell Mr James',\n",
              "  'Ridsdale Miss Lucy',\n",
              "  'Farthing Mr John',\n",
              "  'Salonen Mr Johan Werner',\n",
              "  'Hocking Mr Richard George',\n",
              "  'Quick Miss Phyllis May',\n",
              "  'Toufik Mr Nakli',\n",
              "  'Elias Mr Joseph Jr',\n",
              "  'Peter Mrs Catherine Catherine Rizk',\n",
              "  'Cacic Miss Marija',\n",
              "  'Hart Miss Eva Miriam',\n",
              "  'Butt Major Archibald Willingham',\n",
              "  'LeRoy Miss Bertha',\n",
              "  'Risien Mr Samuel Beard',\n",
              "  'Frolicher Miss Hedwig Margaritha',\n",
              "  'Crosby Miss Harriet R',\n",
              "  'Andersson Miss Ingeborg Constanzia',\n",
              "  'Andersson Miss Sigrid Elisabeth',\n",
              "  'Beane Mr Edward',\n",
              "  'Douglas Mr Walter Donald',\n",
              "  'Nicholson Mr Arthur Ernest',\n",
              "  'Beane Mrs Edward Ethel Clarke',\n",
              "  'Padro y Manent Mr Julian',\n",
              "  'Goldsmith Mr Frank John',\n",
              "  'Davies Master John Morgan Jr',\n",
              "  'Thayer Mr John Borland Jr',\n",
              "  'Sharp Mr Percival James R',\n",
              "  'OBrien Mr Timothy',\n",
              "  'Leeni Mr Fahim Philip Zenni',\n",
              "  'Ohman Miss Velin',\n",
              "  'Wright Mr George',\n",
              "  'Duff Gordon Lady Lucille Christiana Sutherland Mrs Morgan',\n",
              "  'Robbins Mr Victor',\n",
              "  'Taussig Mrs Emil Tillie Mandelbaum',\n",
              "  'de Messemaeker Mrs Guillaume Joseph Emma',\n",
              "  'Morrow Mr Thomas Rowan',\n",
              "  'Sivic Mr Husein',\n",
              "  'Norman Mr Robert Douglas',\n",
              "  'Simmons Mr John',\n",
              "  'Meanwell Miss Marion Ogden',\n",
              "  'Davies Mr Alfred J',\n",
              "  'Stoytcheff Mr Ilia',\n",
              "  'Palsson Mrs Nils Alma Cornelia Berglund',\n",
              "  'Doharr Mr Tannous',\n",
              "  'Jonsson Mr Carl',\n",
              "  'Harris Mr George',\n",
              "  'Appleton Mrs Edward Dale Charlotte Lamson',\n",
              "  'Flynn Mr John Irwin Irving',\n",
              "  'Kelly Miss Mary',\n",
              "  'Rush Mr Alfred George John',\n",
              "  'Patchett Mr George',\n",
              "  'Garside Miss Ethel',\n",
              "  'Silvey Mrs William Baird Alice Munger',\n",
              "  'Caram Mrs Joseph Maria Elias',\n",
              "  'Jussila Mr Eiriik',\n",
              "  'Christy Miss Julie Rachel',\n",
              "  'Thayer Mrs John Borland Marian Longstreth Morris',\n",
              "  'Downton Mr William James',\n",
              "  'Ross Mr John Hugo',\n",
              "  'Paulner Mr Uscher',\n",
              "  'Taussig Miss Ruth',\n",
              "  'Jarvis Mr John Denzil',\n",
              "  'FrolicherStehli Mr Maxmillian',\n",
              "  'Gilinski Mr Eliezer',\n",
              "  'Murdlin Mr Joseph',\n",
              "  'Rintamaki Mr Matti',\n",
              "  'Stephenson Mrs Walter Bertram Martha Eustis',\n",
              "  'Elsbury Mr William James',\n",
              "  'Bourke Miss Mary',\n",
              "  'Chapman Mr John Henry',\n",
              "  'Van Impe Mr Jean Baptiste',\n",
              "  'Leitch Miss Jessie Wills',\n",
              "  'Johnson Mr Alfred',\n",
              "  'Boulos Mr Hanna',\n",
              "  'Duff Gordon Sir Cosmo Edmund Mr Morgan',\n",
              "  'Jacobsohn Mrs Sidney Samuel Amy Frances Christy',\n",
              "  'Slabenoff Mr Petco',\n",
              "  'Harrington Mr Charles H',\n",
              "  'Torber Mr Ernst William',\n",
              "  'Homer Mr Harry Mr E Haven',\n",
              "  'Lindell Mr Edvard Bengtsson',\n",
              "  'Karaic Mr Milan',\n",
              "  'Daniel Mr Robert Williams',\n",
              "  'Laroche Mrs Joseph Juliette Marie Louise Lafargue',\n",
              "  'Shutes Miss Elizabeth W',\n",
              "  'Andersson Mrs Anders Johan Alfrida Konstantia Brogren',\n",
              "  'Jardin Mr Jose Neto',\n",
              "  'Murphy Miss Margaret Jane',\n",
              "  'Horgan Mr John',\n",
              "  'Brocklebank Mr William Alfred',\n",
              "  'Herman Miss Alice',\n",
              "  'Danbom Mr Ernst Gilbert',\n",
              "  'Lobb Mrs William Arthur Cordelia K Stanlick',\n",
              "  'Becker Miss Marion Louise',\n",
              "  'Gavey Mr Lawrence',\n",
              "  'Yasbeck Mr Antoni',\n",
              "  'Kimball Mr Edwin Nelson Jr',\n",
              "  'Nakid Mr Sahid',\n",
              "  'Hansen Mr Henry Damsgaard',\n",
              "  'Bowen Mr David John Dai',\n",
              "  'Sutton Mr Frederick',\n",
              "  'Kirkland Rev Charles Leonard',\n",
              "  'Longley Miss Gretchen Fiske',\n",
              "  'Bostandyeff Mr Guentcho',\n",
              "  'OConnell Mr Patrick D',\n",
              "  'Barkworth Mr Algernon Henry Wilson',\n",
              "  'Lundahl Mr Johan Svensson',\n",
              "  'StahelinMaeglin Dr Max',\n",
              "  'Parr Mr William Henry Marsh',\n",
              "  'Skoog Miss Mabel',\n",
              "  'Davis Miss Mary',\n",
              "  'Leinonen Mr Antti Gustaf',\n",
              "  'Collyer Mr Harvey',\n",
              "  'Panula Mrs Juha Maria Emilia Ojala',\n",
              "  'Thorneycroft Mr Percival',\n",
              "  'Jensen Mr Hans Peder',\n",
              "  'Sagesser Mlle Emma',\n",
              "  'Skoog Miss Margit Elizabeth',\n",
              "  'Foo Mr Choong',\n",
              "  'Baclini Miss Eugenie',\n",
              "  'Harper Mr Henry Sleeper',\n",
              "  'Cor Mr Liudevit',\n",
              "  'SimoniusBlumer Col Oberst Alfons',\n",
              "  'Willey Mr Edward',\n",
              "  'Stanley Miss Amy Zillah Elsie',\n",
              "  'Mitkoff Mr Mito',\n",
              "  'Doling Miss Elsie',\n",
              "  'Kalvik Mr Johannes Halvorsen',\n",
              "  'OLeary Miss Hanora Norah',\n",
              "  'Hegarty Miss Hanora Nora',\n",
              "  'Hickman Mr Leonard Mark',\n",
              "  'Radeff Mr Alexander',\n",
              "  'Bourke Mrs John Catherine',\n",
              "  'Eitemiller Mr George Floyd',\n",
              "  'Newell Mr Arthur Webster',\n",
              "  'Frauenthal Dr Henry William',\n",
              "  'Badt Mr Mohamed',\n",
              "  'Colley Mr Edward Pomeroy',\n",
              "  'Coleff Mr Peju',\n",
              "  'Lindqvist Mr Eino William',\n",
              "  'Hickman Mr Lewis',\n",
              "  'Butler Mr Reginald Fenton',\n",
              "  'Rommetvedt Mr Knud Paust',\n",
              "  'Cook Mr Jacob',\n",
              "  'Taylor Mrs Elmer Zebley Juliet Cummins Wright',\n",
              "  'Brown Mrs Thomas William Solomon Elizabeth Catherine Ford',\n",
              "  'Davidson Mr Thornton',\n",
              "  'Mitchell Mr Henry Michael',\n",
              "  'Wilhelms Mr Charles',\n",
              "  'Watson Mr Ennis Hastings',\n",
              "  'Edvardsson Mr Gustaf Hjalmar',\n",
              "  'Sawyer Mr Frederick Charles',\n",
              "  'Turja Miss Anna Sofia',\n",
              "  'Goodwin Mrs Frederick Augusta Tyler',\n",
              "  'Cardeza Mr Thomas Drake Martinez',\n",
              "  'Peters Miss Katie',\n",
              "  'Hassab Mr Hammad',\n",
              "  'Olsvigen Mr Thor Anderson',\n",
              "  'Goodwin Mr Charles Edward',\n",
              "  'Brown Mr Thomas William Solomon',\n",
              "  'Laroche Mr Joseph Philippe Lemercier',\n",
              "  'Panula Mr Jaako Arnold',\n",
              "  'Dakic Mr Branko',\n",
              "  'Fischer Mr Eberhard Thelander',\n",
              "  'Madill Miss Georgette Alexandra',\n",
              "  'Dick Mr Albert Adrian',\n",
              "  'Karun Miss Manca',\n",
              "  'Lam Mr Ali',\n",
              "  'Saad Mr Khalil',\n",
              "  'Weir Col John',\n",
              "  'Chapman Mr Charles Henry',\n",
              "  'Kelly Mr James',\n",
              "  'Mullens Miss Katherine Katie',\n",
              "  'Thayer Mr John Borland',\n",
              "  'Humblen Mr Adolf Mathias Nicolai Olsen',\n",
              "  'Astor Mrs John Jacob Madeleine Talmadge Force',\n",
              "  'Silverthorne Mr Spencer Victor',\n",
              "  'Barbara Miss Saiide',\n",
              "  'Gallagher Mr Martin',\n",
              "  'Hansen Mr Henrik Juul',\n",
              "  'Morley Mr Henry Samuel Mr Henry Marshall',\n",
              "  'Kelly Mrs Florence Fannie',\n",
              "  'Calderhead Mr Edward Pennington',\n",
              "  'Cleaver Miss Alice',\n",
              "  'Moubarek Master Halim Gonios William George',\n",
              "  'Mayne Mlle Berthe Antonine Mrs de Villiers',\n",
              "  'Klaber Mr Herman',\n",
              "  'Taylor Mr Elmer Zebley',\n",
              "  'Larsson Mr August Viktor',\n",
              "  'Greenberg Mr Samuel',\n",
              "  'Soholt Mr Peter Andreas Lauritz Andersen',\n",
              "  'Endres Miss Caroline Louise',\n",
              "  'Troutt Miss Edwina Celia Winnie',\n",
              "  'McEvoy Mr Michael',\n",
              "  'Johnson Mr Malkolm Joackim',\n",
              "  'Harper Miss Annie Jessie Nina',\n",
              "  'Jensen Mr Svend Lauritz',\n",
              "  'Gillespie Mr William Henry',\n",
              "  'Hodges Mr Henry Price',\n",
              "  'Chambers Mr Norman Campbell',\n",
              "  'Oreskovic Mr Luka',\n",
              "  'Renouf Mrs Peter Henry Lillian Jefferys',\n",
              "  'Mannion Miss Margareth',\n",
              "  'Bryhl Mr Kurt Arnold Gottfrid',\n",
              "  'Ilmakangas Miss Pieta Sofia',\n",
              "  'Allen Miss Elisabeth Walton',\n",
              "  'Hassan Mr Houssein G N',\n",
              "  'Knight Mr Robert J',\n",
              "  'Berriman Mr William John',\n",
              "  'Troupiansky Mr Moses Aaron',\n",
              "  'Williams Mr Leslie',\n",
              "  'Ford Mrs Edward Margaret Ann Watson',\n",
              "  'Lesurer Mr Gustave J',\n",
              "  'Ivanoff Mr Kanio',\n",
              "  'Nankoff Mr Minko',\n",
              "  'Hawksford Mr Walter James',\n",
              "  'Cavendish Mr Tyrell William',\n",
              "  'Ryerson Miss Susan Parker Suzette',\n",
              "  'McNamee Mr Neal',\n",
              "  'Stranden Mr Juho',\n",
              "  'Crosby Capt Edward Gifford',\n",
              "  'Abbott Mr Rossmore Edward',\n",
              "  'Sinkkonen Miss Anna',\n",
              "  'Marvin Mr Daniel Warner',\n",
              "  'Connaghton Mr Michael',\n",
              "  'Wells Miss Joan',\n",
              "  'Moor Master Meier',\n",
              "  'Vande Velde Mr Johannes Joseph',\n",
              "  'Jonkoff Mr Lalio',\n",
              "  'Herman Mrs Samuel Jane Laver',\n",
              "  'Hamalainen Master Viljo',\n",
              "  'Carlsson Mr August Sigfrid',\n",
              "  'Bailey Mr Percy Andrew',\n",
              "  'Theobald Mr Thomas Leonard',\n",
              "  'Rothes the Countess of Lucy Noel Martha DyerEdwards',\n",
              "  'Garfirth Mr John',\n",
              "  'Nirva Mr Iisakki Antino Aijo',\n",
              "  'Barah Mr Hanna Assi',\n",
              "  'Carter Mrs William Ernest Lucile Polk',\n",
              "  'Eklund Mr Hans Linus',\n",
              "  'Hogeboom Mrs John C Anna Andrews',\n",
              "  'Brewe Dr Arthur Jackson',\n",
              "  'Mangan Miss Mary',\n",
              "  'Moran Mr Daniel J',\n",
              "  'Gronnestad Mr Daniel Danielsen',\n",
              "  'Lievens Mr Rene Aime',\n",
              "  'Jensen Mr Niels Peder',\n",
              "  'Mack Mrs Mary',\n",
              "  'Elias Mr Dibo',\n",
              "  'Hocking Mrs Elizabeth Eliza Needs',\n",
              "  'Myhrman Mr Pehr Fabian Oliver Malkolm',\n",
              "  'Tobin Mr Roger',\n",
              "  'Emanuel Miss Virginia Ethel',\n",
              "  'Kilgannon Mr Thomas J',\n",
              "  'Robert Mrs Edward Scott Elisabeth Walton McMillan',\n",
              "  'Ayoub Miss Banoura',\n",
              "  'Dick Mrs Albert Adrian Vera Gillespie',\n",
              "  'Long Mr Milton Clyde',\n",
              "  'Johnston Mr Andrew G',\n",
              "  'Ali Mr William',\n",
              "  'Harmer Mr Abraham David Lishin',\n",
              "  'Sjoblom Miss Anna Sofia',\n",
              "  'Rice Master George Hugh',\n",
              "  'Dean Master Bertram Vere',\n",
              "  'Guggenheim Mr Benjamin',\n",
              "  'Keane Mr Andrew Andy',\n",
              "  'Gaskell Mr Alfred',\n",
              "  'Sage Miss Stella Anna',\n",
              "  'Hoyt Mr William Fisher',\n",
              "  'Dantcheff Mr Ristiu',\n",
              "  'Otter Mr Richard',\n",
              "  'Leader Dr Alice Farnham',\n",
              "  'Osman Mrs Mara',\n",
              "  'Ibrahim Shawah Mr Yousseff',\n",
              "  'Van Impe Mrs Jean Baptiste Rosalie Paula Govaert',\n",
              "  'Ponesell Mr Martin',\n",
              "  'Collyer Mrs Harvey Charlotte Annie Tate',\n",
              "  'Carter Master William Thornton II',\n",
              "  'Thomas Master Assad Alexander',\n",
              "  'Hedman Mr Oskar Arvid',\n",
              "  'Johansson Mr Karl Johan',\n",
              "  'Andrews Mr Thomas Jr',\n",
              "  'Pettersson Miss Ellen Natalia',\n",
              "  'Meyer Mr August',\n",
              "  'Chambers Mrs Norman Campbell Bertha Griggs',\n",
              "  'Alexander Mr William',\n",
              "  'Lester Mr James',\n",
              "  'Slemen Mr Richard James',\n",
              "  'Andersson Miss Ebba Iris Alfrida',\n",
              "  'Tomlin Mr Ernest Portage',\n",
              "  'Fry Mr Richard',\n",
              "  'Heininen Miss Wendla Maria',\n",
              "  'Mallet Mr Albert',\n",
              "  'Holm Mr John Fredrik Alexander',\n",
              "  'Skoog Master Karl Thorsten',\n",
              "  'Hays Mrs Charles Melville Clara Jennings Gregg',\n",
              "  'Lulic Mr Nikola',\n",
              "  'Reuchlin Jonkheer John George',\n",
              "  'Moor Mrs Beila',\n",
              "  'Panula Master Urho Abraham',\n",
              "  'Flynn Mr John',\n",
              "  'Lam Mr Len',\n",
              "  'Mallet Master Andre',\n",
              "  'McCormack Mr Thomas Joseph',\n",
              "  'Stone Mrs George Nelson Martha Evelyn',\n",
              "  'Yasbeck Mrs Antoni Selini Alexander',\n",
              "  'Richards Master George Sibley',\n",
              "  'Saad Mr Amin',\n",
              "  'Augustsson Mr Albert',\n",
              "  'Allum Mr Owen George',\n",
              "  'Compton Miss Sara Rebecca',\n",
              "  'Pasic Mr Jakob',\n",
              "  'Sirota Mr Maurice',\n",
              "  'Chip Mr Chang',\n",
              "  'Marechal Mr Pierre',\n",
              "  'Alhomaki Mr Ilmari Rudolf',\n",
              "  'Mudd Mr Thomas Charles',\n",
              "  'Serepeca Miss Augusta',\n",
              "  'Lemberopolous Mr Peter L',\n",
              "  'Culumovic Mr Jeso',\n",
              "  'Abbing Mr Anthony',\n",
              "  'Sage Mr Douglas Bullen',\n",
              "  'Markoff Mr Marin',\n",
              "  'Harper Rev John',\n",
              "  'Goldenberg Mrs Samuel L Edwiga Grabowska',\n",
              "  'Andersson Master Sigvard Harald Elias',\n",
              "  'Svensson Mr Johan',\n",
              "  'Boulos Miss Nourelain',\n",
              "  'Lines Miss Mary Conover',\n",
              "  'Carter Mrs Ernest Courtenay Lilian Hughes',\n",
              "  'Aks Mrs Sam Leah Rosen',\n",
              "  'Wick Mrs George Dennick Mary Hitchcock',\n",
              "  'Daly Mr Peter Denis',\n",
              "  'Baclini Mrs Solomon Latifa Qurban',\n",
              "  'Razi Mr Raihed',\n",
              "  'Hansen Mr Claus Peter',\n",
              "  'Giles Mr Frederick Edward',\n",
              "  'Swift Mrs Frederick Joel Margaret Welles Barron',\n",
              "  'Sage Miss Dorothy Edith Dolly',\n",
              "  'Gill Mr John William',\n",
              "  'Bystrom Mrs Karolina',\n",
              "  'Duran y More Miss Asuncion',\n",
              "  'Roebling Mr Washington Augustus II',\n",
              "  'van Melkebeke Mr Philemon',\n",
              "  'Johnson Master Harold Theodor',\n",
              "  'Balkic Mr Cerin',\n",
              "  'Beckwith Mrs Richard Leonard Sallie Monypeny',\n",
              "  'Carlsson Mr Frans Olof',\n",
              "  'Vander Cruyssen Mr Victor',\n",
              "  'Abelson Mrs Samuel Hannah Wizosky',\n",
              "  'Najib Miss Adele Kiamie Jane',\n",
              "  'Gustafsson Mr Alfred Ossian',\n",
              "  'Petroff Mr Nedelio',\n",
              "  'Laleff Mr Kristo',\n",
              "  'Potter Mrs Thomas Jr Lily Alexenia Wilson',\n",
              "  'Shelley Mrs William Imanita Parrish Hall',\n",
              "  'Markun Mr Johann',\n",
              "  'Dahlberg Miss Gerda Ulrika',\n",
              "  'Banfield Mr Frederick James',\n",
              "  'Sutehall Mr Henry Jr',\n",
              "  'Rice Mrs William Margaret Norton',\n",
              "  'Montvila Rev Juozas',\n",
              "  'Graham Miss Margaret Edith',\n",
              "  'Johnston Miss Catherine Helen Carrie',\n",
              "  'Behr Mr Karl Howell',\n",
              "  'Dooley Mr Patrick'])"
            ]
          },
          "metadata": {},
          "execution_count": 72
        }
      ],
      "source": [
        "seperate_name(train.Name)"
      ]
    },
    {
      "cell_type": "markdown",
      "metadata": {
        "id": "k2O88Al9p-Fc"
      },
      "source": [
        "**Adding them as features in the dataset**"
      ]
    },
    {
      "cell_type": "code",
      "execution_count": 73,
      "metadata": {
        "colab": {
          "base_uri": "https://localhost:8080/",
          "height": 0
        },
        "id": "vsj3WXtep-Fd",
        "outputId": "e55d672c-a9b7-4ce6-9cce-d242dcc02302"
      },
      "outputs": [
        {
          "output_type": "execute_result",
          "data": {
            "text/plain": [
              "   Survived  Pclass                                               Name  \\\n",
              "0         0       3                            Braund, Mr. Owen Harris   \n",
              "1         1       1  Cumings, Mrs. John Bradley (Florence Briggs Th...   \n",
              "2         1       3                             Heikkinen, Miss. Laina   \n",
              "3         1       1       Futrelle, Mrs. Jacques Heath (Lily May Peel)   \n",
              "4         0       3                           Allen, Mr. William Henry   \n",
              "\n",
              "      Sex   Age  SibSp  Parch     Fare Cabin Embarked    Surname Title  \\\n",
              "0    male  22.0      1      0   7.2500   NaN        S     Braund    Mr   \n",
              "1  female  38.0      1      0  71.2833   C85        C    Cumings   Mrs   \n",
              "2  female  26.0      0      0   7.9250   NaN        S  Heikkinen  Miss   \n",
              "3  female  35.0      1      0  53.1000  C123        S   Futrelle   Mrs   \n",
              "4    male  35.0      0      0   8.0500   NaN        S      Allen    Mr   \n",
              "\n",
              "                                           Newname  \n",
              "0                            Braund Mr Owen Harris  \n",
              "1  Cumings Mrs John Bradley Florence Briggs Thayer  \n",
              "2                             Heikkinen Miss Laina  \n",
              "3         Futrelle Mrs Jacques Heath Lily May Peel  \n",
              "4                           Allen Mr William Henry  "
            ],
            "text/html": [
              "\n",
              "  <div id=\"df-e84c7ce6-4cc0-4dda-b49e-4a478dd6f1dd\">\n",
              "    <div class=\"colab-df-container\">\n",
              "      <div>\n",
              "<style scoped>\n",
              "    .dataframe tbody tr th:only-of-type {\n",
              "        vertical-align: middle;\n",
              "    }\n",
              "\n",
              "    .dataframe tbody tr th {\n",
              "        vertical-align: top;\n",
              "    }\n",
              "\n",
              "    .dataframe thead th {\n",
              "        text-align: right;\n",
              "    }\n",
              "</style>\n",
              "<table border=\"1\" class=\"dataframe\">\n",
              "  <thead>\n",
              "    <tr style=\"text-align: right;\">\n",
              "      <th></th>\n",
              "      <th>Survived</th>\n",
              "      <th>Pclass</th>\n",
              "      <th>Name</th>\n",
              "      <th>Sex</th>\n",
              "      <th>Age</th>\n",
              "      <th>SibSp</th>\n",
              "      <th>Parch</th>\n",
              "      <th>Fare</th>\n",
              "      <th>Cabin</th>\n",
              "      <th>Embarked</th>\n",
              "      <th>Surname</th>\n",
              "      <th>Title</th>\n",
              "      <th>Newname</th>\n",
              "    </tr>\n",
              "  </thead>\n",
              "  <tbody>\n",
              "    <tr>\n",
              "      <th>0</th>\n",
              "      <td>0</td>\n",
              "      <td>3</td>\n",
              "      <td>Braund, Mr. Owen Harris</td>\n",
              "      <td>male</td>\n",
              "      <td>22.0</td>\n",
              "      <td>1</td>\n",
              "      <td>0</td>\n",
              "      <td>7.2500</td>\n",
              "      <td>NaN</td>\n",
              "      <td>S</td>\n",
              "      <td>Braund</td>\n",
              "      <td>Mr</td>\n",
              "      <td>Braund Mr Owen Harris</td>\n",
              "    </tr>\n",
              "    <tr>\n",
              "      <th>1</th>\n",
              "      <td>1</td>\n",
              "      <td>1</td>\n",
              "      <td>Cumings, Mrs. John Bradley (Florence Briggs Th...</td>\n",
              "      <td>female</td>\n",
              "      <td>38.0</td>\n",
              "      <td>1</td>\n",
              "      <td>0</td>\n",
              "      <td>71.2833</td>\n",
              "      <td>C85</td>\n",
              "      <td>C</td>\n",
              "      <td>Cumings</td>\n",
              "      <td>Mrs</td>\n",
              "      <td>Cumings Mrs John Bradley Florence Briggs Thayer</td>\n",
              "    </tr>\n",
              "    <tr>\n",
              "      <th>2</th>\n",
              "      <td>1</td>\n",
              "      <td>3</td>\n",
              "      <td>Heikkinen, Miss. Laina</td>\n",
              "      <td>female</td>\n",
              "      <td>26.0</td>\n",
              "      <td>0</td>\n",
              "      <td>0</td>\n",
              "      <td>7.9250</td>\n",
              "      <td>NaN</td>\n",
              "      <td>S</td>\n",
              "      <td>Heikkinen</td>\n",
              "      <td>Miss</td>\n",
              "      <td>Heikkinen Miss Laina</td>\n",
              "    </tr>\n",
              "    <tr>\n",
              "      <th>3</th>\n",
              "      <td>1</td>\n",
              "      <td>1</td>\n",
              "      <td>Futrelle, Mrs. Jacques Heath (Lily May Peel)</td>\n",
              "      <td>female</td>\n",
              "      <td>35.0</td>\n",
              "      <td>1</td>\n",
              "      <td>0</td>\n",
              "      <td>53.1000</td>\n",
              "      <td>C123</td>\n",
              "      <td>S</td>\n",
              "      <td>Futrelle</td>\n",
              "      <td>Mrs</td>\n",
              "      <td>Futrelle Mrs Jacques Heath Lily May Peel</td>\n",
              "    </tr>\n",
              "    <tr>\n",
              "      <th>4</th>\n",
              "      <td>0</td>\n",
              "      <td>3</td>\n",
              "      <td>Allen, Mr. William Henry</td>\n",
              "      <td>male</td>\n",
              "      <td>35.0</td>\n",
              "      <td>0</td>\n",
              "      <td>0</td>\n",
              "      <td>8.0500</td>\n",
              "      <td>NaN</td>\n",
              "      <td>S</td>\n",
              "      <td>Allen</td>\n",
              "      <td>Mr</td>\n",
              "      <td>Allen Mr William Henry</td>\n",
              "    </tr>\n",
              "  </tbody>\n",
              "</table>\n",
              "</div>\n",
              "      <button class=\"colab-df-convert\" onclick=\"convertToInteractive('df-e84c7ce6-4cc0-4dda-b49e-4a478dd6f1dd')\"\n",
              "              title=\"Convert this dataframe to an interactive table.\"\n",
              "              style=\"display:none;\">\n",
              "        \n",
              "  <svg xmlns=\"http://www.w3.org/2000/svg\" height=\"24px\"viewBox=\"0 0 24 24\"\n",
              "       width=\"24px\">\n",
              "    <path d=\"M0 0h24v24H0V0z\" fill=\"none\"/>\n",
              "    <path d=\"M18.56 5.44l.94 2.06.94-2.06 2.06-.94-2.06-.94-.94-2.06-.94 2.06-2.06.94zm-11 1L8.5 8.5l.94-2.06 2.06-.94-2.06-.94L8.5 2.5l-.94 2.06-2.06.94zm10 10l.94 2.06.94-2.06 2.06-.94-2.06-.94-.94-2.06-.94 2.06-2.06.94z\"/><path d=\"M17.41 7.96l-1.37-1.37c-.4-.4-.92-.59-1.43-.59-.52 0-1.04.2-1.43.59L10.3 9.45l-7.72 7.72c-.78.78-.78 2.05 0 2.83L4 21.41c.39.39.9.59 1.41.59.51 0 1.02-.2 1.41-.59l7.78-7.78 2.81-2.81c.8-.78.8-2.07 0-2.86zM5.41 20L4 18.59l7.72-7.72 1.47 1.35L5.41 20z\"/>\n",
              "  </svg>\n",
              "      </button>\n",
              "      \n",
              "  <style>\n",
              "    .colab-df-container {\n",
              "      display:flex;\n",
              "      flex-wrap:wrap;\n",
              "      gap: 12px;\n",
              "    }\n",
              "\n",
              "    .colab-df-convert {\n",
              "      background-color: #E8F0FE;\n",
              "      border: none;\n",
              "      border-radius: 50%;\n",
              "      cursor: pointer;\n",
              "      display: none;\n",
              "      fill: #1967D2;\n",
              "      height: 32px;\n",
              "      padding: 0 0 0 0;\n",
              "      width: 32px;\n",
              "    }\n",
              "\n",
              "    .colab-df-convert:hover {\n",
              "      background-color: #E2EBFA;\n",
              "      box-shadow: 0px 1px 2px rgba(60, 64, 67, 0.3), 0px 1px 3px 1px rgba(60, 64, 67, 0.15);\n",
              "      fill: #174EA6;\n",
              "    }\n",
              "\n",
              "    [theme=dark] .colab-df-convert {\n",
              "      background-color: #3B4455;\n",
              "      fill: #D2E3FC;\n",
              "    }\n",
              "\n",
              "    [theme=dark] .colab-df-convert:hover {\n",
              "      background-color: #434B5C;\n",
              "      box-shadow: 0px 1px 3px 1px rgba(0, 0, 0, 0.15);\n",
              "      filter: drop-shadow(0px 1px 2px rgba(0, 0, 0, 0.3));\n",
              "      fill: #FFFFFF;\n",
              "    }\n",
              "  </style>\n",
              "\n",
              "      <script>\n",
              "        const buttonEl =\n",
              "          document.querySelector('#df-e84c7ce6-4cc0-4dda-b49e-4a478dd6f1dd button.colab-df-convert');\n",
              "        buttonEl.style.display =\n",
              "          google.colab.kernel.accessAllowed ? 'block' : 'none';\n",
              "\n",
              "        async function convertToInteractive(key) {\n",
              "          const element = document.querySelector('#df-e84c7ce6-4cc0-4dda-b49e-4a478dd6f1dd');\n",
              "          const dataTable =\n",
              "            await google.colab.kernel.invokeFunction('convertToInteractive',\n",
              "                                                     [key], {});\n",
              "          if (!dataTable) return;\n",
              "\n",
              "          const docLinkHtml = 'Like what you see? Visit the ' +\n",
              "            '<a target=\"_blank\" href=https://colab.research.google.com/notebooks/data_table.ipynb>data table notebook</a>'\n",
              "            + ' to learn more about interactive tables.';\n",
              "          element.innerHTML = '';\n",
              "          dataTable['output_type'] = 'display_data';\n",
              "          await google.colab.output.renderOutput(dataTable, element);\n",
              "          const docLink = document.createElement('div');\n",
              "          docLink.innerHTML = docLinkHtml;\n",
              "          element.appendChild(docLink);\n",
              "        }\n",
              "      </script>\n",
              "    </div>\n",
              "  </div>\n",
              "  "
            ]
          },
          "metadata": {},
          "execution_count": 73
        }
      ],
      "source": [
        "train[\"Surname\"], train[\"Title\"], train[\"Newname\"] = seperate_name(train.Name)\n",
        "test[\"Surname\"], test[\"Title\"], test[\"Newname\"] = seperate_name(test.Name)\n",
        "\n",
        "train.head()"
      ]
    },
    {
      "cell_type": "code",
      "execution_count": 74,
      "metadata": {
        "colab": {
          "base_uri": "https://localhost:8080/"
        },
        "id": "4BqZUPRdp-Fd",
        "outputId": "3a396d2b-9fa3-4be6-b75c-70d6f30a7cef"
      },
      "outputs": [
        {
          "output_type": "execute_result",
          "data": {
            "text/plain": [
              "Mr          517\n",
              "Miss        182\n",
              "Mrs         125\n",
              "Master       40\n",
              "Dr            7\n",
              "Rev           6\n",
              "Mlle          2\n",
              "Major         2\n",
              "Col           2\n",
              "the           1\n",
              "Capt          1\n",
              "Ms            1\n",
              "Sir           1\n",
              "Lady          1\n",
              "Mme           1\n",
              "Don           1\n",
              "Jonkheer      1\n",
              "Name: Title, dtype: int64"
            ]
          },
          "metadata": {},
          "execution_count": 74
        }
      ],
      "source": [
        "train.Title.value_counts()"
      ]
    },
    {
      "cell_type": "markdown",
      "metadata": {
        "id": "RBQhaI-wp-Fd"
      },
      "source": [
        "**Generalizing the titles**"
      ]
    },
    {
      "cell_type": "code",
      "execution_count": 75,
      "metadata": {
        "colab": {
          "base_uri": "https://localhost:8080/"
        },
        "id": "mXqvv6aFp-Fd",
        "outputId": "62fde88c-7485-420a-aa5d-848ee01286f6"
      },
      "outputs": [
        {
          "output_type": "execute_result",
          "data": {
            "text/plain": [
              "Mr        517\n",
              "Miss      185\n",
              "Mrs       126\n",
              "Master     40\n",
              "Noble      18\n",
              "Navy        5\n",
              "Name: Title, dtype: int64"
            ]
          },
          "metadata": {},
          "execution_count": 75
        }
      ],
      "source": [
        "train['Title'] = train['Title'].replace(['Ms', 'Mlle'], 'Miss')\n",
        "train['Title'] = train['Title'].replace(['Mme'], 'Mrs')\n",
        "train['Title'] = train['Title'].replace([\"Dr\", 'Rev', 'the', 'Jonkheer', 'Lady', 'Sir', 'Don'], \"Noble\")\n",
        "train['Title'] = train['Title'].replace([\"Major\", \"Col\", \"Capt\"], \"Navy\")\n",
        "\n",
        "train['Title'].value_counts()"
      ]
    },
    {
      "cell_type": "code",
      "execution_count": 76,
      "metadata": {
        "colab": {
          "base_uri": "https://localhost:8080/",
          "height": 0
        },
        "id": "zsGomNGVp-Fe",
        "outputId": "956a4984-fdbf-44ec-fe37-92abc6f18704"
      },
      "outputs": [
        {
          "output_type": "execute_result",
          "data": {
            "text/plain": [
              "<matplotlib.axes._subplots.AxesSubplot at 0x7f7fd050c550>"
            ]
          },
          "metadata": {},
          "execution_count": 76
        },
        {
          "output_type": "display_data",
          "data": {
            "text/plain": [
              "<Figure size 432x288 with 1 Axes>"
            ],
            "image/png": "[encoded data removed]"
          },
          "metadata": {
            "needs_background": "light"
          }
        }
      ],
      "source": [
        "sns.barplot(x='Title', y=\"Survived\", data = train)"
      ]
    },
    {
      "cell_type": "markdown",
      "metadata": {
        "id": "H4qKi7F7p-Fe"
      },
      "source": [
        "Seems there are more males in the noble class for it to have such a low survival rate. <br>\n",
        "This would support what we learnt from earlier analysis concerning the survival rate of males in general"
      ]
    },
    {
      "cell_type": "code",
      "execution_count": 77,
      "metadata": {
        "colab": {
          "base_uri": "https://localhost:8080/"
        },
        "id": "wyl6A_1Hp-Fe",
        "outputId": "50bac0da-72c5-4abb-a4ec-66ee320d2a26"
      },
      "outputs": [
        {
          "output_type": "execute_result",
          "data": {
            "text/plain": [
              "Sex     Survived\n",
              "female  1            3\n",
              "male    0           12\n",
              "        1            3\n",
              "Name: Survived, dtype: int64"
            ]
          },
          "metadata": {},
          "execution_count": 77
        }
      ],
      "source": [
        "nobles_survived = train[train[\"Title\"] == \"Noble\"].groupby(['Sex'])[\"Survived\"].value_counts()\n",
        "nobles_survived"
      ]
    },
    {
      "cell_type": "markdown",
      "metadata": {
        "id": "_FlxugwCp-Fe"
      },
      "source": [
        "All female nobles (Just three of them) survived, while of the 15 male nobles just 12 survived\n"
      ]
    },
    {
      "cell_type": "markdown",
      "metadata": {
        "id": "L9_Hso2Kp-Fe"
      },
      "source": [
        "**Repeating for test data**"
      ]
    },
    {
      "cell_type": "code",
      "execution_count": 78,
      "metadata": {
        "colab": {
          "base_uri": "https://localhost:8080/"
        },
        "id": "uP9zseH3p-Ff",
        "outputId": "c7bf8224-3471-4c60-e6b6-85ab9d20c004"
      },
      "outputs": [
        {
          "output_type": "execute_result",
          "data": {
            "text/plain": [
              "Mr        240\n",
              "Miss       78\n",
              "Mrs        72\n",
              "Master     21\n",
              "Col         2\n",
              "Rev         2\n",
              "Ms          1\n",
              "Dr          1\n",
              "Dona        1\n",
              "Name: Title, dtype: int64"
            ]
          },
          "metadata": {},
          "execution_count": 78
        }
      ],
      "source": [
        "test[\"Title\"].value_counts()"
      ]
    },
    {
      "cell_type": "code",
      "execution_count": 79,
      "metadata": {
        "id": "mTcWZ4T6p-Ff"
      },
      "outputs": [],
      "source": [
        "test['Title'] = test['Title'].replace([\"Ms\", 'Dona'], 'Miss')\n",
        "test['Title'] = test['Title'].replace([\"Dr\", 'Rev'], \"Noble\")\n",
        "test['Title'] = test['Title'].replace(['Col'], 'Navy')"
      ]
    },
    {
      "cell_type": "code",
      "execution_count": 80,
      "metadata": {
        "colab": {
          "base_uri": "https://localhost:8080/"
        },
        "id": "pXS95NBWp-Ff",
        "outputId": "b331d613-96af-4e04-b285-3cc4184d9355"
      },
      "outputs": [
        {
          "output_type": "execute_result",
          "data": {
            "text/plain": [
              "Mr        240\n",
              "Miss       80\n",
              "Mrs        72\n",
              "Master     21\n",
              "Noble       3\n",
              "Navy        2\n",
              "Name: Title, dtype: int64"
            ]
          },
          "metadata": {},
          "execution_count": 80
        }
      ],
      "source": [
        "test['Title'].value_counts()"
      ]
    },
    {
      "cell_type": "markdown",
      "metadata": {
        "id": "Z9VHWIp4p-Fg"
      },
      "source": [
        "#### **Cabin**"
      ]
    },
    {
      "cell_type": "code",
      "execution_count": 81,
      "metadata": {
        "colab": {
          "base_uri": "https://localhost:8080/"
        },
        "id": "ehlHHBmQp-Fg",
        "outputId": "49908e30-b03c-49ce-d902-95ae60a52228"
      },
      "outputs": [
        {
          "output_type": "execute_result",
          "data": {
            "text/plain": [
              "687"
            ]
          },
          "metadata": {},
          "execution_count": 81
        }
      ],
      "source": [
        "train[\"Cabin\"].isnull().sum()"
      ]
    },
    {
      "cell_type": "code",
      "execution_count": 82,
      "metadata": {
        "colab": {
          "base_uri": "https://localhost:8080/"
        },
        "id": "FkEMpdUXp-Fg",
        "outputId": "534bc27a-19b1-4473-850b-3a583525e843"
      },
      "outputs": [
        {
          "output_type": "execute_result",
          "data": {
            "text/plain": [
              "327"
            ]
          },
          "metadata": {},
          "execution_count": 82
        }
      ],
      "source": [
        "test[\"Cabin\"].isnull().sum()"
      ]
    },
    {
      "cell_type": "markdown",
      "metadata": {
        "id": "UgG5dcVKp-Fh"
      },
      "source": [
        "Too many missing values"
      ]
    },
    {
      "cell_type": "code",
      "execution_count": 83,
      "metadata": {
        "colab": {
          "base_uri": "https://localhost:8080/"
        },
        "id": "WU9BmcgGp-Fh",
        "outputId": "66e2812e-2b59-4698-cbbf-c90affdb3676"
      },
      "outputs": [
        {
          "output_type": "execute_result",
          "data": {
            "text/plain": [
              "B96 B98        4\n",
              "G6             4\n",
              "C23 C25 C27    4\n",
              "C22 C26        3\n",
              "F33            3\n",
              "              ..\n",
              "E34            1\n",
              "C7             1\n",
              "C54            1\n",
              "E36            1\n",
              "C148           1\n",
              "Name: Cabin, Length: 147, dtype: int64"
            ]
          },
          "metadata": {},
          "execution_count": 83
        }
      ],
      "source": [
        "train['Cabin'].value_counts()"
      ]
    },
    {
      "cell_type": "markdown",
      "metadata": {
        "id": "aeQNaosTp-Fh"
      },
      "source": [
        "categorising the cabin types"
      ]
    },
    {
      "cell_type": "code",
      "execution_count": 84,
      "metadata": {
        "id": "I138wQmHp-Fi"
      },
      "outputs": [],
      "source": [
        "def cabin_sep(data):\n",
        "    \"\"\"Function to seperate the cabins into their various types\"\"\"\n",
        "    cabin_type = []\n",
        "\n",
        "    for i in range(len(data)):\n",
        "\n",
        "        if data.isnull()[i] == True:\n",
        "            cabin_type.append(\"M\")\n",
        "        else:\n",
        "            cabin = data[i]\n",
        "            cabin_type.append(cabin[:1])\n",
        "\n",
        "    return cabin_type"
      ]
    },
    {
      "cell_type": "code",
      "execution_count": 85,
      "metadata": {
        "colab": {
          "base_uri": "https://localhost:8080/"
        },
        "id": "gJijZ1tCp-Fj",
        "outputId": "c90c3bdb-7fe1-4a0e-956c-e50110542a5e"
      },
      "outputs": [
        {
          "output_type": "execute_result",
          "data": {
            "text/plain": [
              "0      M\n",
              "1      C\n",
              "2      M\n",
              "3      C\n",
              "4      M\n",
              "      ..\n",
              "886    M\n",
              "887    B\n",
              "888    M\n",
              "889    C\n",
              "890    M\n",
              "Name: Cabin, Length: 891, dtype: object"
            ]
          },
          "metadata": {},
          "execution_count": 85
        }
      ],
      "source": [
        "\n",
        "train['Cabin'] = train['Cabin'].fillna('M').astype(str).apply(lambda cabin: cabin[0])\n",
        "train.Cabin\n"
      ]
    },
    {
      "cell_type": "code",
      "execution_count": 86,
      "metadata": {
        "colab": {
          "base_uri": "https://localhost:8080/"
        },
        "id": "JHFyVkjrp-Fj",
        "outputId": "4f988066-eea5-4ed1-894d-52e4784be2dd"
      },
      "outputs": [
        {
          "output_type": "execute_result",
          "data": {
            "text/plain": [
              "M    687\n",
              "C     59\n",
              "B     47\n",
              "D     33\n",
              "E     32\n",
              "A     15\n",
              "F     13\n",
              "G      4\n",
              "T      1\n",
              "Name: Cabin, dtype: int64"
            ]
          },
          "metadata": {},
          "execution_count": 86
        }
      ],
      "source": [
        "train.Cabin.value_counts()"
      ]
    },
    {
      "cell_type": "code",
      "execution_count": 87,
      "metadata": {
        "colab": {
          "base_uri": "https://localhost:8080/"
        },
        "id": "OuNjDvJsp-Fk",
        "outputId": "c447f890-5463-47bd-8341-336bc82c03cf"
      },
      "outputs": [
        {
          "output_type": "execute_result",
          "data": {
            "text/plain": [
              "M    687\n",
              "C     59\n",
              "B     47\n",
              "D     33\n",
              "E     32\n",
              "A     16\n",
              "F     13\n",
              "G      4\n",
              "Name: Cabin, dtype: int64"
            ]
          },
          "metadata": {},
          "execution_count": 87
        }
      ],
      "source": [
        "idx = train[train.Cabin == 'T'].index\n",
        "train.loc[idx, 'Cabin'] = 'A'\n",
        "train.Cabin.value_counts()\n",
        "\n"
      ]
    },
    {
      "cell_type": "code",
      "execution_count": 88,
      "metadata": {
        "colab": {
          "base_uri": "https://localhost:8080/"
        },
        "id": "mO9OOUFop-Fk",
        "outputId": "626ebf99-539b-4272-b96d-c16cbe07d067"
      },
      "outputs": [
        {
          "output_type": "execute_result",
          "data": {
            "text/plain": [
              "M    327\n",
              "C     35\n",
              "B     18\n",
              "D     13\n",
              "E      9\n",
              "F      8\n",
              "A      7\n",
              "G      1\n",
              "Name: Cabin, dtype: int64"
            ]
          },
          "metadata": {},
          "execution_count": 88
        }
      ],
      "source": [
        "test[\"Cabin\"] = test[\"Cabin\"].fillna(\"M\").astype(str).apply(lambda cabin: cabin[0])\n",
        "test.Cabin.value_counts()"
      ]
    },
    {
      "cell_type": "markdown",
      "metadata": {
        "id": "LIUVNLJFp-Fl"
      },
      "source": [
        "**Encoding**"
      ]
    },
    {
      "cell_type": "code",
      "execution_count": 89,
      "metadata": {
        "colab": {
          "base_uri": "https://localhost:8080/",
          "height": 0
        },
        "id": "PVCcPcTjp-Fl",
        "outputId": "8249f1a2-1369-4453-bca9-084323be74c5"
      },
      "outputs": [
        {
          "output_type": "execute_result",
          "data": {
            "text/plain": [
              "     Survived  Pclass                                               Name  \\\n",
              "0           0       3                            Braund, Mr. Owen Harris   \n",
              "1           1       1  Cumings, Mrs. John Bradley (Florence Briggs Th...   \n",
              "2           1       3                             Heikkinen, Miss. Laina   \n",
              "3           1       1       Futrelle, Mrs. Jacques Heath (Lily May Peel)   \n",
              "4           0       3                           Allen, Mr. William Henry   \n",
              "..        ...     ...                                                ...   \n",
              "886         0       2                              Montvila, Rev. Juozas   \n",
              "887         1       1                       Graham, Miss. Margaret Edith   \n",
              "888         0       3           Johnston, Miss. Catherine Helen \"Carrie\"   \n",
              "889         1       1                              Behr, Mr. Karl Howell   \n",
              "890         0       3                                Dooley, Mr. Patrick   \n",
              "\n",
              "        Sex   Age  SibSp  Parch     Fare Cabin Embarked  ... Cabin_B Cabin_C  \\\n",
              "0      male  22.0      1      0   7.2500     M        S  ...       0       0   \n",
              "1    female  38.0      1      0  71.2833     C        C  ...       0       1   \n",
              "2    female  26.0      0      0   7.9250     M        S  ...       0       0   \n",
              "3    female  35.0      1      0  53.1000     C        S  ...       0       1   \n",
              "4      male  35.0      0      0   8.0500     M        S  ...       0       0   \n",
              "..      ...   ...    ...    ...      ...   ...      ...  ...     ...     ...   \n",
              "886    male  27.0      0      0  13.0000     M        S  ...       0       0   \n",
              "887  female  19.0      0      0  30.0000     B        S  ...       1       0   \n",
              "888  female  25.0      1      2  23.4500     M        S  ...       0       0   \n",
              "889    male  26.0      0      0  30.0000     C        C  ...       0       1   \n",
              "890    male  32.0      0      0   7.7500     M        Q  ...       0       0   \n",
              "\n",
              "    Cabin_D  Cabin_E  Cabin_F  Cabin_G  Cabin_M  Embarked_C  Embarked_Q  \\\n",
              "0         0        0        0        0        1           0           0   \n",
              "1         0        0        0        0        0           1           0   \n",
              "2         0        0        0        0        1           0           0   \n",
              "3         0        0        0        0        0           0           0   \n",
              "4         0        0        0        0        1           0           0   \n",
              "..      ...      ...      ...      ...      ...         ...         ...   \n",
              "886       0        0        0        0        1           0           0   \n",
              "887       0        0        0        0        0           0           0   \n",
              "888       0        0        0        0        1           0           0   \n",
              "889       0        0        0        0        0           1           0   \n",
              "890       0        0        0        0        1           0           1   \n",
              "\n",
              "     Embarked_S  \n",
              "0             1  \n",
              "1             0  \n",
              "2             1  \n",
              "3             1  \n",
              "4             1  \n",
              "..          ...  \n",
              "886           1  \n",
              "887           1  \n",
              "888           1  \n",
              "889           0  \n",
              "890           0  \n",
              "\n",
              "[891 rows x 35 columns]"
            ],
            "text/html": [
              "\n",
              "  <div id=\"df-d0fec7be-65d8-4526-b939-a3d875e33097\">\n",
              "    <div class=\"colab-df-container\">\n",
              "      <div>\n",
              "<style scoped>\n",
              "    .dataframe tbody tr th:only-of-type {\n",
              "        vertical-align: middle;\n",
              "    }\n",
              "\n",
              "    .dataframe tbody tr th {\n",
              "        vertical-align: top;\n",
              "    }\n",
              "\n",
              "    .dataframe thead th {\n",
              "        text-align: right;\n",
              "    }\n",
              "</style>\n",
              "<table border=\"1\" class=\"dataframe\">\n",
              "  <thead>\n",
              "    <tr style=\"text-align: right;\">\n",
              "      <th></th>\n",
              "      <th>Survived</th>\n",
              "      <th>Pclass</th>\n",
              "      <th>Name</th>\n",
              "      <th>Sex</th>\n",
              "      <th>Age</th>\n",
              "      <th>SibSp</th>\n",
              "      <th>Parch</th>\n",
              "      <th>Fare</th>\n",
              "      <th>Cabin</th>\n",
              "      <th>Embarked</th>\n",
              "      <th>...</th>\n",
              "      <th>Cabin_B</th>\n",
              "      <th>Cabin_C</th>\n",
              "      <th>Cabin_D</th>\n",
              "      <th>Cabin_E</th>\n",
              "      <th>Cabin_F</th>\n",
              "      <th>Cabin_G</th>\n",
              "      <th>Cabin_M</th>\n",
              "      <th>Embarked_C</th>\n",
              "      <th>Embarked_Q</th>\n",
              "      <th>Embarked_S</th>\n",
              "    </tr>\n",
              "  </thead>\n",
              "  <tbody>\n",
              "    <tr>\n",
              "      <th>0</th>\n",
              "      <td>0</td>\n",
              "      <td>3</td>\n",
              "      <td>Braund, Mr. Owen Harris</td>\n",
              "      <td>male</td>\n",
              "      <td>22.0</td>\n",
              "      <td>1</td>\n",
              "      <td>0</td>\n",
              "      <td>7.2500</td>\n",
              "      <td>M</td>\n",
              "      <td>S</td>\n",
              "      <td>...</td>\n",
              "      <td>0</td>\n",
              "      <td>0</td>\n",
              "      <td>0</td>\n",
              "      <td>0</td>\n",
              "      <td>0</td>\n",
              "      <td>0</td>\n",
              "      <td>1</td>\n",
              "      <td>0</td>\n",
              "      <td>0</td>\n",
              "      <td>1</td>\n",
              "    </tr>\n",
              "    <tr>\n",
              "      <th>1</th>\n",
              "      <td>1</td>\n",
              "      <td>1</td>\n",
              "      <td>Cumings, Mrs. John Bradley (Florence Briggs Th...</td>\n",
              "      <td>female</td>\n",
              "      <td>38.0</td>\n",
              "      <td>1</td>\n",
              "      <td>0</td>\n",
              "      <td>71.2833</td>\n",
              "      <td>C</td>\n",
              "      <td>C</td>\n",
              "      <td>...</td>\n",
              "      <td>0</td>\n",
              "      <td>1</td>\n",
              "      <td>0</td>\n",
              "      <td>0</td>\n",
              "      <td>0</td>\n",
              "      <td>0</td>\n",
              "      <td>0</td>\n",
              "      <td>1</td>\n",
              "      <td>0</td>\n",
              "      <td>0</td>\n",
              "    </tr>\n",
              "    <tr>\n",
              "      <th>2</th>\n",
              "      <td>1</td>\n",
              "      <td>3</td>\n",
              "      <td>Heikkinen, Miss. Laina</td>\n",
              "      <td>female</td>\n",
              "      <td>26.0</td>\n",
              "      <td>0</td>\n",
              "      <td>0</td>\n",
              "      <td>7.9250</td>\n",
              "      <td>M</td>\n",
              "      <td>S</td>\n",
              "      <td>...</td>\n",
              "      <td>0</td>\n",
              "      <td>0</td>\n",
              "      <td>0</td>\n",
              "      <td>0</td>\n",
              "      <td>0</td>\n",
              "      <td>0</td>\n",
              "      <td>1</td>\n",
              "      <td>0</td>\n",
              "      <td>0</td>\n",
              "      <td>1</td>\n",
              "    </tr>\n",
              "    <tr>\n",
              "      <th>3</th>\n",
              "      <td>1</td>\n",
              "      <td>1</td>\n",
              "      <td>Futrelle, Mrs. Jacques Heath (Lily May Peel)</td>\n",
              "      <td>female</td>\n",
              "      <td>35.0</td>\n",
              "      <td>1</td>\n",
              "      <td>0</td>\n",
              "      <td>53.1000</td>\n",
              "      <td>C</td>\n",
              "      <td>S</td>\n",
              "      <td>...</td>\n",
              "      <td>0</td>\n",
              "      <td>1</td>\n",
              "      <td>0</td>\n",
              "      <td>0</td>\n",
              "      <td>0</td>\n",
              "      <td>0</td>\n",
              "      <td>0</td>\n",
              "      <td>0</td>\n",
              "      <td>0</td>\n",
              "      <td>1</td>\n",
              "    </tr>\n",
              "    <tr>\n",
              "      <th>4</th>\n",
              "      <td>0</td>\n",
              "      <td>3</td>\n",
              "      <td>Allen, Mr. William Henry</td>\n",
              "      <td>male</td>\n",
              "      <td>35.0</td>\n",
              "      <td>0</td>\n",
              "      <td>0</td>\n",
              "      <td>8.0500</td>\n",
              "      <td>M</td>\n",
              "      <td>S</td>\n",
              "      <td>...</td>\n",
              "      <td>0</td>\n",
              "      <td>0</td>\n",
              "      <td>0</td>\n",
              "      <td>0</td>\n",
              "      <td>0</td>\n",
              "      <td>0</td>\n",
              "      <td>1</td>\n",
              "      <td>0</td>\n",
              "      <td>0</td>\n",
              "      <td>1</td>\n",
              "    </tr>\n",
              "    <tr>\n",
              "      <th>...</th>\n",
              "      <td>...</td>\n",
              "      <td>...</td>\n",
              "      <td>...</td>\n",
              "      <td>...</td>\n",
              "      <td>...</td>\n",
              "      <td>...</td>\n",
              "      <td>...</td>\n",
              "      <td>...</td>\n",
              "      <td>...</td>\n",
              "      <td>...</td>\n",
              "      <td>...</td>\n",
              "      <td>...</td>\n",
              "      <td>...</td>\n",
              "      <td>...</td>\n",
              "      <td>...</td>\n",
              "      <td>...</td>\n",
              "      <td>...</td>\n",
              "      <td>...</td>\n",
              "      <td>...</td>\n",
              "      <td>...</td>\n",
              "      <td>...</td>\n",
              "    </tr>\n",
              "    <tr>\n",
              "      <th>886</th>\n",
              "      <td>0</td>\n",
              "      <td>2</td>\n",
              "      <td>Montvila, Rev. Juozas</td>\n",
              "      <td>male</td>\n",
              "      <td>27.0</td>\n",
              "      <td>0</td>\n",
              "      <td>0</td>\n",
              "      <td>13.0000</td>\n",
              "      <td>M</td>\n",
              "      <td>S</td>\n",
              "      <td>...</td>\n",
              "      <td>0</td>\n",
              "      <td>0</td>\n",
              "      <td>0</td>\n",
              "      <td>0</td>\n",
              "      <td>0</td>\n",
              "      <td>0</td>\n",
              "      <td>1</td>\n",
              "      <td>0</td>\n",
              "      <td>0</td>\n",
              "      <td>1</td>\n",
              "    </tr>\n",
              "    <tr>\n",
              "      <th>887</th>\n",
              "      <td>1</td>\n",
              "      <td>1</td>\n",
              "      <td>Graham, Miss. Margaret Edith</td>\n",
              "      <td>female</td>\n",
              "      <td>19.0</td>\n",
              "      <td>0</td>\n",
              "      <td>0</td>\n",
              "      <td>30.0000</td>\n",
              "      <td>B</td>\n",
              "      <td>S</td>\n",
              "      <td>...</td>\n",
              "      <td>1</td>\n",
              "      <td>0</td>\n",
              "      <td>0</td>\n",
              "      <td>0</td>\n",
              "      <td>0</td>\n",
              "      <td>0</td>\n",
              "      <td>0</td>\n",
              "      <td>0</td>\n",
              "      <td>0</td>\n",
              "      <td>1</td>\n",
              "    </tr>\n",
              "    <tr>\n",
              "      <th>888</th>\n",
              "      <td>0</td>\n",
              "      <td>3</td>\n",
              "      <td>Johnston, Miss. Catherine Helen \"Carrie\"</td>\n",
              "      <td>female</td>\n",
              "      <td>25.0</td>\n",
              "      <td>1</td>\n",
              "      <td>2</td>\n",
              "      <td>23.4500</td>\n",
              "      <td>M</td>\n",
              "      <td>S</td>\n",
              "      <td>...</td>\n",
              "      <td>0</td>\n",
              "      <td>0</td>\n",
              "      <td>0</td>\n",
              "      <td>0</td>\n",
              "      <td>0</td>\n",
              "      <td>0</td>\n",
              "      <td>1</td>\n",
              "      <td>0</td>\n",
              "      <td>0</td>\n",
              "      <td>1</td>\n",
              "    </tr>\n",
              "    <tr>\n",
              "      <th>889</th>\n",
              "      <td>1</td>\n",
              "      <td>1</td>\n",
              "      <td>Behr, Mr. Karl Howell</td>\n",
              "      <td>male</td>\n",
              "      <td>26.0</td>\n",
              "      <td>0</td>\n",
              "      <td>0</td>\n",
              "      <td>30.0000</td>\n",
              "      <td>C</td>\n",
              "      <td>C</td>\n",
              "      <td>...</td>\n",
              "      <td>0</td>\n",
              "      <td>1</td>\n",
              "      <td>0</td>\n",
              "      <td>0</td>\n",
              "      <td>0</td>\n",
              "      <td>0</td>\n",
              "      <td>0</td>\n",
              "      <td>1</td>\n",
              "      <td>0</td>\n",
              "      <td>0</td>\n",
              "    </tr>\n",
              "    <tr>\n",
              "      <th>890</th>\n",
              "      <td>0</td>\n",
              "      <td>3</td>\n",
              "      <td>Dooley, Mr. Patrick</td>\n",
              "      <td>male</td>\n",
              "      <td>32.0</td>\n",
              "      <td>0</td>\n",
              "      <td>0</td>\n",
              "      <td>7.7500</td>\n",
              "      <td>M</td>\n",
              "      <td>Q</td>\n",
              "      <td>...</td>\n",
              "      <td>0</td>\n",
              "      <td>0</td>\n",
              "      <td>0</td>\n",
              "      <td>0</td>\n",
              "      <td>0</td>\n",
              "      <td>0</td>\n",
              "      <td>1</td>\n",
              "      <td>0</td>\n",
              "      <td>1</td>\n",
              "      <td>0</td>\n",
              "    </tr>\n",
              "  </tbody>\n",
              "</table>\n",
              "<p>891 rows × 35 columns</p>\n",
              "</div>\n",
              "      <button class=\"colab-df-convert\" onclick=\"convertToInteractive('df-d0fec7be-65d8-4526-b939-a3d875e33097')\"\n",
              "              title=\"Convert this dataframe to an interactive table.\"\n",
              "              style=\"display:none;\">\n",
              "        \n",
              "  <svg xmlns=\"http://www.w3.org/2000/svg\" height=\"24px\"viewBox=\"0 0 24 24\"\n",
              "       width=\"24px\">\n",
              "    <path d=\"M0 0h24v24H0V0z\" fill=\"none\"/>\n",
              "    <path d=\"M18.56 5.44l.94 2.06.94-2.06 2.06-.94-2.06-.94-.94-2.06-.94 2.06-2.06.94zm-11 1L8.5 8.5l.94-2.06 2.06-.94-2.06-.94L8.5 2.5l-.94 2.06-2.06.94zm10 10l.94 2.06.94-2.06 2.06-.94-2.06-.94-.94-2.06-.94 2.06-2.06.94z\"/><path d=\"M17.41 7.96l-1.37-1.37c-.4-.4-.92-.59-1.43-.59-.52 0-1.04.2-1.43.59L10.3 9.45l-7.72 7.72c-.78.78-.78 2.05 0 2.83L4 21.41c.39.39.9.59 1.41.59.51 0 1.02-.2 1.41-.59l7.78-7.78 2.81-2.81c.8-.78.8-2.07 0-2.86zM5.41 20L4 18.59l7.72-7.72 1.47 1.35L5.41 20z\"/>\n",
              "  </svg>\n",
              "      </button>\n",
              "      \n",
              "  <style>\n",
              "    .colab-df-container {\n",
              "      display:flex;\n",
              "      flex-wrap:wrap;\n",
              "      gap: 12px;\n",
              "    }\n",
              "\n",
              "    .colab-df-convert {\n",
              "      background-color: #E8F0FE;\n",
              "      border: none;\n",
              "      border-radius: 50%;\n",
              "      cursor: pointer;\n",
              "      display: none;\n",
              "      fill: #1967D2;\n",
              "      height: 32px;\n",
              "      padding: 0 0 0 0;\n",
              "      width: 32px;\n",
              "    }\n",
              "\n",
              "    .colab-df-convert:hover {\n",
              "      background-color: #E2EBFA;\n",
              "      box-shadow: 0px 1px 2px rgba(60, 64, 67, 0.3), 0px 1px 3px 1px rgba(60, 64, 67, 0.15);\n",
              "      fill: #174EA6;\n",
              "    }\n",
              "\n",
              "    [theme=dark] .colab-df-convert {\n",
              "      background-color: #3B4455;\n",
              "      fill: #D2E3FC;\n",
              "    }\n",
              "\n",
              "    [theme=dark] .colab-df-convert:hover {\n",
              "      background-color: #434B5C;\n",
              "      box-shadow: 0px 1px 3px 1px rgba(0, 0, 0, 0.15);\n",
              "      filter: drop-shadow(0px 1px 2px rgba(0, 0, 0, 0.3));\n",
              "      fill: #FFFFFF;\n",
              "    }\n",
              "  </style>\n",
              "\n",
              "      <script>\n",
              "        const buttonEl =\n",
              "          document.querySelector('#df-d0fec7be-65d8-4526-b939-a3d875e33097 button.colab-df-convert');\n",
              "        buttonEl.style.display =\n",
              "          google.colab.kernel.accessAllowed ? 'block' : 'none';\n",
              "\n",
              "        async function convertToInteractive(key) {\n",
              "          const element = document.querySelector('#df-d0fec7be-65d8-4526-b939-a3d875e33097');\n",
              "          const dataTable =\n",
              "            await google.colab.kernel.invokeFunction('convertToInteractive',\n",
              "                                                     [key], {});\n",
              "          if (!dataTable) return;\n",
              "\n",
              "          const docLinkHtml = 'Like what you see? Visit the ' +\n",
              "            '<a target=\"_blank\" href=https://colab.research.google.com/notebooks/data_table.ipynb>data table notebook</a>'\n",
              "            + ' to learn more about interactive tables.';\n",
              "          element.innerHTML = '';\n",
              "          dataTable['output_type'] = 'display_data';\n",
              "          await google.colab.output.renderOutput(dataTable, element);\n",
              "          const docLink = document.createElement('div');\n",
              "          docLink.innerHTML = docLinkHtml;\n",
              "          element.appendChild(docLink);\n",
              "        }\n",
              "      </script>\n",
              "    </div>\n",
              "  </div>\n",
              "  "
            ]
          },
          "metadata": {},
          "execution_count": 89
        }
      ],
      "source": [
        "train_cat_features = ['Pclass', 'Sex', 'Title', 'Cabin', 'Embarked']\n",
        "\n",
        "for feature in train_cat_features:\n",
        "    \n",
        "    # Instead of using sklearn's oneHot encoder, we use pandas get dummies \n",
        "    # method to imitate one hot encoding\n",
        "    dummies = pd.get_dummies(train[feature]).add_prefix(feature + '_')\n",
        "    train = train.join(dummies)\n",
        "\n",
        "train"
      ]
    },
    {
      "cell_type": "code",
      "execution_count": 90,
      "metadata": {
        "id": "Q7no_F9Up-Fl"
      },
      "outputs": [],
      "source": [
        "for feature in train_cat_features:\n",
        "    dummies = pd.get_dummies(test[feature]).add_prefix(feature + \"_\")\n",
        "    test = test.join(dummies)"
      ]
    },
    {
      "cell_type": "code",
      "execution_count": 91,
      "metadata": {
        "colab": {
          "base_uri": "https://localhost:8080/",
          "height": 0
        },
        "id": "IHNYSeo2p-Fl",
        "outputId": "b75a344b-f79a-4926-be49-f4cd04c7cd1f"
      },
      "outputs": [
        {
          "output_type": "execute_result",
          "data": {
            "text/plain": [
              "     Pclass                                          Name     Sex   Age  \\\n",
              "0         3                              Kelly, Mr. James    male  34.5   \n",
              "1         3              Wilkes, Mrs. James (Ellen Needs)  female  47.0   \n",
              "2         2                     Myles, Mr. Thomas Francis    male  62.0   \n",
              "3         3                              Wirz, Mr. Albert    male  27.0   \n",
              "4         3  Hirvonen, Mrs. Alexander (Helga E Lindqvist)  female  22.0   \n",
              "..      ...                                           ...     ...   ...   \n",
              "413       3                            Spector, Mr. Woolf    male  24.0   \n",
              "414       1                  Oliva y Ocana, Dona. Fermina  female  39.0   \n",
              "415       3                  Saether, Mr. Simon Sivertsen    male  38.5   \n",
              "416       3                           Ware, Mr. Frederick    male  24.0   \n",
              "417       3                      Peter, Master. Michael J    male  20.0   \n",
              "\n",
              "     SibSp  Parch      Fare Cabin Embarked        Surname  ... Cabin_B  \\\n",
              "0        0      0    7.8292     M        Q          Kelly  ...       0   \n",
              "1        1      0    7.0000     M        S         Wilkes  ...       0   \n",
              "2        0      0    9.6875     M        Q          Myles  ...       0   \n",
              "3        0      0    8.6625     M        S           Wirz  ...       0   \n",
              "4        1      1   12.2875     M        S       Hirvonen  ...       0   \n",
              "..     ...    ...       ...   ...      ...            ...  ...     ...   \n",
              "413      0      0    8.0500     M        S        Spector  ...       0   \n",
              "414      0      0  108.9000     C        C  Oliva y Ocana  ...       0   \n",
              "415      0      0    7.2500     M        S        Saether  ...       0   \n",
              "416      0      0    8.0500     M        S           Ware  ...       0   \n",
              "417      1      1   22.3583     M        C          Peter  ...       0   \n",
              "\n",
              "    Cabin_C  Cabin_D  Cabin_E  Cabin_F  Cabin_G  Cabin_M  Embarked_C  \\\n",
              "0         0        0        0        0        0        1           0   \n",
              "1         0        0        0        0        0        1           0   \n",
              "2         0        0        0        0        0        1           0   \n",
              "3         0        0        0        0        0        1           0   \n",
              "4         0        0        0        0        0        1           0   \n",
              "..      ...      ...      ...      ...      ...      ...         ...   \n",
              "413       0        0        0        0        0        1           0   \n",
              "414       1        0        0        0        0        0           1   \n",
              "415       0        0        0        0        0        1           0   \n",
              "416       0        0        0        0        0        1           0   \n",
              "417       0        0        0        0        0        1           1   \n",
              "\n",
              "     Embarked_Q  Embarked_S  \n",
              "0             1           0  \n",
              "1             0           1  \n",
              "2             1           0  \n",
              "3             0           1  \n",
              "4             0           1  \n",
              "..          ...         ...  \n",
              "413           0           1  \n",
              "414           0           0  \n",
              "415           0           1  \n",
              "416           0           1  \n",
              "417           0           0  \n",
              "\n",
              "[418 rows x 34 columns]"
            ],
            "text/html": [
              "\n",
              "  <div id=\"df-318fb15d-701d-413e-a922-c25ebbefd267\">\n",
              "    <div class=\"colab-df-container\">\n",
              "      <div>\n",
              "<style scoped>\n",
              "    .dataframe tbody tr th:only-of-type {\n",
              "        vertical-align: middle;\n",
              "    }\n",
              "\n",
              "    .dataframe tbody tr th {\n",
              "        vertical-align: top;\n",
              "    }\n",
              "\n",
              "    .dataframe thead th {\n",
              "        text-align: right;\n",
              "    }\n",
              "</style>\n",
              "<table border=\"1\" class=\"dataframe\">\n",
              "  <thead>\n",
              "    <tr style=\"text-align: right;\">\n",
              "      <th></th>\n",
              "      <th>Pclass</th>\n",
              "      <th>Name</th>\n",
              "      <th>Sex</th>\n",
              "      <th>Age</th>\n",
              "      <th>SibSp</th>\n",
              "      <th>Parch</th>\n",
              "      <th>Fare</th>\n",
              "      <th>Cabin</th>\n",
              "      <th>Embarked</th>\n",
              "      <th>Surname</th>\n",
              "      <th>...</th>\n",
              "      <th>Cabin_B</th>\n",
              "      <th>Cabin_C</th>\n",
              "      <th>Cabin_D</th>\n",
              "      <th>Cabin_E</th>\n",
              "      <th>Cabin_F</th>\n",
              "      <th>Cabin_G</th>\n",
              "      <th>Cabin_M</th>\n",
              "      <th>Embarked_C</th>\n",
              "      <th>Embarked_Q</th>\n",
              "      <th>Embarked_S</th>\n",
              "    </tr>\n",
              "  </thead>\n",
              "  <tbody>\n",
              "    <tr>\n",
              "      <th>0</th>\n",
              "      <td>3</td>\n",
              "      <td>Kelly, Mr. James</td>\n",
              "      <td>male</td>\n",
              "      <td>34.5</td>\n",
              "      <td>0</td>\n",
              "      <td>0</td>\n",
              "      <td>7.8292</td>\n",
              "      <td>M</td>\n",
              "      <td>Q</td>\n",
              "      <td>Kelly</td>\n",
              "      <td>...</td>\n",
              "      <td>0</td>\n",
              "      <td>0</td>\n",
              "      <td>0</td>\n",
              "      <td>0</td>\n",
              "      <td>0</td>\n",
              "      <td>0</td>\n",
              "      <td>1</td>\n",
              "      <td>0</td>\n",
              "      <td>1</td>\n",
              "      <td>0</td>\n",
              "    </tr>\n",
              "    <tr>\n",
              "      <th>1</th>\n",
              "      <td>3</td>\n",
              "      <td>Wilkes, Mrs. James (Ellen Needs)</td>\n",
              "      <td>female</td>\n",
              "      <td>47.0</td>\n",
              "      <td>1</td>\n",
              "      <td>0</td>\n",
              "      <td>7.0000</td>\n",
              "      <td>M</td>\n",
              "      <td>S</td>\n",
              "      <td>Wilkes</td>\n",
              "      <td>...</td>\n",
              "      <td>0</td>\n",
              "      <td>0</td>\n",
              "      <td>0</td>\n",
              "      <td>0</td>\n",
              "      <td>0</td>\n",
              "      <td>0</td>\n",
              "      <td>1</td>\n",
              "      <td>0</td>\n",
              "      <td>0</td>\n",
              "      <td>1</td>\n",
              "    </tr>\n",
              "    <tr>\n",
              "      <th>2</th>\n",
              "      <td>2</td>\n",
              "      <td>Myles, Mr. Thomas Francis</td>\n",
              "      <td>male</td>\n",
              "      <td>62.0</td>\n",
              "      <td>0</td>\n",
              "      <td>0</td>\n",
              "      <td>9.6875</td>\n",
              "      <td>M</td>\n",
              "      <td>Q</td>\n",
              "      <td>Myles</td>\n",
              "      <td>...</td>\n",
              "      <td>0</td>\n",
              "      <td>0</td>\n",
              "      <td>0</td>\n",
              "      <td>0</td>\n",
              "      <td>0</td>\n",
              "      <td>0</td>\n",
              "      <td>1</td>\n",
              "      <td>0</td>\n",
              "      <td>1</td>\n",
              "      <td>0</td>\n",
              "    </tr>\n",
              "    <tr>\n",
              "      <th>3</th>\n",
              "      <td>3</td>\n",
              "      <td>Wirz, Mr. Albert</td>\n",
              "      <td>male</td>\n",
              "      <td>27.0</td>\n",
              "      <td>0</td>\n",
              "      <td>0</td>\n",
              "      <td>8.6625</td>\n",
              "      <td>M</td>\n",
              "      <td>S</td>\n",
              "      <td>Wirz</td>\n",
              "      <td>...</td>\n",
              "      <td>0</td>\n",
              "      <td>0</td>\n",
              "      <td>0</td>\n",
              "      <td>0</td>\n",
              "      <td>0</td>\n",
              "      <td>0</td>\n",
              "      <td>1</td>\n",
              "      <td>0</td>\n",
              "      <td>0</td>\n",
              "      <td>1</td>\n",
              "    </tr>\n",
              "    <tr>\n",
              "      <th>4</th>\n",
              "      <td>3</td>\n",
              "      <td>Hirvonen, Mrs. Alexander (Helga E Lindqvist)</td>\n",
              "      <td>female</td>\n",
              "      <td>22.0</td>\n",
              "      <td>1</td>\n",
              "      <td>1</td>\n",
              "      <td>12.2875</td>\n",
              "      <td>M</td>\n",
              "      <td>S</td>\n",
              "      <td>Hirvonen</td>\n",
              "      <td>...</td>\n",
              "      <td>0</td>\n",
              "      <td>0</td>\n",
              "      <td>0</td>\n",
              "      <td>0</td>\n",
              "      <td>0</td>\n",
              "      <td>0</td>\n",
              "      <td>1</td>\n",
              "      <td>0</td>\n",
              "      <td>0</td>\n",
              "      <td>1</td>\n",
              "    </tr>\n",
              "    <tr>\n",
              "      <th>...</th>\n",
              "      <td>...</td>\n",
              "      <td>...</td>\n",
              "      <td>...</td>\n",
              "      <td>...</td>\n",
              "      <td>...</td>\n",
              "      <td>...</td>\n",
              "      <td>...</td>\n",
              "      <td>...</td>\n",
              "      <td>...</td>\n",
              "      <td>...</td>\n",
              "      <td>...</td>\n",
              "      <td>...</td>\n",
              "      <td>...</td>\n",
              "      <td>...</td>\n",
              "      <td>...</td>\n",
              "      <td>...</td>\n",
              "      <td>...</td>\n",
              "      <td>...</td>\n",
              "      <td>...</td>\n",
              "      <td>...</td>\n",
              "      <td>...</td>\n",
              "    </tr>\n",
              "    <tr>\n",
              "      <th>413</th>\n",
              "      <td>3</td>\n",
              "      <td>Spector, Mr. Woolf</td>\n",
              "      <td>male</td>\n",
              "      <td>24.0</td>\n",
              "      <td>0</td>\n",
              "      <td>0</td>\n",
              "      <td>8.0500</td>\n",
              "      <td>M</td>\n",
              "      <td>S</td>\n",
              "      <td>Spector</td>\n",
              "      <td>...</td>\n",
              "      <td>0</td>\n",
              "      <td>0</td>\n",
              "      <td>0</td>\n",
              "      <td>0</td>\n",
              "      <td>0</td>\n",
              "      <td>0</td>\n",
              "      <td>1</td>\n",
              "      <td>0</td>\n",
              "      <td>0</td>\n",
              "      <td>1</td>\n",
              "    </tr>\n",
              "    <tr>\n",
              "      <th>414</th>\n",
              "      <td>1</td>\n",
              "      <td>Oliva y Ocana, Dona. Fermina</td>\n",
              "      <td>female</td>\n",
              "      <td>39.0</td>\n",
              "      <td>0</td>\n",
              "      <td>0</td>\n",
              "      <td>108.9000</td>\n",
              "      <td>C</td>\n",
              "      <td>C</td>\n",
              "      <td>Oliva y Ocana</td>\n",
              "      <td>...</td>\n",
              "      <td>0</td>\n",
              "      <td>1</td>\n",
              "      <td>0</td>\n",
              "      <td>0</td>\n",
              "      <td>0</td>\n",
              "      <td>0</td>\n",
              "      <td>0</td>\n",
              "      <td>1</td>\n",
              "      <td>0</td>\n",
              "      <td>0</td>\n",
              "    </tr>\n",
              "    <tr>\n",
              "      <th>415</th>\n",
              "      <td>3</td>\n",
              "      <td>Saether, Mr. Simon Sivertsen</td>\n",
              "      <td>male</td>\n",
              "      <td>38.5</td>\n",
              "      <td>0</td>\n",
              "      <td>0</td>\n",
              "      <td>7.2500</td>\n",
              "      <td>M</td>\n",
              "      <td>S</td>\n",
              "      <td>Saether</td>\n",
              "      <td>...</td>\n",
              "      <td>0</td>\n",
              "      <td>0</td>\n",
              "      <td>0</td>\n",
              "      <td>0</td>\n",
              "      <td>0</td>\n",
              "      <td>0</td>\n",
              "      <td>1</td>\n",
              "      <td>0</td>\n",
              "      <td>0</td>\n",
              "      <td>1</td>\n",
              "    </tr>\n",
              "    <tr>\n",
              "      <th>416</th>\n",
              "      <td>3</td>\n",
              "      <td>Ware, Mr. Frederick</td>\n",
              "      <td>male</td>\n",
              "      <td>24.0</td>\n",
              "      <td>0</td>\n",
              "      <td>0</td>\n",
              "      <td>8.0500</td>\n",
              "      <td>M</td>\n",
              "      <td>S</td>\n",
              "      <td>Ware</td>\n",
              "      <td>...</td>\n",
              "      <td>0</td>\n",
              "      <td>0</td>\n",
              "      <td>0</td>\n",
              "      <td>0</td>\n",
              "      <td>0</td>\n",
              "      <td>0</td>\n",
              "      <td>1</td>\n",
              "      <td>0</td>\n",
              "      <td>0</td>\n",
              "      <td>1</td>\n",
              "    </tr>\n",
              "    <tr>\n",
              "      <th>417</th>\n",
              "      <td>3</td>\n",
              "      <td>Peter, Master. Michael J</td>\n",
              "      <td>male</td>\n",
              "      <td>20.0</td>\n",
              "      <td>1</td>\n",
              "      <td>1</td>\n",
              "      <td>22.3583</td>\n",
              "      <td>M</td>\n",
              "      <td>C</td>\n",
              "      <td>Peter</td>\n",
              "      <td>...</td>\n",
              "      <td>0</td>\n",
              "      <td>0</td>\n",
              "      <td>0</td>\n",
              "      <td>0</td>\n",
              "      <td>0</td>\n",
              "      <td>0</td>\n",
              "      <td>1</td>\n",
              "      <td>1</td>\n",
              "      <td>0</td>\n",
              "      <td>0</td>\n",
              "    </tr>\n",
              "  </tbody>\n",
              "</table>\n",
              "<p>418 rows × 34 columns</p>\n",
              "</div>\n",
              "      <button class=\"colab-df-convert\" onclick=\"convertToInteractive('df-318fb15d-701d-413e-a922-c25ebbefd267')\"\n",
              "              title=\"Convert this dataframe to an interactive table.\"\n",
              "              style=\"display:none;\">\n",
              "        \n",
              "  <svg xmlns=\"http://www.w3.org/2000/svg\" height=\"24px\"viewBox=\"0 0 24 24\"\n",
              "       width=\"24px\">\n",
              "    <path d=\"M0 0h24v24H0V0z\" fill=\"none\"/>\n",
              "    <path d=\"M18.56 5.44l.94 2.06.94-2.06 2.06-.94-2.06-.94-.94-2.06-.94 2.06-2.06.94zm-11 1L8.5 8.5l.94-2.06 2.06-.94-2.06-.94L8.5 2.5l-.94 2.06-2.06.94zm10 10l.94 2.06.94-2.06 2.06-.94-2.06-.94-.94-2.06-.94 2.06-2.06.94z\"/><path d=\"M17.41 7.96l-1.37-1.37c-.4-.4-.92-.59-1.43-.59-.52 0-1.04.2-1.43.59L10.3 9.45l-7.72 7.72c-.78.78-.78 2.05 0 2.83L4 21.41c.39.39.9.59 1.41.59.51 0 1.02-.2 1.41-.59l7.78-7.78 2.81-2.81c.8-.78.8-2.07 0-2.86zM5.41 20L4 18.59l7.72-7.72 1.47 1.35L5.41 20z\"/>\n",
              "  </svg>\n",
              "      </button>\n",
              "      \n",
              "  <style>\n",
              "    .colab-df-container {\n",
              "      display:flex;\n",
              "      flex-wrap:wrap;\n",
              "      gap: 12px;\n",
              "    }\n",
              "\n",
              "    .colab-df-convert {\n",
              "      background-color: #E8F0FE;\n",
              "      border: none;\n",
              "      border-radius: 50%;\n",
              "      cursor: pointer;\n",
              "      display: none;\n",
              "      fill: #1967D2;\n",
              "      height: 32px;\n",
              "      padding: 0 0 0 0;\n",
              "      width: 32px;\n",
              "    }\n",
              "\n",
              "    .colab-df-convert:hover {\n",
              "      background-color: #E2EBFA;\n",
              "      box-shadow: 0px 1px 2px rgba(60, 64, 67, 0.3), 0px 1px 3px 1px rgba(60, 64, 67, 0.15);\n",
              "      fill: #174EA6;\n",
              "    }\n",
              "\n",
              "    [theme=dark] .colab-df-convert {\n",
              "      background-color: #3B4455;\n",
              "      fill: #D2E3FC;\n",
              "    }\n",
              "\n",
              "    [theme=dark] .colab-df-convert:hover {\n",
              "      background-color: #434B5C;\n",
              "      box-shadow: 0px 1px 3px 1px rgba(0, 0, 0, 0.15);\n",
              "      filter: drop-shadow(0px 1px 2px rgba(0, 0, 0, 0.3));\n",
              "      fill: #FFFFFF;\n",
              "    }\n",
              "  </style>\n",
              "\n",
              "      <script>\n",
              "        const buttonEl =\n",
              "          document.querySelector('#df-318fb15d-701d-413e-a922-c25ebbefd267 button.colab-df-convert');\n",
              "        buttonEl.style.display =\n",
              "          google.colab.kernel.accessAllowed ? 'block' : 'none';\n",
              "\n",
              "        async function convertToInteractive(key) {\n",
              "          const element = document.querySelector('#df-318fb15d-701d-413e-a922-c25ebbefd267');\n",
              "          const dataTable =\n",
              "            await google.colab.kernel.invokeFunction('convertToInteractive',\n",
              "                                                     [key], {});\n",
              "          if (!dataTable) return;\n",
              "\n",
              "          const docLinkHtml = 'Like what you see? Visit the ' +\n",
              "            '<a target=\"_blank\" href=https://colab.research.google.com/notebooks/data_table.ipynb>data table notebook</a>'\n",
              "            + ' to learn more about interactive tables.';\n",
              "          element.innerHTML = '';\n",
              "          dataTable['output_type'] = 'display_data';\n",
              "          await google.colab.output.renderOutput(dataTable, element);\n",
              "          const docLink = document.createElement('div');\n",
              "          docLink.innerHTML = docLinkHtml;\n",
              "          element.appendChild(docLink);\n",
              "        }\n",
              "      </script>\n",
              "    </div>\n",
              "  </div>\n",
              "  "
            ]
          },
          "metadata": {},
          "execution_count": 91
        }
      ],
      "source": [
        "test"
      ]
    },
    {
      "cell_type": "markdown",
      "metadata": {
        "id": "BLhjct0Kp-Fm"
      },
      "source": [
        "# **ML Modelling**"
      ]
    },
    {
      "cell_type": "code",
      "execution_count": 92,
      "metadata": {
        "id": "zDnl3yO_p-Fm"
      },
      "outputs": [],
      "source": [
        "from sklearn.model_selection import train_test_split\n",
        "from sklearn.model_selection import StratifiedKFold as sfk\n"
      ]
    },
    {
      "cell_type": "markdown",
      "metadata": {
        "id": "j_-lVQIap-Fm"
      },
      "source": [
        "##**Dropping the Columns not needed while modeling.**\n",
        "\n",
        "--- Only the needed colums were convered to numeric form."
      ]
    },
    {
      "cell_type": "code",
      "execution_count": 93,
      "metadata": {
        "id": "-LaGk799p-Fm"
      },
      "outputs": [],
      "source": [
        "drop_cols = ['Pclass', 'Name', 'Sex', \"Cabin\", 'Embarked', 'Surname', 'Title', 'Newname']\n",
        "train.drop(drop_cols, axis=1, inplace=True)\n",
        "test.drop(drop_cols, axis=1, inplace=True)\n"
      ]
    },
    {
      "cell_type": "markdown",
      "metadata": {
        "id": "r4FMEHPyp-Fn"
      },
      "source": [
        "## **Seperating the data from label**"
      ]
    },
    {
      "cell_type": "code",
      "execution_count": 94,
      "metadata": {
        "id": "hZgGZrcup-Fn"
      },
      "outputs": [],
      "source": [
        "train_set = train.drop(\"Survived\", axis=1)\n",
        "train_set_sur = train[\"Survived\"]"
      ]
    },
    {
      "cell_type": "markdown",
      "metadata": {
        "id": "SZfNbaCip-Fn"
      },
      "source": [
        "## **Cross-Validation**\n",
        "--Cross-validation is a technique for evaluating ML models by training several ML models on subsets of the available input data and evaluating them on the complementary subset of the data. \n",
        "<br>\n",
        "---Here we evalate and compare learning algorithm by dividing data into two segments: one used to learn or train a model and the other used to validate the model."
      ]
    },
    {
      "cell_type": "code",
      "execution_count": 95,
      "metadata": {
        "id": "0N-1UnG-p-Fn"
      },
      "outputs": [],
      "source": [
        "x_train, x_test, y_train, y_test = train_test_split(\n",
        "    train_set, train_set_sur,\n",
        "    train_size=0.8, random_state=0\n",
        ")"
      ]
    },
    {
      "cell_type": "code",
      "execution_count": 96,
      "metadata": {
        "colab": {
          "base_uri": "https://localhost:8080/"
        },
        "id": "fjD4KAbcp-Fn",
        "outputId": "350ee5c1-0e5a-417a-c763-18a4ace9696a"
      },
      "outputs": [
        {
          "output_type": "stream",
          "name": "stdout",
          "text": [
            "(712, 26) (712,)\n",
            "(179, 26) (179,)\n"
          ]
        }
      ],
      "source": [
        "print(x_train.shape, y_train.shape)\n",
        "print(x_test.shape, y_test.shape)"
      ]
    },
    {
      "cell_type": "markdown",
      "metadata": {
        "id": "Up9QapmMp-Fo"
      },
      "source": [
        "### **Scaling**"
      ]
    },
    {
      "cell_type": "code",
      "execution_count": 97,
      "metadata": {
        "id": "cXYib9LDp-Fo"
      },
      "outputs": [],
      "source": [
        "from sklearn.preprocessing import StandardScaler\n",
        "std = StandardScaler()\n",
        "\n",
        "## Fit and transform train dataset\n",
        "x_train = std.fit_transform(x_train)\n",
        "\n",
        "x_test = std.transform(x_test)"
      ]
    },
    {
      "cell_type": "code",
      "execution_count": 98,
      "metadata": {
        "id": "ym-ZhfZBp-Fo"
      },
      "outputs": [],
      "source": [
        "test = std.transform(test)"
      ]
    },
    {
      "cell_type": "code",
      "execution_count": 99,
      "metadata": {
        "colab": {
          "base_uri": "https://localhost:8080/"
        },
        "id": "43l4wPWAp-Fo",
        "outputId": "8085840a-c186-4c1f-e26d-a98b05f30791"
      },
      "outputs": [
        {
          "output_type": "execute_result",
          "data": {
            "text/plain": [
              "1.0015287515279199"
            ]
          },
          "metadata": {},
          "execution_count": 99
        }
      ],
      "source": [
        "test.std()"
      ]
    },
    {
      "cell_type": "markdown",
      "metadata": {
        "id": "Nrq9aarvp-Fp"
      },
      "source": [
        "##**Logistic Regression**\n",
        "--It is used for modeling.\n",
        "<br>\n",
        "--Linear Regression is a machine learning algorithm based on supervised learning. It performs a regression task. Regression models a target prediction value based on independent variables. It is mostly used for finding out the relationship between variables and forecasting.\n",
        "<br>\n",
        "--It is used for modeling.\n"
      ]
    },
    {
      "cell_type": "code",
      "execution_count": 100,
      "metadata": {
        "colab": {
          "base_uri": "https://localhost:8080/"
        },
        "id": "89vo56Tvp-Fp",
        "outputId": "9889f5b1-e02d-42f1-e15d-0ad3d66ab754"
      },
      "outputs": [
        {
          "output_type": "stream",
          "name": "stdout",
          "text": [
            "Accuracy: 0.82681564\n"
          ]
        }
      ],
      "source": [
        "from sklearn.linear_model import LogisticRegression\n",
        "from sklearn.metrics import accuracy_score\n",
        "from sklearn.metrics import confusion_matrix\n",
        "\n",
        "logreg = LogisticRegression()\n",
        "\n",
        "logreg.fit(x_train, y_train)\n",
        "\n",
        "\n",
        "pred = logreg.predict(x_test)\n",
        "\n",
        "\n",
        "print(\"Accuracy: {}\".format(round(accuracy_score(y_test, pred), 8)))"
      ]
    },
    {
      "cell_type": "code",
      "execution_count": 101,
      "metadata": {
        "id": "FzAJ5iW8p-Fp"
      },
      "outputs": [],
      "source": [
        "def confusion_matrix_model(model):\n",
        "    cm = confusion_matrix(y_test, model.predict(x_test))\n",
        "    col = [\"Predicted Dead\", \"Predicted Survived\"]\n",
        "    cm = pd.DataFrame(cm)\n",
        "    cm.columns = col\n",
        "    cm.index = [\"Actual Dead\", \"Actual Survived\"]\n",
        "    cm[col] = np.around(\n",
        "        cm[col].div(cm[col].sum(axis=1), axis=0), decimals=2\n",
        "    )\n",
        "    return cm"
      ]
    },
    {
      "cell_type": "code",
      "execution_count": 102,
      "metadata": {
        "colab": {
          "base_uri": "https://localhost:8080/",
          "height": 112
        },
        "id": "h_Lr6M5Cp-Fp",
        "outputId": "b2e906d0-eb56-431d-c4b3-e19b49b46766"
      },
      "outputs": [
        {
          "output_type": "execute_result",
          "data": {
            "text/plain": [
              "                 Predicted Dead  Predicted Survived\n",
              "Actual Dead                0.85                0.15\n",
              "Actual Survived            0.22                0.78"
            ],
            "text/html": [
              "\n",
              "  <div id=\"df-6019bbc1-219f-47c7-addf-44728a7e38ce\">\n",
              "    <div class=\"colab-df-container\">\n",
              "      <div>\n",
              "<style scoped>\n",
              "    .dataframe tbody tr th:only-of-type {\n",
              "        vertical-align: middle;\n",
              "    }\n",
              "\n",
              "    .dataframe tbody tr th {\n",
              "        vertical-align: top;\n",
              "    }\n",
              "\n",
              "    .dataframe thead th {\n",
              "        text-align: right;\n",
              "    }\n",
              "</style>\n",
              "<table border=\"1\" class=\"dataframe\">\n",
              "  <thead>\n",
              "    <tr style=\"text-align: right;\">\n",
              "      <th></th>\n",
              "      <th>Predicted Dead</th>\n",
              "      <th>Predicted Survived</th>\n",
              "    </tr>\n",
              "  </thead>\n",
              "  <tbody>\n",
              "    <tr>\n",
              "      <th>Actual Dead</th>\n",
              "      <td>0.85</td>\n",
              "      <td>0.15</td>\n",
              "    </tr>\n",
              "    <tr>\n",
              "      <th>Actual Survived</th>\n",
              "      <td>0.22</td>\n",
              "      <td>0.78</td>\n",
              "    </tr>\n",
              "  </tbody>\n",
              "</table>\n",
              "</div>\n",
              "      <button class=\"colab-df-convert\" onclick=\"convertToInteractive('df-6019bbc1-219f-47c7-addf-44728a7e38ce')\"\n",
              "              title=\"Convert this dataframe to an interactive table.\"\n",
              "              style=\"display:none;\">\n",
              "        \n",
              "  <svg xmlns=\"http://www.w3.org/2000/svg\" height=\"24px\"viewBox=\"0 0 24 24\"\n",
              "       width=\"24px\">\n",
              "    <path d=\"M0 0h24v24H0V0z\" fill=\"none\"/>\n",
              "    <path d=\"M18.56 5.44l.94 2.06.94-2.06 2.06-.94-2.06-.94-.94-2.06-.94 2.06-2.06.94zm-11 1L8.5 8.5l.94-2.06 2.06-.94-2.06-.94L8.5 2.5l-.94 2.06-2.06.94zm10 10l.94 2.06.94-2.06 2.06-.94-2.06-.94-.94-2.06-.94 2.06-2.06.94z\"/><path d=\"M17.41 7.96l-1.37-1.37c-.4-.4-.92-.59-1.43-.59-.52 0-1.04.2-1.43.59L10.3 9.45l-7.72 7.72c-.78.78-.78 2.05 0 2.83L4 21.41c.39.39.9.59 1.41.59.51 0 1.02-.2 1.41-.59l7.78-7.78 2.81-2.81c.8-.78.8-2.07 0-2.86zM5.41 20L4 18.59l7.72-7.72 1.47 1.35L5.41 20z\"/>\n",
              "  </svg>\n",
              "      </button>\n",
              "      \n",
              "  <style>\n",
              "    .colab-df-container {\n",
              "      display:flex;\n",
              "      flex-wrap:wrap;\n",
              "      gap: 12px;\n",
              "    }\n",
              "\n",
              "    .colab-df-convert {\n",
              "      background-color: #E8F0FE;\n",
              "      border: none;\n",
              "      border-radius: 50%;\n",
              "      cursor: pointer;\n",
              "      display: none;\n",
              "      fill: #1967D2;\n",
              "      height: 32px;\n",
              "      padding: 0 0 0 0;\n",
              "      width: 32px;\n",
              "    }\n",
              "\n",
              "    .colab-df-convert:hover {\n",
              "      background-color: #E2EBFA;\n",
              "      box-shadow: 0px 1px 2px rgba(60, 64, 67, 0.3), 0px 1px 3px 1px rgba(60, 64, 67, 0.15);\n",
              "      fill: #174EA6;\n",
              "    }\n",
              "\n",
              "    [theme=dark] .colab-df-convert {\n",
              "      background-color: #3B4455;\n",
              "      fill: #D2E3FC;\n",
              "    }\n",
              "\n",
              "    [theme=dark] .colab-df-convert:hover {\n",
              "      background-color: #434B5C;\n",
              "      box-shadow: 0px 1px 3px 1px rgba(0, 0, 0, 0.15);\n",
              "      filter: drop-shadow(0px 1px 2px rgba(0, 0, 0, 0.3));\n",
              "      fill: #FFFFFF;\n",
              "    }\n",
              "  </style>\n",
              "\n",
              "      <script>\n",
              "        const buttonEl =\n",
              "          document.querySelector('#df-6019bbc1-219f-47c7-addf-44728a7e38ce button.colab-df-convert');\n",
              "        buttonEl.style.display =\n",
              "          google.colab.kernel.accessAllowed ? 'block' : 'none';\n",
              "\n",
              "        async function convertToInteractive(key) {\n",
              "          const element = document.querySelector('#df-6019bbc1-219f-47c7-addf-44728a7e38ce');\n",
              "          const dataTable =\n",
              "            await google.colab.kernel.invokeFunction('convertToInteractive',\n",
              "                                                     [key], {});\n",
              "          if (!dataTable) return;\n",
              "\n",
              "          const docLinkHtml = 'Like what you see? Visit the ' +\n",
              "            '<a target=\"_blank\" href=https://colab.research.google.com/notebooks/data_table.ipynb>data table notebook</a>'\n",
              "            + ' to learn more about interactive tables.';\n",
              "          element.innerHTML = '';\n",
              "          dataTable['output_type'] = 'display_data';\n",
              "          await google.colab.output.renderOutput(dataTable, element);\n",
              "          const docLink = document.createElement('div');\n",
              "          docLink.innerHTML = docLinkHtml;\n",
              "          element.appendChild(docLink);\n",
              "        }\n",
              "      </script>\n",
              "    </div>\n",
              "  </div>\n",
              "  "
            ]
          },
          "metadata": {},
          "execution_count": 102
        }
      ],
      "source": [
        "confusion_matrix_model(logreg)"
      ]
    },
    {
      "cell_type": "code",
      "execution_count": 103,
      "metadata": {
        "colab": {
          "base_uri": "https://localhost:8080/",
          "height": 596
        },
        "id": "1qVOcggUp-Fq",
        "outputId": "f3a4bf8e-4940-43cd-871e-6b302f761a91"
      },
      "outputs": [
        {
          "output_type": "stream",
          "name": "stdout",
          "text": [
            "LogisticRegression auc is 0.87378129\n"
          ]
        },
        {
          "output_type": "display_data",
          "data": {
            "text/plain": [
              "<Figure size 720x648 with 1 Axes>"
            ],
            "image/png": "[encoded data removed]"
          },
          "metadata": {}
        }
      ],
      "source": [
        "from sklearn.metrics import roc_curve, auc\n",
        "sns.set_style('whitegrid')\n",
        "\n",
        "y_score = logreg.decision_function(x_test)\n",
        "\n",
        "fpr, tpr, thr = roc_curve(y_test, y_score)\n",
        "\n",
        "roc_auc = auc(fpr, tpr)\n",
        "\n",
        "print(logreg.__class__.__name__+\" auc is %2.8f\" % roc_auc)\n",
        "\n",
        "\n",
        "plt.figure(figsize=[10, 9])\n",
        "plt.plot(fpr, tpr, label='ROC curve(area = %0.2f)' % roc_auc, linewidth=4)\n",
        "plt.plot([0, 1], [0, 1], 'k--', linewidth=4)\n",
        "plt.xlim([0.0, 1.0])\n",
        "plt.ylim([0.0, 1.05])\n",
        "plt.xlabel('False Positive Rate', fontsize=17)\n",
        "plt.ylabel('True Positive Rate', fontsize=17)\n",
        "plt.title('ROC for Logistic Regression (Titanic)', fontsize=17)\n",
        "plt.show()"
      ]
    },
    {
      "cell_type": "code",
      "execution_count": 104,
      "metadata": {
        "colab": {
          "base_uri": "https://localhost:8080/",
          "height": 579
        },
        "id": "lyNItKfMp-Fq",
        "outputId": "90d46531-c4c5-44a6-8cc1-0f7c07b4fb4b"
      },
      "outputs": [
        {
          "output_type": "display_data",
          "data": {
            "text/plain": [
              "<Figure size 792x648 with 1 Axes>"
            ],
            "image/png": "[encoded data removed]"
          },
          "metadata": {}
        }
      ],
      "source": [
        "from sklearn.metrics import precision_recall_curve\n",
        "\n",
        "y_score = logreg.decision_function(x_test)\n",
        "\n",
        "precision, recall, _ = precision_recall_curve(y_test, y_score)\n",
        "PR_AUC = auc(recall, precision)\n",
        "\n",
        "plt.figure(figsize=[11, 9])\n",
        "plt.plot(recall, precision, label='PR curve (area = %0.2f)' %\n",
        "         PR_AUC, linewidth=4)\n",
        "plt.xlabel('Recall', fontsize=18)\n",
        "plt.ylabel('Precision', fontsize=18)\n",
        "plt.title('Precision Recall Curve for Titanic survivors', fontsize=18)\n",
        "plt.legend(loc=\"lower right\")\n",
        "plt.show()\n"
      ]
    },
    {
      "cell_type": "markdown",
      "metadata": {
        "id": "RmJOBRHBp-Fq"
      },
      "source": [
        "## **Cross-Validation**\n",
        "--- It is also called rotational estimation or out of sampling testing.\n",
        "--- It is resampling method that uses different portions of thedata to test and train a mdel on different iterations.\n"
      ]
    },
    {
      "cell_type": "code",
      "execution_count": 105,
      "metadata": {
        "id": "S4wtkS_gp-Fq"
      },
      "outputs": [],
      "source": [
        "from sklearn.model_selection import KFold\n",
        "k_fold = KFold(n_splits=10, shuffle=True, random_state=0)"
      ]
    },
    {
      "cell_type": "code",
      "execution_count": 106,
      "metadata": {
        "id": "8hxrEfaIp-Fr"
      },
      "outputs": [],
      "source": [
        "x = train_set\n",
        "y = train_set_sur"
      ]
    },
    {
      "cell_type": "code",
      "execution_count": 107,
      "metadata": {
        "id": "hEbhCDb9p-Fr"
      },
      "outputs": [],
      "source": [
        "x = std.fit_transform(x)"
      ]
    },
    {
      "cell_type": "code",
      "execution_count": 108,
      "metadata": {
        "id": "FbzvZs4lp-Fr"
      },
      "outputs": [],
      "source": [
        "from sklearn.model_selection import cross_val_score\n",
        "\n",
        "def acc_score(model):\n",
        "    return np.mean(cross_val_score(model, x, y, cv=k_fold, scoring=\"accuracy\"))"
      ]
    },
    {
      "cell_type": "code",
      "execution_count": 109,
      "metadata": {
        "colab": {
          "base_uri": "https://localhost:8080/"
        },
        "id": "a2lNN269p-Fr",
        "outputId": "e6718513-9ac8-4004-e3e9-89b5204c44af"
      },
      "outputs": [
        {
          "output_type": "stream",
          "name": "stdout",
          "text": [
            "Accuracy Scores: [0.87777778 0.80898876 0.82022472 0.82022472 0.80898876 0.80898876\n",
            " 0.83146067 0.84269663 0.79775281 0.87640449]\n",
            "\n",
            "\n",
            "Mean Accuracy Score: 0.8293508114856429\n",
            "Standard Deviation:  0.02674065504776722\n"
          ]
        }
      ],
      "source": [
        "log_reg = LogisticRegression()\n",
        "\n",
        "print(\"Accuracy Scores: \" + format(cross_val_score(log_reg, x, y, cv=k_fold, scoring=\"accuracy\")))\n",
        "\n",
        "print(\"\\n\")\n",
        "\n",
        "print(\"Mean Accuracy Score: \" + str(acc_score(log_reg)))\n",
        "\n",
        "print(\"Standard Deviation: \", cross_val_score(log_reg, x, y, cv=k_fold, scoring=\"accuracy\").std())"
      ]
    },
    {
      "cell_type": "code",
      "execution_count": 110,
      "metadata": {
        "colab": {
          "base_uri": "https://localhost:8080/"
        },
        "id": "XnYXMxiOp-Fs",
        "outputId": "c856511f-73f7-420c-f53c-439ba9e5611b"
      },
      "outputs": [
        {
          "output_type": "stream",
          "name": "stdout",
          "text": [
            "AUC score for 10 fold cross validation: [0.9089995  0.84067797 0.83147942 0.85324948 0.89008363 0.83036707\n",
            " 0.83333333 0.90378198 0.87948718 0.91438703]\n",
            "Mean AUC score for 10 fold Cross Validation: 0.8685846591559947\n"
          ]
        }
      ],
      "source": [
        "scores_auc = cross_val_score(log_reg, x, y, cv=k_fold, scoring=\"roc_auc\")\n",
        "\n",
        "print(\"AUC score for 10 fold cross validation:\", scores_auc)\n",
        "\n",
        "print(\"Mean AUC score for 10 fold Cross Validation:\", scores_auc.mean())"
      ]
    },
    {
      "cell_type": "markdown",
      "metadata": {
        "id": "0dTpdgRWhv4L"
      },
      "source": [
        "## **Conclusion**"
      ]
    },
    {
      "cell_type": "markdown",
      "metadata": {
        "id": "lPVEdwKCh1yD"
      },
      "source": [
        "--- In conclusion, 80% of the data was used to train while the remaining 20% was used to train the data.\n",
        "---It was discovered that 38% of people survived during the Titanic disaster. Also linear regression model gave an accuracy of 82%."
      ]
    }
  ],
  "metadata": {
    "colab": {
      "provenance": [],
      "collapsed_sections": [
        "CmLOSw8Rp-FA",
        "ZfqTOPqwp-Fb",
        "Z9VHWIp4p-Fg"
      ],
      "include_colab_link": true
    },
    "kernelspec": {
      "display_name": "Python 3",
      "language": "python",
      "name": "python3"
    },
    "language_info": {
      "codemirror_mode": {
        "name": "ipython",
        "version": 3
      },
      "file_extension": ".py",
      "mimetype": "text/x-python",
      "name": "python",
      "nbconvert_exporter": "python",
      "pygments_lexer": "ipython3",
      "version": "3.7.3"
    },
    "vscode": {
      "interpreter": {
        "hash": "8df71d7f3ee6b5c4895fa0a092f36c0c32600308d0bab5cd17897624831d76d3"
      }
    }
  },
  "nbformat": 4,
  "nbformat_minor": 0
}